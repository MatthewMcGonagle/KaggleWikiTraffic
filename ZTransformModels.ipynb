{
 "cells": [
  {
   "cell_type": "code",
   "execution_count": 1,
   "metadata": {
    "collapsed": true
   },
   "outputs": [],
   "source": [
    "# The idea is to use nWindows (say 3), and look at dependency upon sorting by window_mean.\n",
    "\n",
    "# Note that key_1.csv shows that we are supposed to predict about 2 months worth of future data based on data\n",
    "# lasting from 2015-07-01 to 2016-12-31."
   ]
  },
  {
   "cell_type": "code",
   "execution_count": 2,
   "metadata": {
    "collapsed": true
   },
   "outputs": [],
   "source": [
    "import pandas as pd\n",
    "import numpy as np\n",
    "import re\n",
    "import seaborn as sns\n",
    "from matplotlib import pyplot as plt\n",
    "from sklearn.model_selection import (train_test_split, cross_val_score)\n",
    "from sklearn.preprocessing import (PolynomialFeatures, FunctionTransformer, StandardScaler)\n",
    "from sklearn.pipeline import (make_pipeline, make_union, Pipeline, FeatureUnion)\n",
    "from sklearn.linear_model import LinearRegression\n",
    "from sklearn.metrics import mean_squared_error\n",
    "from sklearn.neural_network import MLPRegressor\n",
    "from sklearn.tree import DecisionTreeRegressor"
   ]
  },
  {
   "cell_type": "code",
   "execution_count": 3,
   "metadata": {},
   "outputs": [
    {
     "data": {
      "image/png": "[encoded data removed]",
      "text/plain": [
       "<matplotlib.figure.Figure at 0x2b66bef9630>"
      ]
     },
     "metadata": {},
     "output_type": "display_data"
    }
   ],
   "source": [
    "# Reference for performace measured by reference function. For a term |y_test - y_predict| / (|y_test| + |y_predict|) * 2 * 100,\n",
    "# we look at when y_predict = alpha * y_test. Look at term as a function of alpha.\n",
    "\n",
    "alpha = np.arange(0.0, 6.0, 0.1)\n",
    "num = np.abs(1 - alpha)\n",
    "denom = 1 + np.abs(alpha)\n",
    "smapeVals = num / denom * 2 * 100\n",
    "\n",
    "plt.plot(alpha, smapeVals)\n",
    "plt.show()"
   ]
  },
  {
   "cell_type": "code",
   "execution_count": 4,
   "metadata": {},
   "outputs": [
    {
     "data": {
      "text/plain": [
       "(145063, 551)"
      ]
     },
     "execution_count": 4,
     "metadata": {},
     "output_type": "execute_result"
    }
   ],
   "source": [
    "all_df = pd.read_csv('train_1.csv')\n",
    "all_df.shape"
   ]
  },
  {
   "cell_type": "code",
   "execution_count": 5,
   "metadata": {
    "collapsed": true
   },
   "outputs": [],
   "source": [
    "# For now, just set all NaN to 0.\n",
    "\n",
    "all_df.fillna(0, inplace = True)"
   ]
  },
  {
   "cell_type": "code",
   "execution_count": 6,
   "metadata": {
    "collapsed": true
   },
   "outputs": [],
   "source": [
    "futureT = 64\n",
    "\n",
    "X_all = all_df.drop('Page', axis = 1).values[:, :-futureT]\n",
    "Y_all = all_df.drop('Page', axis = 1).values[:, -futureT:]"
   ]
  },
  {
   "cell_type": "code",
   "execution_count": 7,
   "metadata": {},
   "outputs": [
    {
     "name": "stdout",
     "output_type": "stream",
     "text": [
      "X_train.shape =  (65118, 486) \tX_valid.shape =  (32074, 486) \tX_test.shape =  (47871, 486)\n",
      "Y_train.shape =  (65118, 64) \tY_valid.shape =  (32074, 64) \tY_test.shape =  (47871, 64)\n"
     ]
    }
   ],
   "source": [
    "X_trainvalid, X_test, Y_trainvalid, Y_test = train_test_split(X_all, Y_all, test_size = 0.33, random_state = 32)\n",
    "X_train, X_valid, Y_train, Y_valid = train_test_split(X_trainvalid, Y_trainvalid, test_size = 0.33, random_state = 35)\n",
    "\n",
    "print('X_train.shape = ', X_train.shape, '\\tX_valid.shape = ', X_valid.shape, '\\tX_test.shape = ', X_test.shape)\n",
    "print('Y_train.shape = ', Y_train.shape, '\\tY_valid.shape = ', Y_valid.shape, '\\tY_test.shape = ', Y_test.shape)"
   ]
  },
  {
   "cell_type": "code",
   "execution_count": 41,
   "metadata": {
    "collapsed": true
   },
   "outputs": [],
   "source": [
    "def smape(Y_predict, Y_test):\n",
    "    result = np.linalg.norm(Y_predict - Y_test, axis = 1)\n",
    "    result = np.abs(result)\n",
    "    denom = np.linalg.norm(Y_predict, axis = 1)\n",
    "    denom += np.linalg.norm(Y_test, axis = 1)\n",
    "    result /= denom\n",
    "    result *= 100 * 2\n",
    "    result = np.mean(result)\n",
    "    return result\n",
    "\n",
    "def smape_scorer(estimator, X, Y):\n",
    "    Ypredict = estimator.predict(X)\n",
    "    result = smape(Y, Ypredict)\n",
    "    return -result\n",
    "\n",
    "def window_means(X, nWindows, windowSize):\n",
    "    nSamples, nTimes = X.shape\n",
    "    means = np.empty((nSamples, 0))\n",
    "    for i in range(nWindows):\n",
    "        newCol = X[:, nTimes - 1 - (i+1) * windowSize : nTimes - 1 - i * windowSize].mean(axis = 1, keepdims = True)\n",
    "        means = np.hstack((means, newCol))\n",
    "    return means\n",
    "\n",
    "def all_features(X, nWindows, windowSize):\n",
    "    nSamples, nTimes = X.shape\n",
    "    means = window_means(X, nWindows, windowSize)\n",
    "    linear = np.empty((nSamples, 0))\n",
    "    \n",
    "    # Make linear and quadratic arrays orthogonal to each other.\n",
    "    const = np.full(windowSize, 1 / np.sqrt(windowSize))\n",
    "    lin = np.arange(windowSize) - (windowSize - 1) / 2\n",
    "    \n",
    "    for i in range(nWindows):\n",
    "        X_window = X[:, nTimes - 1 - (i + 1)*windowSize : nTimes - 1 - i * windowSize]\n",
    "        newCol = np.dot(X_window, lin).reshape(-1,1)\n",
    "        means = np.hstack((means, newCol))\n",
    "        \n",
    "    return means"
   ]
  },
  {
   "cell_type": "code",
   "execution_count": 13,
   "metadata": {},
   "outputs": [
    {
     "name": "stdout",
     "output_type": "stream",
     "text": [
      "smape =  82.7346628249\n"
     ]
    }
   ],
   "source": [
    "# Let's try decision tree on different window means.\n",
    "\n",
    "def Ztransform(Y, param):\n",
    "    return np.log(param + Y)\n",
    "\n",
    "def inverseZ(Z, param):\n",
    "    return -param + np.exp(Z)\n",
    "\n",
    "param = 15\n",
    "Z_train = Ztransform(Y_train, param)\n",
    "Z_valid = Ztransform(Y_valid, param)\n",
    "\n",
    "model = Pipeline([ ('means', FunctionTransformer(window_means, kw_args = {'nWindows' : 3, 'windowSize' : 150})),\n",
    "                   ('tree', DecisionTreeRegressor(max_depth = 10)) ])\n",
    "model.fit(X_train, Z_train)\n",
    "Z_predict = model.predict(X_valid)\n",
    "Y_predict = inverseZ(Z_predict, param)\n",
    "print('smape = ', smape(1e-6 + Y_predict, Y_valid))"
   ]
  },
  {
   "cell_type": "code",
   "execution_count": 15,
   "metadata": {},
   "outputs": [
    {
     "name": "stdout",
     "output_type": "stream",
     "text": [
      "param 1 \tsmape =  83.6524856405param 4 \tsmape =  83.3910174578param 7 \tsmape =  83.1425505881param 10 \tsmape =  82.9541523974param 13 \tsmape =  82.8200128117param 16 \tsmape =  82.6895712717param 19 \tsmape =  82.7273382932param 22 \tsmape =  82.8421652862param 25 \tsmape =  82.8160540403param 28 \tsmape =  82.8427152682"
     ]
    },
    {
     "data": {
      "image/png": "[encoded data removed]",
      "text/plain": [
       "<matplotlib.figure.Figure at 0x2b67f7509b0>"
      ]
     },
     "metadata": {},
     "output_type": "display_data"
    }
   ],
   "source": [
    "# Let's try parameter search.\n",
    "\n",
    "param_search = np.arange(1, 30, 3)\n",
    "smapes = []\n",
    "for param in param_search:\n",
    "    Z_train = Ztransform(Y_train, param)\n",
    "    Z_valid = Ztransform(Y_valid, param)\n",
    "    model.fit(X_train, Z_train)\n",
    "    Z_predict = model.predict(X_valid)\n",
    "    Y_predict = inverseZ(Z_predict, param)\n",
    "    newsmape = smape(1e-6 + Y_predict, Y_valid)\n",
    "    print('param', param, '\\tsmape = ', newsmape, end = '')\n",
    "    smapes.append(newsmape)\n",
    "plt.plot(param_search, smapes)\n",
    "plt.show()"
   ]
  },
  {
   "cell_type": "code",
   "execution_count": 17,
   "metadata": {},
   "outputs": [
    {
     "name": "stdout",
     "output_type": "stream",
     "text": [
      "depth 7 \tsmape =  83.1881898567depth 8 \tsmape =  82.7730816021depth 9 \tsmape =  82.7586300525depth 10 \tsmape =  82.7044908517depth 11 \tsmape =  83.1726648796depth 12 \tsmape =  83.7438387558"
     ]
    },
    {
     "data": {
      "image/png": "[encoded data removed]",
      "text/plain": [
       "<matplotlib.figure.Figure at 0x2b66c038860>"
      ]
     },
     "metadata": {},
     "output_type": "display_data"
    }
   ],
   "source": [
    "# Let's try parameter search.\n",
    "\n",
    "depth_search = np.arange(7, 13, 1)\n",
    "param = 16\n",
    "smapes = []\n",
    "for depth in depth_search:\n",
    "    Z_train = Ztransform(Y_train, param)\n",
    "    Z_valid = Ztransform(Y_valid, param)\n",
    "    model.set_params(tree__max_depth = depth)\n",
    "    model.fit(X_train, Z_train)\n",
    "    Z_predict = model.predict(X_valid)\n",
    "    Y_predict = inverseZ(Z_predict, param)\n",
    "    newsmape = smape(1e-6 + Y_predict, Y_valid)\n",
    "    print('depth', depth, '\\tsmape = ', newsmape, end = '')\n",
    "    smapes.append(newsmape)\n",
    "plt.plot(depth_search, smapes)\n",
    "plt.show()"
   ]
  },
  {
   "cell_type": "code",
   "execution_count": 42,
   "metadata": {},
   "outputs": [
    {
     "name": "stdout",
     "output_type": "stream",
     "text": [
      "smape =  80.893475202\n"
     ]
    }
   ],
   "source": [
    "# Let's try decision tree on different window means.\n",
    "\n",
    "def Ztransform(Y, param):\n",
    "    return np.log(param + Y)\n",
    "\n",
    "def inverseZ(Z, param):\n",
    "    return -param + np.exp(Z)\n",
    "\n",
    "param = 15\n",
    "Z_train = Ztransform(Y_train, param)\n",
    "Z_valid = Ztransform(Y_valid, param)\n",
    "\n",
    "model = Pipeline([ ('means', FunctionTransformer(all_features, kw_args = {'nWindows' : 3, 'windowSize' : 150})),\n",
    "                   ('tree', DecisionTreeRegressor(max_depth = 10)) ])\n",
    "model.fit(X_train, Z_train)\n",
    "Z_predict = model.predict(X_valid)\n",
    "Y_predict = inverseZ(Z_predict, param)\n",
    "print('smape = ', smape(1e-6 + Y_predict, Y_valid))"
   ]
  },
  {
   "cell_type": "code",
   "execution_count": null,
   "metadata": {
    "collapsed": true
   },
   "outputs": [],
   "source": []
  }
 ],
 "metadata": {
  "kernelspec": {
   "display_name": "Python 3",
   "language": "python",
   "name": "python3"
  },
  "language_info": {
   "codemirror_mode": {
    "name": "ipython",
    "version": 3
   },
   "file_extension": ".py",
   "mimetype": "text/x-python",
   "name": "python",
   "nbconvert_exporter": "python",
   "pygments_lexer": "ipython3",
   "version": "3.5.2"
  }
 },
 "nbformat": 4,
 "nbformat_minor": 2
}
