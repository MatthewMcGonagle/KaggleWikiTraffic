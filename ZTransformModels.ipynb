{
 "cells": [
  {
   "cell_type": "code",
   "execution_count": 1,
   "metadata": {
    "collapsed": true
   },
   "outputs": [],
   "source": [
    "# The idea is to use nWindows (say 3), and look at dependency upon sorting by window_mean.\n",
    "\n",
    "# Note that key_1.csv shows that we are supposed to predict about 2 months worth of future data based on data\n",
    "# lasting from 2015-07-01 to 2016-12-31."
   ]
  },
  {
   "cell_type": "code",
   "execution_count": 2,
   "metadata": {
    "collapsed": true
   },
   "outputs": [],
   "source": [
    "import pandas as pd\n",
    "import numpy as np\n",
    "import re\n",
    "import seaborn as sns\n",
    "from matplotlib import pyplot as plt\n",
    "from sklearn.model_selection import (train_test_split, cross_val_score)\n",
    "from sklearn.preprocessing import (PolynomialFeatures, FunctionTransformer, StandardScaler)\n",
    "from sklearn.pipeline import (make_pipeline, make_union, Pipeline, FeatureUnion)\n",
    "from sklearn.linear_model import LinearRegression\n",
    "from sklearn.metrics import mean_squared_error\n",
    "from sklearn.neural_network import MLPRegressor\n",
    "from sklearn.tree import DecisionTreeRegressor\n",
    "from sklearn.neighbors import KNeighborsRegressor"
   ]
  },
  {
   "cell_type": "code",
   "execution_count": 3,
   "metadata": {},
   "outputs": [
    {
     "data": {
      "image/png": "[encoded data removed]",
      "text/plain": [
       "<matplotlib.figure.Figure at 0x2ed42653be0>"
      ]
     },
     "metadata": {},
     "output_type": "display_data"
    }
   ],
   "source": [
    "# Reference for performace measured by reference function. For a term |y_test - y_predict| / (|y_test| + |y_predict|) * 2 * 100,\n",
    "# we look at when y_predict = alpha * y_test. Look at term as a function of alpha.\n",
    "\n",
    "alpha = np.arange(0.0, 6.0, 0.1)\n",
    "num = np.abs(1 - alpha)\n",
    "denom = 1 + np.abs(alpha)\n",
    "smapeVals = num / denom * 2 * 100\n",
    "\n",
    "plt.plot(alpha, smapeVals)\n",
    "plt.show()"
   ]
  },
  {
   "cell_type": "code",
   "execution_count": 4,
   "metadata": {},
   "outputs": [
    {
     "data": {
      "text/plain": [
       "(145063, 551)"
      ]
     },
     "execution_count": 4,
     "metadata": {},
     "output_type": "execute_result"
    }
   ],
   "source": [
    "all_df = pd.read_csv('train_1.csv')\n",
    "all_df.shape"
   ]
  },
  {
   "cell_type": "code",
   "execution_count": 5,
   "metadata": {
    "collapsed": true
   },
   "outputs": [],
   "source": [
    "# For now, just set all NaN to 0.\n",
    "\n",
    "all_df.fillna(0, inplace = True)"
   ]
  },
  {
   "cell_type": "code",
   "execution_count": 6,
   "metadata": {},
   "outputs": [
    {
     "data": {
      "text/html": [
       "<div>\n",
       "<table border=\"1\" class=\"dataframe\">\n",
       "  <thead>\n",
       "    <tr style=\"text-align: right;\">\n",
       "      <th></th>\n",
       "      <th>Page</th>\n",
       "      <th>name</th>\n",
       "      <th>project</th>\n",
       "      <th>access</th>\n",
       "      <th>agent</th>\n",
       "      <th>2015-07-01</th>\n",
       "      <th>2015-07-02</th>\n",
       "      <th>2015-07-03</th>\n",
       "      <th>2015-07-04</th>\n",
       "      <th>2015-07-05</th>\n",
       "      <th>...</th>\n",
       "      <th>2016-12-22</th>\n",
       "      <th>2016-12-23</th>\n",
       "      <th>2016-12-24</th>\n",
       "      <th>2016-12-25</th>\n",
       "      <th>2016-12-26</th>\n",
       "      <th>2016-12-27</th>\n",
       "      <th>2016-12-28</th>\n",
       "      <th>2016-12-29</th>\n",
       "      <th>2016-12-30</th>\n",
       "      <th>2016-12-31</th>\n",
       "    </tr>\n",
       "  </thead>\n",
       "  <tbody>\n",
       "    <tr>\n",
       "      <th>0</th>\n",
       "      <td>2NE1_zh.wikipedia.org_all-access_spider</td>\n",
       "      <td>2NE1</td>\n",
       "      <td>9</td>\n",
       "      <td>0</td>\n",
       "      <td>3</td>\n",
       "      <td>18.0</td>\n",
       "      <td>11.0</td>\n",
       "      <td>5.0</td>\n",
       "      <td>13.0</td>\n",
       "      <td>14.0</td>\n",
       "      <td>...</td>\n",
       "      <td>32.0</td>\n",
       "      <td>63.0</td>\n",
       "      <td>15.0</td>\n",
       "      <td>26.0</td>\n",
       "      <td>14.0</td>\n",
       "      <td>20.0</td>\n",
       "      <td>22.0</td>\n",
       "      <td>19.0</td>\n",
       "      <td>18.0</td>\n",
       "      <td>20.0</td>\n",
       "    </tr>\n",
       "    <tr>\n",
       "      <th>1</th>\n",
       "      <td>2PM_zh.wikipedia.org_all-access_spider</td>\n",
       "      <td>2PM</td>\n",
       "      <td>9</td>\n",
       "      <td>0</td>\n",
       "      <td>3</td>\n",
       "      <td>11.0</td>\n",
       "      <td>14.0</td>\n",
       "      <td>15.0</td>\n",
       "      <td>18.0</td>\n",
       "      <td>11.0</td>\n",
       "      <td>...</td>\n",
       "      <td>17.0</td>\n",
       "      <td>42.0</td>\n",
       "      <td>28.0</td>\n",
       "      <td>15.0</td>\n",
       "      <td>9.0</td>\n",
       "      <td>30.0</td>\n",
       "      <td>52.0</td>\n",
       "      <td>45.0</td>\n",
       "      <td>26.0</td>\n",
       "      <td>20.0</td>\n",
       "    </tr>\n",
       "    <tr>\n",
       "      <th>2</th>\n",
       "      <td>3C_zh.wikipedia.org_all-access_spider</td>\n",
       "      <td>3C</td>\n",
       "      <td>9</td>\n",
       "      <td>0</td>\n",
       "      <td>3</td>\n",
       "      <td>1.0</td>\n",
       "      <td>0.0</td>\n",
       "      <td>1.0</td>\n",
       "      <td>1.0</td>\n",
       "      <td>0.0</td>\n",
       "      <td>...</td>\n",
       "      <td>3.0</td>\n",
       "      <td>1.0</td>\n",
       "      <td>1.0</td>\n",
       "      <td>7.0</td>\n",
       "      <td>4.0</td>\n",
       "      <td>4.0</td>\n",
       "      <td>6.0</td>\n",
       "      <td>3.0</td>\n",
       "      <td>4.0</td>\n",
       "      <td>17.0</td>\n",
       "    </tr>\n",
       "  </tbody>\n",
       "</table>\n",
       "<p>3 rows × 555 columns</p>\n",
       "</div>"
      ],
      "text/plain": [
       "                                      Page  name  project  access  agent  \\\n",
       "0  2NE1_zh.wikipedia.org_all-access_spider  2NE1        9       0      3   \n",
       "1   2PM_zh.wikipedia.org_all-access_spider   2PM        9       0      3   \n",
       "2    3C_zh.wikipedia.org_all-access_spider    3C        9       0      3   \n",
       "\n",
       "   2015-07-01  2015-07-02  2015-07-03  2015-07-04  2015-07-05     ...      \\\n",
       "0        18.0        11.0         5.0        13.0        14.0     ...       \n",
       "1        11.0        14.0        15.0        18.0        11.0     ...       \n",
       "2         1.0         0.0         1.0         1.0         0.0     ...       \n",
       "\n",
       "   2016-12-22  2016-12-23  2016-12-24  2016-12-25  2016-12-26  2016-12-27  \\\n",
       "0        32.0        63.0        15.0        26.0        14.0        20.0   \n",
       "1        17.0        42.0        28.0        15.0         9.0        30.0   \n",
       "2         3.0         1.0         1.0         7.0         4.0         4.0   \n",
       "\n",
       "   2016-12-28  2016-12-29  2016-12-30  2016-12-31  \n",
       "0        22.0        19.0        18.0        20.0  \n",
       "1        52.0        45.0        26.0        20.0  \n",
       "2         6.0         3.0         4.0        17.0  \n",
       "\n",
       "[3 rows x 555 columns]"
      ]
     },
     "execution_count": 6,
     "metadata": {},
     "output_type": "execute_result"
    }
   ],
   "source": [
    "urlRegEx = '[^._]+[.]\\w*wiki\\w*[.][^_]+'\n",
    "\n",
    "# Extract info from page\n",
    "\n",
    "pageInfo = []\n",
    "\n",
    "for pageStr in all_df.Page.values:\n",
    "    midSplit = re.split('[_](' + urlRegEx + ')[_]', pageStr)\n",
    "    thisPageInfo = midSplit[:2]\n",
    "    midSplit = re.split('[_]', midSplit[2])\n",
    "    thisPageInfo.extend(midSplit)\n",
    "    \n",
    "    pageInfo.append(thisPageInfo)\n",
    "    \n",
    "# Do a transpose, now in shape nInfo, nSamples\n",
    "\n",
    "pageInfo = [[pageInfo[j][i] for j in range(len(pageInfo))] for i in range(len(pageInfo[0]))]\n",
    "\n",
    "toInfoIndex = {'name' : 0, 'project' : 1, 'access' : 2, 'agent' : 3}\n",
    "colNames = ['name', 'project', 'access', 'agent']\n",
    "\n",
    "# Convert info to numerical\n",
    "\n",
    "for i in range(1, 4):\n",
    "    name = colNames[i]\n",
    "    infoCol = np.array(pageInfo[i])\n",
    "    infoCol_vals = np.unique(infoCol)\n",
    "    infoCol_map = dict(zip(infoCol_vals, np.arange(len(infoCol_vals))))\n",
    "    infoCol = [infoCol_map[x] for x in infoCol]\n",
    "    all_df.insert(i, name, infoCol)\n",
    "\n",
    "all_df.insert(1, 'name', pageInfo[0])\n",
    "all_df[:3]"
   ]
  },
  {
   "cell_type": "code",
   "execution_count": 7,
   "metadata": {},
   "outputs": [
    {
     "data": {
      "text/html": [
       "<div>\n",
       "<table border=\"1\" class=\"dataframe\">\n",
       "  <thead>\n",
       "    <tr style=\"text-align: right;\">\n",
       "      <th></th>\n",
       "      <th>Page</th>\n",
       "      <th>name</th>\n",
       "      <th>project</th>\n",
       "      <th>access</th>\n",
       "      <th>agent</th>\n",
       "      <th>nameHasYear</th>\n",
       "      <th>2015-07-01</th>\n",
       "      <th>2015-07-02</th>\n",
       "      <th>2015-07-03</th>\n",
       "      <th>2015-07-04</th>\n",
       "      <th>...</th>\n",
       "      <th>2016-12-22</th>\n",
       "      <th>2016-12-23</th>\n",
       "      <th>2016-12-24</th>\n",
       "      <th>2016-12-25</th>\n",
       "      <th>2016-12-26</th>\n",
       "      <th>2016-12-27</th>\n",
       "      <th>2016-12-28</th>\n",
       "      <th>2016-12-29</th>\n",
       "      <th>2016-12-30</th>\n",
       "      <th>2016-12-31</th>\n",
       "    </tr>\n",
       "  </thead>\n",
       "  <tbody>\n",
       "    <tr>\n",
       "      <th>0</th>\n",
       "      <td>2NE1_zh.wikipedia.org_all-access_spider</td>\n",
       "      <td>2NE1</td>\n",
       "      <td>9</td>\n",
       "      <td>0</td>\n",
       "      <td>3</td>\n",
       "      <td>0</td>\n",
       "      <td>18.0</td>\n",
       "      <td>11.0</td>\n",
       "      <td>5.0</td>\n",
       "      <td>13.0</td>\n",
       "      <td>...</td>\n",
       "      <td>32.0</td>\n",
       "      <td>63.0</td>\n",
       "      <td>15.0</td>\n",
       "      <td>26.0</td>\n",
       "      <td>14.0</td>\n",
       "      <td>20.0</td>\n",
       "      <td>22.0</td>\n",
       "      <td>19.0</td>\n",
       "      <td>18.0</td>\n",
       "      <td>20.0</td>\n",
       "    </tr>\n",
       "    <tr>\n",
       "      <th>1</th>\n",
       "      <td>2PM_zh.wikipedia.org_all-access_spider</td>\n",
       "      <td>2PM</td>\n",
       "      <td>9</td>\n",
       "      <td>0</td>\n",
       "      <td>3</td>\n",
       "      <td>0</td>\n",
       "      <td>11.0</td>\n",
       "      <td>14.0</td>\n",
       "      <td>15.0</td>\n",
       "      <td>18.0</td>\n",
       "      <td>...</td>\n",
       "      <td>17.0</td>\n",
       "      <td>42.0</td>\n",
       "      <td>28.0</td>\n",
       "      <td>15.0</td>\n",
       "      <td>9.0</td>\n",
       "      <td>30.0</td>\n",
       "      <td>52.0</td>\n",
       "      <td>45.0</td>\n",
       "      <td>26.0</td>\n",
       "      <td>20.0</td>\n",
       "    </tr>\n",
       "    <tr>\n",
       "      <th>2</th>\n",
       "      <td>3C_zh.wikipedia.org_all-access_spider</td>\n",
       "      <td>3C</td>\n",
       "      <td>9</td>\n",
       "      <td>0</td>\n",
       "      <td>3</td>\n",
       "      <td>0</td>\n",
       "      <td>1.0</td>\n",
       "      <td>0.0</td>\n",
       "      <td>1.0</td>\n",
       "      <td>1.0</td>\n",
       "      <td>...</td>\n",
       "      <td>3.0</td>\n",
       "      <td>1.0</td>\n",
       "      <td>1.0</td>\n",
       "      <td>7.0</td>\n",
       "      <td>4.0</td>\n",
       "      <td>4.0</td>\n",
       "      <td>6.0</td>\n",
       "      <td>3.0</td>\n",
       "      <td>4.0</td>\n",
       "      <td>17.0</td>\n",
       "    </tr>\n",
       "  </tbody>\n",
       "</table>\n",
       "<p>3 rows × 556 columns</p>\n",
       "</div>"
      ],
      "text/plain": [
       "                                      Page  name  project  access  agent  \\\n",
       "0  2NE1_zh.wikipedia.org_all-access_spider  2NE1        9       0      3   \n",
       "1   2PM_zh.wikipedia.org_all-access_spider   2PM        9       0      3   \n",
       "2    3C_zh.wikipedia.org_all-access_spider    3C        9       0      3   \n",
       "\n",
       "   nameHasYear  2015-07-01  2015-07-02  2015-07-03  2015-07-04     ...      \\\n",
       "0            0        18.0        11.0         5.0        13.0     ...       \n",
       "1            0        11.0        14.0        15.0        18.0     ...       \n",
       "2            0         1.0         0.0         1.0         1.0     ...       \n",
       "\n",
       "   2016-12-22  2016-12-23  2016-12-24  2016-12-25  2016-12-26  2016-12-27  \\\n",
       "0        32.0        63.0        15.0        26.0        14.0        20.0   \n",
       "1        17.0        42.0        28.0        15.0         9.0        30.0   \n",
       "2         3.0         1.0         1.0         7.0         4.0         4.0   \n",
       "\n",
       "   2016-12-28  2016-12-29  2016-12-30  2016-12-31  \n",
       "0        22.0        19.0        18.0        20.0  \n",
       "1        52.0        45.0        26.0        20.0  \n",
       "2         6.0         3.0         4.0        17.0  \n",
       "\n",
       "[3 rows x 556 columns]"
      ]
     },
     "execution_count": 7,
     "metadata": {},
     "output_type": "execute_result"
    }
   ],
   "source": [
    "# Check if name contains a 4 digit number, perhaps related to name containing a year.\n",
    "\n",
    "hasFourDigit = []\n",
    "for name in all_df['name']:\n",
    "    thisHave = re.match(r'(\\b|\\D)\\d\\d\\d\\d(\\b|\\D)', name)\n",
    "    if thisHave == None:\n",
    "        hasFourDigit.append(0)\n",
    "    else:\n",
    "        hasFourDigit.append(1)\n",
    "        \n",
    "all_df.insert(5, 'nameHasYear', hasFourDigit)\n",
    "\n",
    "all_df[:3]"
   ]
  },
  {
   "cell_type": "code",
   "execution_count": 8,
   "metadata": {
    "collapsed": true
   },
   "outputs": [],
   "source": [
    "futureT = 64\n",
    "\n",
    "X_all = all_df.drop(['Page', 'name'], axis = 1).values[:, :-futureT]\n",
    "Y_all = all_df.drop(['Page', 'name'], axis = 1).values[:, -futureT:]"
   ]
  },
  {
   "cell_type": "code",
   "execution_count": 9,
   "metadata": {},
   "outputs": [
    {
     "name": "stdout",
     "output_type": "stream",
     "text": [
      "X_train.shape =  (65118, 490) \tX_valid.shape =  (32074, 490) \tX_test.shape =  (47871, 490)\n",
      "Y_train.shape =  (65118, 64) \tY_valid.shape =  (32074, 64) \tY_test.shape =  (47871, 64)\n"
     ]
    }
   ],
   "source": [
    "X_trainvalid, X_test, Y_trainvalid, Y_test = train_test_split(X_all, Y_all, test_size = 0.33, random_state = 32)\n",
    "X_train, X_valid, Y_train, Y_valid = train_test_split(X_trainvalid, Y_trainvalid, test_size = 0.33, random_state = 35)\n",
    "\n",
    "print('X_train.shape = ', X_train.shape, '\\tX_valid.shape = ', X_valid.shape, '\\tX_test.shape = ', X_test.shape)\n",
    "print('Y_train.shape = ', Y_train.shape, '\\tY_valid.shape = ', Y_valid.shape, '\\tY_test.shape = ', Y_test.shape)"
   ]
  },
  {
   "cell_type": "code",
   "execution_count": 10,
   "metadata": {
    "collapsed": true
   },
   "outputs": [],
   "source": [
    "def smape(Y_predict, Y_test):\n",
    "    result = np.linalg.norm(Y_predict - Y_test, axis = 1)\n",
    "    result = np.abs(result)\n",
    "    denom = np.linalg.norm(Y_predict, axis = 1)\n",
    "    denom += np.linalg.norm(Y_test, axis = 1)\n",
    "    result /= denom\n",
    "    result *= 100 * 2\n",
    "    result = np.mean(result)\n",
    "    return result\n",
    "\n",
    "def smape_scorer(estimator, X, Y):\n",
    "    Ypredict = estimator.predict(X)\n",
    "    result = smape(Y, Ypredict)\n",
    "    return -result\n",
    "\n",
    "def window_means(X, nWindows, windowSize):\n",
    "    nSamples, nTimes = X.shape\n",
    "    means = np.empty((nSamples, 0))\n",
    "    for i in range(nWindows):\n",
    "        newCol = X[:, nTimes - 1 - (i+1) * windowSize : nTimes - 1 - i * windowSize].mean(axis = 1, keepdims = True)\n",
    "        means = np.hstack((means, newCol))\n",
    "    return means\n",
    "\n",
    "def all_window_features(X, nWindows, windowSize):\n",
    "    nSamples, nTimes = X.shape\n",
    "    features = window_means(X, nWindows, windowSize)\n",
    "    linear = np.empty((nSamples, 0))\n",
    "    \n",
    "    # Make linear and quadratic arrays orthogonal to each other.\n",
    "    const = np.full(windowSize, 1 / np.sqrt(windowSize))\n",
    "    lin = np.arange(windowSize) - (windowSize - 1) / 2\n",
    "    \n",
    "    for i in range(nWindows):\n",
    "        X_window = X[:, nTimes - 1 - (i + 1)*windowSize : nTimes - 1 - i * windowSize]\n",
    "        newCol = np.dot(X_window, lin).reshape(-1,1)\n",
    "        features = np.hstack((features, newCol))\n",
    "        \n",
    "    return features\n",
    "\n",
    "def all_features(X, nWindows, windowSize):\n",
    "    features = X[:, 0:4]\n",
    "    window_feat = all_window_features(X[:, 4:], nWindows, windowSize)\n",
    "    features = np.hstack((features, window_feat))\n",
    "    return features\n",
    "    "
   ]
  },
  {
   "cell_type": "code",
   "execution_count": null,
   "metadata": {},
   "outputs": [],
   "source": [
    "# Let's try decision tree on different window means.\n",
    "\n",
    "def Ztransform(Y, param):\n",
    "    return np.log(param + Y)\n",
    "\n",
    "def inverseZ(Z, param):\n",
    "    return -param + np.exp(Z)\n",
    "\n",
    "param = 15\n",
    "Z_train = Ztransform(Y_train, param)\n",
    "Z_valid = Ztransform(Y_valid, param)\n",
    "\n",
    "model = Pipeline([ ('means', FunctionTransformer(window_means, kw_args = {'nWindows' : 3, 'windowSize' : 150})),\n",
    "                   ('tree', DecisionTreeRegressor(max_depth = 10)) ])\n",
    "model.fit(X_train, Z_train)\n",
    "Z_predict = model.predict(X_valid)\n",
    "Y_predict = inverseZ(Z_predict, param)\n",
    "print('smape = ', smape(1e-6 + Y_predict, Y_valid))"
   ]
  },
  {
   "cell_type": "code",
   "execution_count": null,
   "metadata": {},
   "outputs": [],
   "source": [
    "# Let's try parameter search.\n",
    "\n",
    "param_search = np.arange(1, 30, 3)\n",
    "smapes = []\n",
    "for param in param_search:\n",
    "    Z_train = Ztransform(Y_train, param)\n",
    "    Z_valid = Ztransform(Y_valid, param)\n",
    "    model.fit(X_train, Z_train)\n",
    "    Z_predict = model.predict(X_valid)\n",
    "    Y_predict = inverseZ(Z_predict, param)\n",
    "    newsmape = smape(1e-6 + Y_predict, Y_valid)\n",
    "    print('param', param, '\\tsmape = ', newsmape, end = '')\n",
    "    smapes.append(newsmape)\n",
    "plt.plot(param_search, smapes)\n",
    "plt.show()"
   ]
  },
  {
   "cell_type": "code",
   "execution_count": null,
   "metadata": {},
   "outputs": [],
   "source": [
    "# Let's try parameter search.\n",
    "\n",
    "depth_search = np.arange(7, 13, 1)\n",
    "param = 16\n",
    "smapes = []\n",
    "for depth in depth_search:\n",
    "    Z_train = Ztransform(Y_train, param)\n",
    "    Z_valid = Ztransform(Y_valid, param)\n",
    "    model.set_params(tree__max_depth = depth)\n",
    "    model.fit(X_train, Z_train)\n",
    "    Z_predict = model.predict(X_valid)\n",
    "    Y_predict = inverseZ(Z_predict, param)\n",
    "    newsmape = smape(1e-6 + Y_predict, Y_valid)\n",
    "    print('depth', depth, '\\tsmape = ', newsmape, end = '')\n",
    "    smapes.append(newsmape)\n",
    "plt.plot(depth_search, smapes)\n",
    "plt.show()"
   ]
  },
  {
   "cell_type": "code",
   "execution_count": null,
   "metadata": {},
   "outputs": [],
   "source": [
    "# Let's try decision tree on different window means.\n",
    "\n",
    "def Ztransform(Y, param):\n",
    "    return np.log(param + Y)\n",
    "\n",
    "def inverseZ(Z, param):\n",
    "    return -param + np.exp(Z)\n",
    "\n",
    "param = 15\n",
    "Z_train = Ztransform(Y_train, param)\n",
    "Z_valid = Ztransform(Y_valid, param)\n",
    "print(Z_train.shape, X_train.shape, Z_valid.shape)\n",
    "\n",
    "model = Pipeline([ ('drop', FunctionTransformer(lambda X : X[:, 3:])),\n",
    "                   ('means', FunctionTransformer(all_window_features, kw_args = {'nWindows' : 3, 'windowSize' : 150})),\n",
    "                   ('tree', DecisionTreeRegressor(max_depth = 10)) ])\n",
    "model.fit(X_train, Z_train)\n",
    "Z_predict = model.predict(X_valid)\n",
    "Y_predict = inverseZ(Z_predict, param)\n",
    "print('smape = ', smape(1e-6 + Y_predict, Y_valid))"
   ]
  },
  {
   "cell_type": "code",
   "execution_count": 12,
   "metadata": {},
   "outputs": [
    {
     "name": "stdout",
     "output_type": "stream",
     "text": [
      "(65118, 64) (65118, 490) (32074, 64)\n",
      "smape =  80.707964493\n"
     ]
    }
   ],
   "source": [
    "# Let's try decision tree on different window means.\n",
    "\n",
    "def Ztransform(Y, param):\n",
    "    return np.log(param + Y)\n",
    "\n",
    "def inverseZ(Z, param):\n",
    "    return -param + np.exp(Z)\n",
    "\n",
    "param = 15\n",
    "Z_train = Ztransform(Y_train, param)\n",
    "Z_valid = Ztransform(Y_valid, param)\n",
    "print(Z_train.shape, X_train.shape, Z_valid.shape)\n",
    "\n",
    "model = Pipeline([ ('means', FunctionTransformer(all_features, kw_args = {'nWindows' : 3, 'windowSize' : 150})),\n",
    "                   ('tree', DecisionTreeRegressor(max_depth = 10)) ])\n",
    "model.fit(X_train, Z_train)\n",
    "Z_predict = model.predict(X_valid)\n",
    "Y_predict = inverseZ(Z_predict, param)\n",
    "print('smape = ', smape(1e-6 + Y_predict, Y_valid))"
   ]
  },
  {
   "cell_type": "code",
   "execution_count": 18,
   "metadata": {},
   "outputs": [
    {
     "name": "stdout",
     "output_type": "stream",
     "text": [
      "nWindows 1 \tsmape =  86.7001672247nWindows 4 \tsmape =  79.5495486435nWindows 7 \tsmape =  77.7534977134nWindows 10 \tsmape =  76.7317826715nWindows 13 \tsmape =  76.1415760272nWindows 16 \tsmape =  75.8536181413nWindows 19 \tsmape =  75.6544466058nWindows 22 \tsmape =  75.2582771418nWindows 25 \tsmape =  75.2459801041nWindows 28 \tsmape =  75.2180196034nWindows 31 \tsmape =  75.1390092668"
     ]
    },
    {
     "data": {
      "image/png": "[encoded data removed]",
      "text/plain": [
       "<matplotlib.figure.Figure at 0x2ed42ab39b0>"
      ]
     },
     "metadata": {},
     "output_type": "display_data"
    }
   ],
   "source": [
    "# Let's try searching over num windows.\n",
    "\n",
    "nWindows_search = np.arange(1, 32, 3)\n",
    "param = 15\n",
    "smapes = []\n",
    "model = Pipeline([ ('features', FunctionTransformer(all_features)),\n",
    "                   ('tree', DecisionTreeRegressor(max_depth = 10)) ])\n",
    "\n",
    "for nWindows in nWindows_search:\n",
    "    Z_train = Ztransform(Y_train, param)\n",
    "    Z_valid = Ztransform(Y_valid, param)\n",
    "    model.set_params(features__kw_args = {'nWindows' : nWindows, 'windowSize' : int(480 / nWindows)})\n",
    "    model.fit(X_train, Z_train)\n",
    "    Z_predict = model.predict(X_valid)\n",
    "    Y_predict = inverseZ(Z_predict, param)\n",
    "    newsmape = smape(1e-6 + Y_predict, Y_valid)\n",
    "    print('nWindows', nWindows, '\\tsmape = ', newsmape, end = '')\n",
    "    smapes.append(newsmape)\n",
    "plt.plot(nWindows_search, smapes)\n",
    "plt.show()"
   ]
  },
  {
   "cell_type": "code",
   "execution_count": 17,
   "metadata": {},
   "outputs": [
    {
     "name": "stdout",
     "output_type": "stream",
     "text": [
      "smape =  75.1106221495\n"
     ]
    }
   ],
   "source": [
    "# Let's do a test for all features.\n",
    "\n",
    "model = Pipeline([ ('features', FunctionTransformer(all_features)),\n",
    "                   ('tree', DecisionTreeRegressor(max_depth = 10)) ])\n",
    "\n",
    "Z_trainvalid = Ztransform(Y_trainvalid, param)\n",
    "Z_test = Ztransform(Y_test, param)\n",
    "model.set_params(features__kw_args = {'nWindows' : 15, 'windowSize' : int(480 / 15)})\n",
    "model.fit(X_trainvalid, Z_trainvalid)\n",
    "Z_predict = model.predict(X_test)\n",
    "Y_predict = inverseZ(Z_predict, param)\n",
    "newsmape = smape(1e-6 + Y_predict, Y_test)\n",
    "print('smape = ', newsmape)"
   ]
  },
  {
   "cell_type": "code",
   "execution_count": 29,
   "metadata": {},
   "outputs": [
    {
     "name": "stdout",
     "output_type": "stream",
     "text": [
      "nWindows 1 \tsmape =  87.5401252551nWindows 4 \tsmape =  80.1515758256nWindows 7 \tsmape =  78.0940847983nWindows 10 \tsmape =  77.1077125287nWindows 13 \tsmape =  76.4182399584nWindows 16 \tsmape =  76.1949216112nWindows 19 \tsmape =  75.5396731757nWindows 22 \tsmape =  75.8071700434nWindows 25 \tsmape =  75.655366384nWindows 28 \tsmape =  75.459953413nWindows 31 \tsmape =  75.4394677405"
     ]
    },
    {
     "data": {
      "image/png": "[encoded data removed]",
      "text/plain": [
       "<matplotlib.figure.Figure at 0x2ed03d517f0>"
      ]
     },
     "metadata": {},
     "output_type": "display_data"
    }
   ],
   "source": [
    "# Let's try searching over num windows for Z transform based on Cauchy Schwarz Upper Bound for SMAPE terms.\n",
    "\n",
    "nWindows_search = np.arange(1, 32, 3)\n",
    "param = 1250\n",
    "smapes = []\n",
    "model = Pipeline([ ('features', FunctionTransformer(all_features)),\n",
    "                   ('drop', FunctionTransformer(lambda X : X[:, 3:])),\n",
    "                   ('tree', DecisionTreeRegressor(max_depth = 10)) ])\n",
    "\n",
    "epsilon = 1e-6\n",
    "def Ztransform(Y, param):\n",
    "    return (np.sqrt(Y) - np.sqrt(param)) / np.sqrt(Y + param)\n",
    "           \n",
    "def inverseZ(Z, param):\n",
    "    result = -1 - Z * np.sqrt(2  - Z**2)\n",
    "    result /= Z**2 - 1 + epsilon\n",
    "    result = param * result**2\n",
    "    return result\n",
    "\n",
    "for nWindows in nWindows_search:\n",
    "    Z_train = Ztransform(Y_train, param)\n",
    "    Z_valid = Ztransform(Y_valid, param)\n",
    "    model.set_params(features__kw_args = {'nWindows' : nWindows, 'windowSize' : int(480 / nWindows)})\n",
    "    model.fit(X_train, Z_train)\n",
    "    Z_predict = model.predict(X_valid)\n",
    "    Y_predict = inverseZ(Z_predict, param)\n",
    "    newsmape = smape(1e-6 + Y_predict, Y_valid)\n",
    "    print('nWindows', nWindows, '\\tsmape = ', newsmape, end = '')\n",
    "    smapes.append(newsmape)\n",
    "plt.plot(nWindows_search, smapes)\n",
    "plt.show()"
   ]
  },
  {
   "cell_type": "code",
   "execution_count": 14,
   "metadata": {},
   "outputs": [
    {
     "name": "stdout",
     "output_type": "stream",
     "text": [
      "nWindows 1 \tsmape =  87.6012606062nWindows 4 \tsmape =  79.6894351621nWindows 7 \tsmape =  77.8164525659nWindows 10 \tsmape =  76.8907855046nWindows 13 \tsmape =  76.0794443815nWindows 16 \tsmape =  75.9208452218nWindows 19 \tsmape =  75.5389567272nWindows 22 \tsmape =  75.2551551939nWindows 25 \tsmape =  75.3284048909nWindows 28 \tsmape =  75.3217587653nWindows 31 \tsmape =  75.123244648"
     ]
    },
    {
     "data": {
      "image/png": "[encoded data removed]",
      "text/plain": [
       "<matplotlib.figure.Figure at 0x2ed03866a90>"
      ]
     },
     "metadata": {},
     "output_type": "display_data"
    }
   ],
   "source": [
    "# Let's try searching over num windows for just window features.\n",
    "\n",
    "nWindows_search = np.arange(1, 32, 3)\n",
    "param = 15\n",
    "smapes = []\n",
    "model = Pipeline([ ('drop', FunctionTransformer(lambda X : X[:, 4:])),\n",
    "                   ('features', FunctionTransformer(all_window_features)),\n",
    "                   ('tree', DecisionTreeRegressor(max_depth = 10)) ])\n",
    "\n",
    "for nWindows in nWindows_search:\n",
    "    Z_train = Ztransform(Y_train, param)\n",
    "    Z_valid = Ztransform(Y_valid, param)\n",
    "    model.set_params(features__kw_args = {'nWindows' : nWindows, 'windowSize' : int(480 / nWindows)})\n",
    "    model.fit(X_train, Z_train)\n",
    "    Z_predict = model.predict(X_valid)\n",
    "    Y_predict = inverseZ(Z_predict, param)\n",
    "    newsmape = smape(1e-6 + Y_predict, Y_valid)\n",
    "    print('nWindows', nWindows, '\\tsmape = ', newsmape, end = '')\n",
    "    smapes.append(newsmape)\n",
    "plt.plot(nWindows_search, smapes)\n",
    "plt.show()"
   ]
  },
  {
   "cell_type": "code",
   "execution_count": 16,
   "metadata": {},
   "outputs": [
    {
     "name": "stdout",
     "output_type": "stream",
     "text": [
      "smape =  75.1365991794\n"
     ]
    }
   ],
   "source": [
    "# Let's do a test for just window_features and decision tree.\n",
    "\n",
    "model = Pipeline([ ('drop', FunctionTransformer(lambda X : X[:, 4:])),\n",
    "                   ('features', FunctionTransformer(all_window_features)),\n",
    "                   ('tree', DecisionTreeRegressor(max_depth = 10)) ])\n",
    "\n",
    "Z_trainvalid = Ztransform(Y_trainvalid, param)\n",
    "Z_test = Ztransform(Y_test, param)\n",
    "model.set_params(features__kw_args = {'nWindows' : 15, 'windowSize' : int(480 / 15)})\n",
    "model.fit(X_trainvalid, Z_trainvalid)\n",
    "Z_predict = model.predict(X_test)\n",
    "Y_predict = inverseZ(Z_predict, param)\n",
    "newsmape = smape(1e-6 + Y_predict, Y_test)\n",
    "print('smape = ', newsmape)"
   ]
  },
  {
   "cell_type": "code",
   "execution_count": 22,
   "metadata": {},
   "outputs": [
    {
     "name": "stdout",
     "output_type": "stream",
     "text": [
      "nWindows 1 \tsmape =  87.5453990734nWindows 4 \tsmape =  79.6654464599nWindows 7 \tsmape =  77.782151423nWindows 10 \tsmape =  76.8874860393nWindows 13 \tsmape =  76.0191753359nWindows 16 \tsmape =  75.6796419306nWindows 19 \tsmape =  75.4809068764nWindows 22 \tsmape =  75.3246781839nWindows 25 \tsmape =  75.1652204717nWindows 28 \tsmape =  75.4205514401nWindows 31 \tsmape =  75.2017426138"
     ]
    },
    {
     "data": {
      "image/png": "[encoded data removed]",
      "text/plain": [
       "<matplotlib.figure.Figure at 0x2ed03bddb38>"
      ]
     },
     "metadata": {},
     "output_type": "display_data"
    }
   ],
   "source": [
    "# Let's just try windows and whether it contains a year.\n",
    "\n",
    "nWindows_search = np.arange(1, 32, 3)\n",
    "#param = 15\n",
    "param1 = 50\n",
    "param2 = 0.1\n",
    "smapes = []\n",
    "model = Pipeline([ ('features', FunctionTransformer(all_features)),\n",
    "                   ('drop', FunctionTransformer(lambda X : X[:, 3:])),\n",
    "                   ('tree', DecisionTreeRegressor(max_depth = 10)) ])\n",
    "\n",
    "def Ztransform(Y, param1, param2):\n",
    "    return 1 / (param1 + Y)**param2\n",
    "\n",
    "def inverseZ(Z, param1, param2):\n",
    "    return -param1 + 1 / Z**(1/param2)\n",
    "\n",
    "Z_train = Ztransform(Y_train, param1, param2)\n",
    "Z_valid = Ztransform(Y_valid, param1, param2)\n",
    "    \n",
    "for nWindows in nWindows_search:\n",
    "    model.set_params(features__kw_args = {'nWindows' : nWindows, 'windowSize' : int(480 / nWindows)})\n",
    "    model.fit(X_train, Z_train)\n",
    "    Z_predict = model.predict(X_valid)\n",
    "    Y_predict = inverseZ(Z_predict, param1, param2)\n",
    "    newsmape = smape(1e-6 + Y_predict, Y_valid)\n",
    "    print('nWindows', nWindows, '\\tsmape = ', newsmape, end = '')\n",
    "    smapes.append(newsmape)\n",
    "plt.plot(nWindows_search, smapes)\n",
    "plt.show()"
   ]
  },
  {
   "cell_type": "code",
   "execution_count": 31,
   "metadata": {},
   "outputs": [
    {
     "name": "stdout",
     "output_type": "stream",
     "text": [
      "nWindows 1 \tsmape =  86.8952846696nWindows 4 \tsmape =  79.7901072497nWindows 7 \tsmape =  78.1615172881nWindows 10 \tsmape =  77.2388145304nWindows 13 \tsmape =  76.5206085132nWindows 16 \tsmape =  76.1729946476nWindows 19 \tsmape =  75.4592482461nWindows 22 \tsmape =  75.8792366403nWindows 25 \tsmape =  75.7299141562nWindows 28 \tsmape =  75.6270189227nWindows 31 \tsmape =  75.4547838035"
     ]
    },
    {
     "data": {
      "image/png": "[encoded data removed]",
      "text/plain": [
       "<matplotlib.figure.Figure at 0x2ed038d6d30>"
      ]
     },
     "metadata": {},
     "output_type": "display_data"
    }
   ],
   "source": [
    "# Let's add in a sort of window_means\n",
    "\n",
    "nWindows_search = np.arange(1, 32, 3)\n",
    "param = 1250\n",
    "smapes = []\n",
    "sort = FunctionTransformer()\n",
    "model = Pipeline([ ('features', FunctionTransformer(all_features)),\n",
    "                   ('sort', sort),\n",
    "                   ('tree', DecisionTreeRegressor(max_depth = 10)) ])\n",
    "\n",
    "epsilon = 1e-6\n",
    "def Ztransform(Y, param):\n",
    "    return (np.sqrt(Y) - np.sqrt(param)) / np.sqrt(Y + param)\n",
    "           \n",
    "def inverseZ(Z, param):\n",
    "    result = -1 - Z * np.sqrt(2  - Z**2)\n",
    "    result /= Z**2 - 1 + epsilon\n",
    "    result = param * result**2\n",
    "    return result\n",
    "\n",
    "Z_train = Ztransform(Y_train, param)\n",
    "Z_valid = Ztransform(Y_valid, param)\n",
    "\n",
    "for nWindows in nWindows_search:\n",
    "    model.set_params(features__kw_args = {'nWindows' : nWindows, 'windowSize' : int(480 / nWindows)})\n",
    "    sort = FunctionTransformer(lambda X : np.hstack(X[:, 0:4], X[:, 4:4+nWindows][X[:, 4:4+nWinows].sort()],\n",
    "                                                    X[:, 4+nWindows:]))\n",
    "    model.fit(X_train, Z_train)\n",
    "    Z_predict = model.predict(X_valid)\n",
    "    Y_predict = inverseZ(Z_predict, param)\n",
    "    newsmape = smape(1e-6 + Y_predict, Y_valid)\n",
    "    print('nWindows', nWindows, '\\tsmape = ', newsmape, end = '')\n",
    "    smapes.append(newsmape)\n",
    "plt.plot(nWindows_search, smapes)\n",
    "plt.show()"
   ]
  },
  {
   "cell_type": "code",
   "execution_count": 72,
   "metadata": {},
   "outputs": [
    {
     "name": "stdout",
     "output_type": "stream",
     "text": [
      "Iteration 1, loss = 0.09891476\n",
      "Iteration 2, loss = 0.03924351\n",
      "Iteration 3, loss = 0.03018501\n",
      "Iteration 4, loss = 0.02791430\n",
      "Iteration 5, loss = 0.02658305\n",
      "Iteration 6, loss = 0.02451052\n",
      "Iteration 7, loss = 0.02367959\n",
      "Iteration 8, loss = 0.02229360\n",
      "Iteration 9, loss = 0.02156840\n",
      "Iteration 10, loss = 0.02163310\n",
      "Iteration 11, loss = 0.02324822\n",
      "Iteration 12, loss = 0.02052781\n",
      "Iteration 13, loss = 0.02007453\n",
      "Iteration 14, loss = 0.01996091\n",
      "Iteration 15, loss = 0.01937278\n",
      "Iteration 16, loss = 0.01934396\n",
      "Iteration 17, loss = 0.01936209\n",
      "Iteration 18, loss = 0.01835026\n",
      "Iteration 19, loss = 0.01843883\n",
      "Iteration 20, loss = 0.01847123\n",
      "Iteration 21, loss = 0.01830206\n",
      "Training loss did not improve more than tol=0.000100 for two consecutive epochs. Stopping.\n",
      "smape =  86.0665344027\n"
     ]
    }
   ],
   "source": [
    "# Let's try a neural network.\n",
    "\n",
    "param = 1250\n",
    "nWindows = 15\n",
    "windowSize = int(480 / nWindows)\n",
    "\n",
    "model = Pipeline([ ('features', FunctionTransformer(all_features, kw_args = \n",
    "                                                   {'nWindows' : nWindows, 'windowSize' : windowSize})),\n",
    "                   ('scaler', StandardScaler()),\n",
    "                   ('neural', MLPRegressor(verbose = True, learning_rate = 'adaptive')) ])\n",
    "\n",
    "epsilon = 1e-6\n",
    "def Ztransform(Y, param):\n",
    "    return (np.sqrt(Y) - np.sqrt(param)) / np.sqrt(Y + param)\n",
    "           \n",
    "def inverseZ(Z, param):\n",
    "    # First, force Z to be in the domain of the inverse function.\n",
    "    Z = np.maximum(Z, -1)\n",
    "    Z = np.minimum(Z, +1)\n",
    "    result = -1 - Z * np.sqrt(2  - Z**2)\n",
    "    result /= Z**2 - 1 + epsilon\n",
    "    result = param * result**2\n",
    "    return result\n",
    "\n",
    "Z_train = Ztransform(Y_train, param)\n",
    "Z_valid = Ztransform(Y_valid, param)\n",
    "\n",
    "model.fit(X_train, Z_train)\n",
    "Z_predict = model.predict(X_valid)\n",
    "Y_predict = inverseZ(Z_predict, param)\n",
    "newsmape = smape(1e-6 + Y_predict, Y_valid)\n",
    "print('smape = ', newsmape)"
   ]
  },
  {
   "cell_type": "code",
   "execution_count": null,
   "metadata": {
    "collapsed": true
   },
   "outputs": [],
   "source": []
  }
 ],
 "metadata": {
  "kernelspec": {
   "display_name": "Python 3",
   "language": "python",
   "name": "python3"
  },
  "language_info": {
   "codemirror_mode": {
    "name": "ipython",
    "version": 3
   },
   "file_extension": ".py",
   "mimetype": "text/x-python",
   "name": "python",
   "nbconvert_exporter": "python",
   "pygments_lexer": "ipython3",
   "version": "3.5.2"
  }
 },
 "nbformat": 4,
 "nbformat_minor": 2
}
