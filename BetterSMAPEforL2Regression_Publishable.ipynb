{
 "cells": [
  {
   "cell_type": "markdown",
   "metadata": {},
   "source": [
    "# Introduction\n",
    "\n",
    "The purpose of this notebook is to show some simple transformations that allow out of box non-parametric L2 regressors to achieve better SMAPE scores. By default, these algorithms are not optimizing for a better SMAPE score. However, by changing the target variables by an invertible transformation, we can get these algorithms to get closer to optimizing SMAPE. However a transformation alone won't make the algorithm actually optimize on SMAPE. Furthermore, fitting on transformed target variables will change a parametric model (e.g. linear regression), but a non-parametric model (e.g. decision tree or neural network) will be okay as it has no strict structure.\n",
    "\n",
    "For this notebook, we will be using a simple decision tree for our model.\n",
    "\n",
    "# Imports\n",
    "\n",
    "Imports that we will need."
   ]
  },
  {
   "cell_type": "code",
   "execution_count": 14,
   "metadata": {
    "collapsed": true
   },
   "outputs": [],
   "source": [
    "import pandas as pd # Reading csv file\n",
    "import numpy as np # Linear algebra\n",
    "from matplotlib import pyplot as plt # Graphing\n",
    "from sklearn.model_selection import train_test_split # We will do a simple train, validate, test split.\n",
    "from sklearn.preprocessing import FunctionTransformer\n",
    "from sklearn.pipeline import Pipeline\n",
    "from sklearn.linear_model import LinearRegression\n",
    "from sklearn.tree import DecisionTreeRegressor"
   ]
  },
  {
   "cell_type": "markdown",
   "metadata": {},
   "source": [
    "# SMAPE Investigation\n",
    "\n",
    "We won't go into great detail here as there are great resources elsewhere, but here we will just take a look at the nature of SMAPE. First we note that SMAPE measures an average of |p - t| / (|p| + |t|) for scalars p and t. Here, we think of p as being a predicted value and t being a true value. Furthermore, this quantity depends only on the ratio of p and t (with exception being when either are zero). So, let p = r * t. The quantity becomes a function of the single variable r, |1 - r| / (1 + |r|). Let us graph this function for non-negative ratios r."
   ]
  },
  {
   "cell_type": "code",
   "execution_count": 7,
   "metadata": {},
   "outputs": [
    {
     "data": {
      "image/png": "[encoded data removed]",
      "text/plain": [
       "<matplotlib.figure.Figure at 0x28760832978>"
      ]
     },
     "metadata": {},
     "output_type": "display_data"
    }
   ],
   "source": [
    "def ratioSMAPE(r):\n",
    "    return np.abs(1 - r) / (1 + np.abs(r))\n",
    "\n",
    "rvals = np.arange(0, 10, 0.1)\n",
    "plt.plot(rvals, ratioSMAPE(rvals))\n",
    "plt.title('Graph of |1 - r| / (1 + |r|)')\n",
    "plt.show()"
   ]
  },
  {
   "cell_type": "markdown",
   "metadata": {},
   "source": [
    "From the graph we see that when the true values are non-negative (as is the case in our data), we have the following:\n",
    "* SMAPE punishes underpredictions more than over predictions. \n",
    "* As the prediction gets closer closer to 0, the SMAPE error approaches 1. \n",
    "* For over predicitions, as the size of the prediction gets really large, the SMAPE error again approaches 1.\n",
    "\n",
    "We use these properties to guide us towards finding some transformation functions z = f(y) that will let an L2 regression for target z values more closely emulate minimizing SMAPE.\n",
    "\n",
    "# Get the Data"
   ]
  },
  {
   "cell_type": "code",
   "execution_count": 8,
   "metadata": {},
   "outputs": [
    {
     "data": {
      "text/plain": [
       "(145063, 551)"
      ]
     },
     "execution_count": 8,
     "metadata": {},
     "output_type": "execute_result"
    }
   ],
   "source": [
    "all_df = pd.read_csv('train_1.csv')\n",
    "all_df.shape"
   ]
  },
  {
   "cell_type": "markdown",
   "metadata": {},
   "source": [
    "For this notebook, we wish to concentrate on just getting better regression results. So we will simply set every NaN value to 0."
   ]
  },
  {
   "cell_type": "code",
   "execution_count": 9,
   "metadata": {
    "collapsed": true
   },
   "outputs": [],
   "source": [
    "# Set all NaN to 0.\n",
    "\n",
    "all_df.fillna(0, inplace = True)"
   ]
  },
  {
   "cell_type": "markdown",
   "metadata": {},
   "source": [
    "# Dividing the data\n",
    "\n",
    "The competition has us predicting values 64 days into the future. To measure the accuracy of our models, we will simply let the last 64 days of our training data be the target values Y to predict using the data from the previous days X. Also, this notebook is meant to be as simple as possible, so we will not look at extracting features from the Page data. So we will only be using the time series data."
   ]
  },
  {
   "cell_type": "code",
   "execution_count": 11,
   "metadata": {
    "collapsed": true
   },
   "outputs": [],
   "source": [
    "# Separate into training data into features and targets.\n",
    "\n",
    "futureT = 64\n",
    "X_all = all_df.drop('Page', axis = 1).values[:, :-futureT]\n",
    "Y_all = all_df.drop('Page', axis = 1).values[:, -futureT:]"
   ]
  },
  {
   "cell_type": "markdown",
   "metadata": {},
   "source": [
    "For simplicity, we will split our data into a training set, a validation set, and a test set."
   ]
  },
  {
   "cell_type": "code",
   "execution_count": 12,
   "metadata": {},
   "outputs": [
    {
     "name": "stdout",
     "output_type": "stream",
     "text": [
      "X_train.shape =  (65118, 486) \tX_valid.shape =  (32074, 486) \tX_test.shape =  (47871, 486)\n",
      "Y_train.shape =  (65118, 64) \tY_valid.shape =  (32074, 64) \tY_test.shape =  (47871, 64)\n"
     ]
    }
   ],
   "source": [
    "# First split into test and a combination of training and validation.\n",
    "\n",
    "X_trainvalid, X_test, Y_trainvalid, Y_test = train_test_split(X_all, Y_all, test_size = 0.33, random_state = 32)\n",
    "\n",
    "# Now split up the training and validation sets.\n",
    "\n",
    "X_train, X_valid, Y_train, Y_valid = train_test_split(X_trainvalid, Y_trainvalid, test_size = 0.33, random_state = 35)\n",
    "\n",
    "print('X_train.shape = ', X_train.shape, '\\tX_valid.shape = ', X_valid.shape, '\\tX_test.shape = ', X_test.shape)\n",
    "print('Y_train.shape = ', Y_train.shape, '\\tY_valid.shape = ', Y_valid.shape, '\\tY_test.shape = ', Y_test.shape)"
   ]
  },
  {
   "cell_type": "markdown",
   "metadata": {},
   "source": [
    "# Set up SMAPE error function\n",
    "\n",
    "Now we define a SMAPE error function that we will use through out the rest of the notebook."
   ]
  },
  {
   "cell_type": "code",
   "execution_count": 13,
   "metadata": {
    "collapsed": true
   },
   "outputs": [],
   "source": [
    "def smape(Y_predict, Y_test):\n",
    "    result = np.linalg.norm(Y_predict - Y_test, axis = 1)\n",
    "    result = np.abs(result)\n",
    "    denom = np.linalg.norm(Y_predict, axis = 1)\n",
    "    denom += np.linalg.norm(Y_test, axis = 1)\n",
    "    result /= denom\n",
    "    result *= 100 * 2\n",
    "    result = np.mean(result)\n",
    "    return result"
   ]
  },
  {
   "cell_type": "markdown",
   "metadata": {},
   "source": [
    "# Normal L2 Regression Benchmark\n",
    "\n",
    "Here we do a simple L2 Regression using a decision tree on the mean of sample over the entire time history of the time series."
   ]
  },
  {
   "cell_type": "code",
   "execution_count": 39,
   "metadata": {},
   "outputs": [
    {
     "name": "stdout",
     "output_type": "stream",
     "text": [
      "SMAPE =  109.99937889\n"
     ]
    }
   ],
   "source": [
    "model = Pipeline([ ('means', FunctionTransformer(lambda X : X.mean(axis = 1, keepdims = True))),\n",
    "                   ('tree', DecisionTreeRegressor(max_depth = 10)) ])\n",
    "model.fit(X_trainvalid, Y_trainvalid)\n",
    "Y_predict = model.predict(X_test)\n",
    "test_smape = {} # We will be storing all of the results of our tests for comparison in a dictionary.\n",
    "test_smape['benchmark'] = smape(Y_predict, Y_test)\n",
    "print('SMAPE = ', test_smape['benchmark'])"
   ]
  },
  {
   "cell_type": "markdown",
   "metadata": {},
   "source": [
    "# Z Transformation Regressions\n",
    "\n",
    "Now we use simple functions f(Y) to make new target variables Z = f(Y). Then we do regression using the transformed targets Z. To compute the SMAPE score, we invert to get the predicted Y values and then compute the SMAPE score.\n",
    "\n",
    "For each function f(Y), we will actually search over a hyper-parameter to minimize the SMAPE score.\n",
    "\n",
    "## First Z Transformation\n",
    "\n",
    "To motivate the first Z transformation, we consider the mean of the Y values, Y_mean. We plug it into the formula for each term in SMAPE, and we get an average of |y - Y_mean| / (|y| + Y_mean). Fix Y_mean to be a constant C and consider this to be a function of y, that is f(y) = |y - C| / (|y| + C). Now, we should have non-negative y so should be able to ignore the absolute values in the denominator. Let us also ignore the absolute value in the numerator (you can kind of justify this by the fact that the squared nature of L2 means we should have ignored the absolute value from the very beginning). So we are lead to z = f(y) = (y - C) / (y + C) = 1 - 2C / ( y + C ).\n",
    "\n",
    "Now, doing L2 regression for this z is the same as doing L2 regression for the slightly different f(y) = 1 / (y + C) (which we probably could have simply guessed from the very beginning). This has the nice property of making smaller values larger and therefore more punishing for differences in small values. Furthermore, f(y) goes to zero as y gets really large (the main point being it approaches a bounded value)."
   ]
  },
  {
   "cell_type": "code",
   "execution_count": 24,
   "metadata": {
    "collapsed": true
   },
   "outputs": [],
   "source": [
    "# definition of ztransformation.\n",
    "\n",
    "def ztransform1(Y, param):\n",
    "    return 1 / (param + Y)\n",
    "\n",
    "# inverse transformation, Y = inverseZ(Z)\n",
    "\n",
    "def inverseZ1(Z, param):\n",
    "    return -param + 1 / Z"
   ]
  },
  {
   "cell_type": "markdown",
   "metadata": {},
   "source": [
    "Now let us try searching for the optimal value of C to minimize the SMAPE score when doing L2 regression on Z. We will do a simple grid search.\n",
    "\n",
    "Now, sometimes our fit will give a predicted value of 0 while the true value is 0. Our SMAPE function is simple and so it will return a NaN value. Let's bypass this by adding a small value of epsilon to the predicted Y values that will not affect the SMAPE score that much."
   ]
  },
  {
   "cell_type": "code",
   "execution_count": 35,
   "metadata": {},
   "outputs": [
    {
     "name": "stdout",
     "output_type": "stream",
     "text": [
      "param =  20  smape =  98.6365935853 ,\tparam =  40  smape =  96.0750204123 ,\tparam =  60  smape =  94.5639738655 ,\tparam =  80  smape =  93.8730572696 ,\tparam =  100  smape =  93.3030969316 ,\tparam =  120  smape =  92.9237584172 ,\tparam =  140  smape =  92.6506442279 ,\tparam =  160  smape =  92.4331047777 ,\tparam =  180  smape =  92.2911423756 ,\tparam =  200  smape =  92.1735298355 ,\tparam =  220  smape =  92.0450042187 ,\tparam =  240  smape =  91.9084865072 ,\tparam =  260  smape =  92.0294132484 ,\tparam =  280  smape =  92.5663491609 ,\tparam =  300  smape =  93.8109376555 ,\tparam =  320  smape =  93.7315037616 ,\tparam =  340  smape =  93.727053272 ,\tparam =  360  smape =  94.3536442001 ,\tparam =  380  smape =  94.3806748832 ,\tparam =  400  smape =  97.3747918138 ,\t"
     ]
    },
    {
     "data": {
      "image/png": "[encoded data removed]",
      "text/plain": [
       "<matplotlib.figure.Figure at 0x2876cbe1b38>"
      ]
     },
     "metadata": {},
     "output_type": "display_data"
    }
   ],
   "source": [
    "# Values to try for param.\n",
    "\n",
    "param_search = np.arange(20, 420, 20)\n",
    "\n",
    "# To record results of fits\n",
    "\n",
    "smapes = []\n",
    "epsilon = 1e-6\n",
    "\n",
    "for param in param_search:\n",
    "    Z_train = ztransform1(Y_train, param)\n",
    "    model.fit(X_train, Z_train)\n",
    "    Z_predict = model.predict(X_valid)\n",
    "    Y_predict = inverseZ1(Z_predict, param)\n",
    "    newsmape = smape(epsilon + Y_predict, Y_valid)\n",
    "    smapes.append(newsmape)\n",
    "    print('param = ', param, ' smape = ', newsmape, ',\\t', end = '')\n",
    "    \n",
    "plt.plot(param_search, smapes)\n",
    "plt.title('SMAPES vs param values for Regression on ztransform1')\n",
    "plt.show()\n",
    "    "
   ]
  },
  {
   "cell_type": "markdown",
   "metadata": {},
   "source": [
    "Now let's do a test for param = 240. We will train on all of the training and validation data."
   ]
  },
  {
   "cell_type": "code",
   "execution_count": 40,
   "metadata": {},
   "outputs": [
    {
     "name": "stdout",
     "output_type": "stream",
     "text": [
      "SMAPE =  91.4970374422\n"
     ]
    }
   ],
   "source": [
    "param = 240\n",
    "Z_trainvalid = ztransform1(Y_trainvalid, param)\n",
    "model.fit(X_trainvalid, Z_trainvalid)\n",
    "Z_predict = model.predict(X_test)\n",
    "Y_predict = inverseZ1(Z_predict, param)\n",
    "test_smape['z1'] = smape(epsilon + Y_predict, Y_test)\n",
    "print('SMAPE = ', test_smape['z1'])"
   ]
  },
  {
   "cell_type": "markdown",
   "metadata": {},
   "source": [
    "## Second Z Transformation\n",
    "\n",
    "We justify this one by putting an upper bound on a SMAPE term |p - t| / (|p| + |t|). For simplicity, consider p and t non-negative, so we have |p - t| / (p + t). Now, one can write p - t = (sqrt(p) - sqrt(t)) \\* (sqrt(p) + sqrt(t)) and then use the Cauchy-Schwarz inequality on this to give the following upper bound on the original expression in p and t: sqrt(2) * ( sqrt(p) - sqrt(t) ) / sqrt( p + t ).\n",
    "\n",
    "Similarly to before, we are led to f(y) = (sqrt(y) - np.sqrt(C)) / sqrt(y + C). After some algebra and playing with the possibilities of plus and minus, the inverse function is given by y = C \\* ( -1 + z \\* sqrt(2 - z\\*\\*2 ) )\\*\\*2 / (z\\*\\*2 - 1)\\*\\*2. Let's double check this using some graphs.\n",
    "\n",
    "Now, for non-negative y values, f(y) is between -1 and 1, so the inverse function is always defined. However, we could possibly predict a value of y that is outside the definition of the inverse function. To prevent this, we first force z to be between -1 + epsilon and 1 - epsilon."
   ]
  },
  {
   "cell_type": "code",
   "execution_count": 89,
   "metadata": {},
   "outputs": [
    {
     "data": {
      "image/png": "[encoded data removed]",
      "text/plain": [
       "<matplotlib.figure.Figure at 0x28769ac8780>"
      ]
     },
     "metadata": {},
     "output_type": "display_data"
    }
   ],
   "source": [
    "def ztransform2(Y, param):\n",
    "    return (np.sqrt(Y) - np.sqrt(param)) / np.sqrt(Y + param)\n",
    "\n",
    "def inverseZ2(Z, param):\n",
    "    Z2 = np.minimum(Z, 1 - epsilon)\n",
    "    Z2 = np.maximum(Z2, -1 + epsilon)\n",
    "    result = -1 - Z2 * np.sqrt(2 - Z2**2)\n",
    "    result = result / (Z2**2 - 1)\n",
    "    result = param * result**2\n",
    "    return result\n",
    "\n",
    "# Plot ztransform2 for param = 2.0.\n",
    "\n",
    "plt.figure(figsize = (15, 5))\n",
    "plt.subplot(121)\n",
    "domain = np.arange(0, 10, 0.1)\n",
    "plt.plot(domain, ztransform2(domain, 2.0))\n",
    "plt.title('ztransform2 for param = 2.0')\n",
    "\n",
    "# Graph inverseZ2 for param = 1.0 and reflection of graph of ztransform2.\n",
    "\n",
    "plt.subplot(122)\n",
    "domain2 = np.arange(-0.7, 0.7, 0.1)\n",
    "plt.plot(domain2, inverseZ2(domain2, 2.0))\n",
    "plt.plot(ztransform2(domain, 2.0), domain, color = 'red')\n",
    "plt.title('Graph of inverseZ2 and reflection of graph of ztransform2')\n",
    "plt.legend(['inverseZ2','reflection ztransform2'])\n",
    "plt.show()"
   ]
  },
  {
   "cell_type": "markdown",
   "metadata": {},
   "source": [
    "Now let's search over param for the optimal value to minimize SMAPE for our model."
   ]
  },
  {
   "cell_type": "code",
   "execution_count": 91,
   "metadata": {},
   "outputs": [
    {
     "name": "stdout",
     "output_type": "stream",
     "text": [
      "param =  100  smape =  91.5138349811 ,\tparam =  200  smape =  90.5678216326 ,\tparam =  300  smape =  89.9757813689 ,\tparam =  400  smape =  89.6591565513 ,\tparam =  500  smape =  89.4542966659 ,\tparam =  600  smape =  89.3739211243 ,\tparam =  700  smape =  89.2666174182 ,\tparam =  800  smape =  89.0725425877 ,\tparam =  900  smape =  89.0053266509 ,\tparam =  1000  smape =  88.90157529 ,\tparam =  1100  smape =  88.9081535483 ,\tparam =  1200  smape =  88.8789678017 ,\tparam =  1300  smape =  88.892525504 ,\tparam =  1400  smape =  88.8488353986 ,\tparam =  1500  smape =  88.8106866651 ,\tparam =  1600  smape =  88.8249438293 ,\tparam =  1700  smape =  88.8041181605 ,\tparam =  1800  smape =  88.7966570019 ,\tparam =  1900  smape =  88.7611843348 ,\tparam =  2000  smape =  88.7615606848 ,\tparam =  2100  smape =  88.7186972255 ,\tparam =  2200  smape =  88.6904425351 ,\tparam =  2300  smape =  88.6553264179 ,\tparam =  2400  smape =  88.6992560282 ,\t"
     ]
    },
    {
     "data": {
      "image/png": "[encoded data removed]",
      "text/plain": [
       "<matplotlib.figure.Figure at 0x2876dcc9cf8>"
      ]
     },
     "metadata": {},
     "output_type": "display_data"
    }
   ],
   "source": [
    "# Values to try for param.\n",
    "\n",
    "param_search = np.arange(100, 2500, 100)\n",
    "\n",
    "# To record results of fits\n",
    "\n",
    "smapes = []\n",
    "epsilon = 1e-6\n",
    "\n",
    "for param in param_search:\n",
    "    Z_train = ztransform2(Y_train, param)\n",
    "    model.fit(X_train, Z_train)\n",
    "    Z_predict = model.predict(X_valid)\n",
    "    Y_predict = inverseZ2(Z_predict, param)\n",
    "    newsmape = smape(epsilon + Y_predict, Y_valid)\n",
    "    smapes.append(newsmape)\n",
    "    print('param = ', param, ' smape = ', newsmape, ',\\t', end = '')\n",
    "    \n",
    "plt.plot(param_search, smapes)\n",
    "plt.title('SMAPES vs param values for Regression on ztransform2')\n",
    "plt.show()\n",
    "    "
   ]
  },
  {
   "cell_type": "markdown",
   "metadata": {},
   "source": [
    "Now let's do a test with param = 1000. We will fit the model on both the training and validation data."
   ]
  },
  {
   "cell_type": "code",
   "execution_count": 93,
   "metadata": {},
   "outputs": [
    {
     "name": "stdout",
     "output_type": "stream",
     "text": [
      "SMAPE =  88.3329629185\n"
     ]
    }
   ],
   "source": [
    "param = 1000\n",
    "Z_trainvalid = ztransform2(Y_trainvalid, param)\n",
    "model.fit(X_trainvalid, Z_trainvalid)\n",
    "Z_predict = model.predict(X_test)\n",
    "Y_predict = inverseZ2(Z_predict, param)\n",
    "test_smape['z2'] = smape(epsilon + Y_predict, Y_test)\n",
    "print('SMAPE = ', test_smape['z2'])"
   ]
  },
  {
   "cell_type": "markdown",
   "metadata": {},
   "source": [
    "# Review of Test Results\n",
    "\n",
    "Here we give a review of the test results for our z transformations."
   ]
  },
  {
   "cell_type": "code",
   "execution_count": 98,
   "metadata": {},
   "outputs": [
    {
     "data": {
      "text/plain": [
       "[('None (Benchmark)', 109.99937888999092),\n",
       " ('Z Transformation 1', 91.497037442162167),\n",
       " ('Z Transformation 2', 88.332962918471765)]"
      ]
     },
     "execution_count": 98,
     "metadata": {},
     "output_type": "execute_result"
    }
   ],
   "source": [
    "# Code to generate simple table using notebook output.\n",
    "\n",
    "description = ['None (Benchmark)', 'Z Transformation 1', 'Z Transformation 2']\n",
    "keys = ['benchmark', 'z1', 'z2']\n",
    "scores = [test_smape[key] for key in keys]\n",
    "output = [x for x in zip(description, scores)]\n",
    "\n",
    "output"
   ]
  },
  {
   "cell_type": "markdown",
   "metadata": {},
   "source": [
    "So we can see that there is some improvement in the SMAPE scores when using the Z transformations."
   ]
  }
 ],
 "metadata": {
  "kernelspec": {
   "display_name": "Python 3",
   "language": "python",
   "name": "python3"
  },
  "language_info": {
   "codemirror_mode": {
    "name": "ipython",
    "version": 3
   },
   "file_extension": ".py",
   "mimetype": "text/x-python",
   "name": "python",
   "nbconvert_exporter": "python",
   "pygments_lexer": "ipython3",
   "version": "3.5.2"
  }
 },
 "nbformat": 4,
 "nbformat_minor": 2
}
