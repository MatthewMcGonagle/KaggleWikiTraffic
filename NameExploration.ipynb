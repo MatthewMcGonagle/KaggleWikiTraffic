{
 "cells": [
  {
   "cell_type": "code",
   "execution_count": 1,
   "metadata": {
    "collapsed": true
   },
   "outputs": [],
   "source": [
    "# Exploration of possible features to pull from name.\n",
    "\n",
    "# Note that key_1.csv shows that we are supposed to predict about 2 months worth of future data based on data\n",
    "# lasting from 2015-07-01 to 2016-12-31."
   ]
  },
  {
   "cell_type": "code",
   "execution_count": 2,
   "metadata": {
    "collapsed": true
   },
   "outputs": [],
   "source": [
    "import pandas as pd\n",
    "import numpy as np\n",
    "import re\n",
    "import seaborn as sns\n",
    "from matplotlib import pyplot as plt\n",
    "from sklearn.model_selection import train_test_split\n",
    "\n",
    "from sklearn.preprocessing import (FunctionTransformer, StandardScaler)\n",
    "from sklearn.pipeline import (make_pipeline, make_union, Pipeline, FeatureUnion)\n",
    "from sklearn.tree import DecisionTreeRegressor"
   ]
  },
  {
   "cell_type": "code",
   "execution_count": 3,
   "metadata": {},
   "outputs": [
    {
     "data": {
      "text/plain": [
       "(145063, 551)"
      ]
     },
     "execution_count": 3,
     "metadata": {},
     "output_type": "execute_result"
    }
   ],
   "source": [
    "all_df = pd.read_csv('train_1.csv')\n",
    "all_df.shape"
   ]
  },
  {
   "cell_type": "code",
   "execution_count": 4,
   "metadata": {},
   "outputs": [
    {
     "data": {
      "text/html": [
       "<div>\n",
       "<table border=\"1\" class=\"dataframe\">\n",
       "  <thead>\n",
       "    <tr style=\"text-align: right;\">\n",
       "      <th></th>\n",
       "      <th>Page</th>\n",
       "      <th>2015-07-01</th>\n",
       "      <th>2015-07-02</th>\n",
       "      <th>2015-07-03</th>\n",
       "      <th>2015-07-04</th>\n",
       "      <th>2015-07-05</th>\n",
       "      <th>2015-07-06</th>\n",
       "      <th>2015-07-07</th>\n",
       "      <th>2015-07-08</th>\n",
       "      <th>2015-07-09</th>\n",
       "      <th>...</th>\n",
       "      <th>2016-12-22</th>\n",
       "      <th>2016-12-23</th>\n",
       "      <th>2016-12-24</th>\n",
       "      <th>2016-12-25</th>\n",
       "      <th>2016-12-26</th>\n",
       "      <th>2016-12-27</th>\n",
       "      <th>2016-12-28</th>\n",
       "      <th>2016-12-29</th>\n",
       "      <th>2016-12-30</th>\n",
       "      <th>2016-12-31</th>\n",
       "    </tr>\n",
       "  </thead>\n",
       "  <tbody>\n",
       "    <tr>\n",
       "      <th>0</th>\n",
       "      <td>2NE1_zh.wikipedia.org_all-access_spider</td>\n",
       "      <td>18.000000</td>\n",
       "      <td>11.000000</td>\n",
       "      <td>5.000000</td>\n",
       "      <td>13.000000</td>\n",
       "      <td>14.000000</td>\n",
       "      <td>9.000000</td>\n",
       "      <td>9.000000</td>\n",
       "      <td>22.000000</td>\n",
       "      <td>26.000000</td>\n",
       "      <td>...</td>\n",
       "      <td>32.0</td>\n",
       "      <td>63.0</td>\n",
       "      <td>15.0</td>\n",
       "      <td>26.0</td>\n",
       "      <td>14.0</td>\n",
       "      <td>20.0</td>\n",
       "      <td>22.0</td>\n",
       "      <td>19.0</td>\n",
       "      <td>18.0</td>\n",
       "      <td>20.0</td>\n",
       "    </tr>\n",
       "    <tr>\n",
       "      <th>1</th>\n",
       "      <td>2PM_zh.wikipedia.org_all-access_spider</td>\n",
       "      <td>11.000000</td>\n",
       "      <td>14.000000</td>\n",
       "      <td>15.000000</td>\n",
       "      <td>18.000000</td>\n",
       "      <td>11.000000</td>\n",
       "      <td>13.000000</td>\n",
       "      <td>22.000000</td>\n",
       "      <td>11.000000</td>\n",
       "      <td>10.000000</td>\n",
       "      <td>...</td>\n",
       "      <td>17.0</td>\n",
       "      <td>42.0</td>\n",
       "      <td>28.0</td>\n",
       "      <td>15.0</td>\n",
       "      <td>9.0</td>\n",
       "      <td>30.0</td>\n",
       "      <td>52.0</td>\n",
       "      <td>45.0</td>\n",
       "      <td>26.0</td>\n",
       "      <td>20.0</td>\n",
       "    </tr>\n",
       "    <tr>\n",
       "      <th>2</th>\n",
       "      <td>3C_zh.wikipedia.org_all-access_spider</td>\n",
       "      <td>1.000000</td>\n",
       "      <td>0.000000</td>\n",
       "      <td>1.000000</td>\n",
       "      <td>1.000000</td>\n",
       "      <td>0.000000</td>\n",
       "      <td>4.000000</td>\n",
       "      <td>0.000000</td>\n",
       "      <td>3.000000</td>\n",
       "      <td>4.000000</td>\n",
       "      <td>...</td>\n",
       "      <td>3.0</td>\n",
       "      <td>1.0</td>\n",
       "      <td>1.0</td>\n",
       "      <td>7.0</td>\n",
       "      <td>4.0</td>\n",
       "      <td>4.0</td>\n",
       "      <td>6.0</td>\n",
       "      <td>3.0</td>\n",
       "      <td>4.0</td>\n",
       "      <td>17.0</td>\n",
       "    </tr>\n",
       "    <tr>\n",
       "      <th>3</th>\n",
       "      <td>4minute_zh.wikipedia.org_all-access_spider</td>\n",
       "      <td>35.000000</td>\n",
       "      <td>13.000000</td>\n",
       "      <td>10.000000</td>\n",
       "      <td>94.000000</td>\n",
       "      <td>4.000000</td>\n",
       "      <td>26.000000</td>\n",
       "      <td>14.000000</td>\n",
       "      <td>9.000000</td>\n",
       "      <td>11.000000</td>\n",
       "      <td>...</td>\n",
       "      <td>32.0</td>\n",
       "      <td>10.0</td>\n",
       "      <td>26.0</td>\n",
       "      <td>27.0</td>\n",
       "      <td>16.0</td>\n",
       "      <td>11.0</td>\n",
       "      <td>17.0</td>\n",
       "      <td>19.0</td>\n",
       "      <td>10.0</td>\n",
       "      <td>11.0</td>\n",
       "    </tr>\n",
       "    <tr>\n",
       "      <th>4</th>\n",
       "      <td>52_Hz_I_Love_You_zh.wikipedia.org_all-access_s...</td>\n",
       "      <td>10.277992</td>\n",
       "      <td>10.277992</td>\n",
       "      <td>10.277992</td>\n",
       "      <td>10.277992</td>\n",
       "      <td>10.277992</td>\n",
       "      <td>10.277992</td>\n",
       "      <td>10.277992</td>\n",
       "      <td>10.277992</td>\n",
       "      <td>10.277992</td>\n",
       "      <td>...</td>\n",
       "      <td>48.0</td>\n",
       "      <td>9.0</td>\n",
       "      <td>25.0</td>\n",
       "      <td>13.0</td>\n",
       "      <td>3.0</td>\n",
       "      <td>11.0</td>\n",
       "      <td>27.0</td>\n",
       "      <td>13.0</td>\n",
       "      <td>36.0</td>\n",
       "      <td>10.0</td>\n",
       "    </tr>\n",
       "    <tr>\n",
       "      <th>5</th>\n",
       "      <td>5566_zh.wikipedia.org_all-access_spider</td>\n",
       "      <td>12.000000</td>\n",
       "      <td>7.000000</td>\n",
       "      <td>4.000000</td>\n",
       "      <td>5.000000</td>\n",
       "      <td>20.000000</td>\n",
       "      <td>8.000000</td>\n",
       "      <td>5.000000</td>\n",
       "      <td>17.000000</td>\n",
       "      <td>24.000000</td>\n",
       "      <td>...</td>\n",
       "      <td>16.0</td>\n",
       "      <td>27.0</td>\n",
       "      <td>8.0</td>\n",
       "      <td>17.0</td>\n",
       "      <td>32.0</td>\n",
       "      <td>19.0</td>\n",
       "      <td>23.0</td>\n",
       "      <td>17.0</td>\n",
       "      <td>17.0</td>\n",
       "      <td>50.0</td>\n",
       "    </tr>\n",
       "    <tr>\n",
       "      <th>6</th>\n",
       "      <td>91Days_zh.wikipedia.org_all-access_spider</td>\n",
       "      <td>19.691892</td>\n",
       "      <td>19.691892</td>\n",
       "      <td>19.691892</td>\n",
       "      <td>19.691892</td>\n",
       "      <td>19.691892</td>\n",
       "      <td>19.691892</td>\n",
       "      <td>19.691892</td>\n",
       "      <td>19.691892</td>\n",
       "      <td>19.691892</td>\n",
       "      <td>...</td>\n",
       "      <td>2.0</td>\n",
       "      <td>7.0</td>\n",
       "      <td>33.0</td>\n",
       "      <td>8.0</td>\n",
       "      <td>11.0</td>\n",
       "      <td>4.0</td>\n",
       "      <td>15.0</td>\n",
       "      <td>6.0</td>\n",
       "      <td>8.0</td>\n",
       "      <td>6.0</td>\n",
       "    </tr>\n",
       "    <tr>\n",
       "      <th>7</th>\n",
       "      <td>A'N'D_zh.wikipedia.org_all-access_spider</td>\n",
       "      <td>118.000000</td>\n",
       "      <td>26.000000</td>\n",
       "      <td>30.000000</td>\n",
       "      <td>24.000000</td>\n",
       "      <td>29.000000</td>\n",
       "      <td>127.000000</td>\n",
       "      <td>53.000000</td>\n",
       "      <td>37.000000</td>\n",
       "      <td>20.000000</td>\n",
       "      <td>...</td>\n",
       "      <td>64.0</td>\n",
       "      <td>35.0</td>\n",
       "      <td>35.0</td>\n",
       "      <td>28.0</td>\n",
       "      <td>20.0</td>\n",
       "      <td>23.0</td>\n",
       "      <td>32.0</td>\n",
       "      <td>39.0</td>\n",
       "      <td>32.0</td>\n",
       "      <td>17.0</td>\n",
       "    </tr>\n",
       "    <tr>\n",
       "      <th>8</th>\n",
       "      <td>AKB48_zh.wikipedia.org_all-access_spider</td>\n",
       "      <td>5.000000</td>\n",
       "      <td>23.000000</td>\n",
       "      <td>14.000000</td>\n",
       "      <td>12.000000</td>\n",
       "      <td>9.000000</td>\n",
       "      <td>9.000000</td>\n",
       "      <td>35.000000</td>\n",
       "      <td>15.000000</td>\n",
       "      <td>14.000000</td>\n",
       "      <td>...</td>\n",
       "      <td>34.0</td>\n",
       "      <td>105.0</td>\n",
       "      <td>72.0</td>\n",
       "      <td>36.0</td>\n",
       "      <td>33.0</td>\n",
       "      <td>30.0</td>\n",
       "      <td>36.0</td>\n",
       "      <td>38.0</td>\n",
       "      <td>31.0</td>\n",
       "      <td>97.0</td>\n",
       "    </tr>\n",
       "    <tr>\n",
       "      <th>9</th>\n",
       "      <td>ASCII_zh.wikipedia.org_all-access_spider</td>\n",
       "      <td>6.000000</td>\n",
       "      <td>3.000000</td>\n",
       "      <td>5.000000</td>\n",
       "      <td>12.000000</td>\n",
       "      <td>6.000000</td>\n",
       "      <td>5.000000</td>\n",
       "      <td>4.000000</td>\n",
       "      <td>13.000000</td>\n",
       "      <td>9.000000</td>\n",
       "      <td>...</td>\n",
       "      <td>25.0</td>\n",
       "      <td>17.0</td>\n",
       "      <td>22.0</td>\n",
       "      <td>29.0</td>\n",
       "      <td>30.0</td>\n",
       "      <td>29.0</td>\n",
       "      <td>35.0</td>\n",
       "      <td>44.0</td>\n",
       "      <td>26.0</td>\n",
       "      <td>41.0</td>\n",
       "    </tr>\n",
       "  </tbody>\n",
       "</table>\n",
       "<p>10 rows × 551 columns</p>\n",
       "</div>"
      ],
      "text/plain": [
       "                                                Page  2015-07-01  2015-07-02  \\\n",
       "0            2NE1_zh.wikipedia.org_all-access_spider   18.000000   11.000000   \n",
       "1             2PM_zh.wikipedia.org_all-access_spider   11.000000   14.000000   \n",
       "2              3C_zh.wikipedia.org_all-access_spider    1.000000    0.000000   \n",
       "3         4minute_zh.wikipedia.org_all-access_spider   35.000000   13.000000   \n",
       "4  52_Hz_I_Love_You_zh.wikipedia.org_all-access_s...   10.277992   10.277992   \n",
       "5            5566_zh.wikipedia.org_all-access_spider   12.000000    7.000000   \n",
       "6          91Days_zh.wikipedia.org_all-access_spider   19.691892   19.691892   \n",
       "7           A'N'D_zh.wikipedia.org_all-access_spider  118.000000   26.000000   \n",
       "8           AKB48_zh.wikipedia.org_all-access_spider    5.000000   23.000000   \n",
       "9           ASCII_zh.wikipedia.org_all-access_spider    6.000000    3.000000   \n",
       "\n",
       "   2015-07-03  2015-07-04  2015-07-05  2015-07-06  2015-07-07  2015-07-08  \\\n",
       "0    5.000000   13.000000   14.000000    9.000000    9.000000   22.000000   \n",
       "1   15.000000   18.000000   11.000000   13.000000   22.000000   11.000000   \n",
       "2    1.000000    1.000000    0.000000    4.000000    0.000000    3.000000   \n",
       "3   10.000000   94.000000    4.000000   26.000000   14.000000    9.000000   \n",
       "4   10.277992   10.277992   10.277992   10.277992   10.277992   10.277992   \n",
       "5    4.000000    5.000000   20.000000    8.000000    5.000000   17.000000   \n",
       "6   19.691892   19.691892   19.691892   19.691892   19.691892   19.691892   \n",
       "7   30.000000   24.000000   29.000000  127.000000   53.000000   37.000000   \n",
       "8   14.000000   12.000000    9.000000    9.000000   35.000000   15.000000   \n",
       "9    5.000000   12.000000    6.000000    5.000000    4.000000   13.000000   \n",
       "\n",
       "   2015-07-09     ...      2016-12-22  2016-12-23  2016-12-24  2016-12-25  \\\n",
       "0   26.000000     ...            32.0        63.0        15.0        26.0   \n",
       "1   10.000000     ...            17.0        42.0        28.0        15.0   \n",
       "2    4.000000     ...             3.0         1.0         1.0         7.0   \n",
       "3   11.000000     ...            32.0        10.0        26.0        27.0   \n",
       "4   10.277992     ...            48.0         9.0        25.0        13.0   \n",
       "5   24.000000     ...            16.0        27.0         8.0        17.0   \n",
       "6   19.691892     ...             2.0         7.0        33.0         8.0   \n",
       "7   20.000000     ...            64.0        35.0        35.0        28.0   \n",
       "8   14.000000     ...            34.0       105.0        72.0        36.0   \n",
       "9    9.000000     ...            25.0        17.0        22.0        29.0   \n",
       "\n",
       "   2016-12-26  2016-12-27  2016-12-28  2016-12-29  2016-12-30  2016-12-31  \n",
       "0        14.0        20.0        22.0        19.0        18.0        20.0  \n",
       "1         9.0        30.0        52.0        45.0        26.0        20.0  \n",
       "2         4.0         4.0         6.0         3.0         4.0        17.0  \n",
       "3        16.0        11.0        17.0        19.0        10.0        11.0  \n",
       "4         3.0        11.0        27.0        13.0        36.0        10.0  \n",
       "5        32.0        19.0        23.0        17.0        17.0        50.0  \n",
       "6        11.0         4.0        15.0         6.0         8.0         6.0  \n",
       "7        20.0        23.0        32.0        39.0        32.0        17.0  \n",
       "8        33.0        30.0        36.0        38.0        31.0        97.0  \n",
       "9        30.0        29.0        35.0        44.0        26.0        41.0  \n",
       "\n",
       "[10 rows x 551 columns]"
      ]
     },
     "execution_count": 4,
     "metadata": {},
     "output_type": "execute_result"
    }
   ],
   "source": [
    "# For now, just set all NaN to 0.\n",
    "means = all_df.drop('Page', axis = 1).mean(axis = 1)\n",
    "means.fillna(0, inplace = True)\n",
    "\n",
    "for column in all_df.columns:\n",
    "    \n",
    "    all_df[column].fillna(means, inplace = True)\n",
    "\n",
    "all_df[:10]"
   ]
  },
  {
   "cell_type": "code",
   "execution_count": 5,
   "metadata": {},
   "outputs": [
    {
     "data": {
      "image/png": "[encoded data removed]",
      "text/plain": [
       "<matplotlib.figure.Figure at 0x23abe90f160>"
      ]
     },
     "metadata": {},
     "output_type": "display_data"
    },
    {
     "name": "stdout",
     "output_type": "stream",
     "text": [
      "0.0517912906806\n"
     ]
    },
    {
     "data": {
      "text/html": [
       "<div>\n",
       "<table border=\"1\" class=\"dataframe\">\n",
       "  <thead>\n",
       "    <tr style=\"text-align: right;\">\n",
       "      <th></th>\n",
       "      <th>ratios</th>\n",
       "      <th>logratios</th>\n",
       "    </tr>\n",
       "  </thead>\n",
       "  <tbody>\n",
       "    <tr>\n",
       "      <th>0</th>\n",
       "      <td>1.221424</td>\n",
       "      <td>0.200018</td>\n",
       "    </tr>\n",
       "    <tr>\n",
       "      <th>1</th>\n",
       "      <td>1.247793</td>\n",
       "      <td>0.221377</td>\n",
       "    </tr>\n",
       "    <tr>\n",
       "      <th>2</th>\n",
       "      <td>1.492083</td>\n",
       "      <td>0.400174</td>\n",
       "    </tr>\n",
       "    <tr>\n",
       "      <th>3</th>\n",
       "      <td>0.984510</td>\n",
       "      <td>-0.015610</td>\n",
       "    </tr>\n",
       "    <tr>\n",
       "      <th>4</th>\n",
       "      <td>1.598463</td>\n",
       "      <td>0.469043</td>\n",
       "    </tr>\n",
       "  </tbody>\n",
       "</table>\n",
       "</div>"
      ],
      "text/plain": [
       "     ratios  logratios\n",
       "0  1.221424   0.200018\n",
       "1  1.247793   0.221377\n",
       "2  1.492083   0.400174\n",
       "3  0.984510  -0.015610\n",
       "4  1.598463   0.469043"
      ]
     },
     "execution_count": 5,
     "metadata": {},
     "output_type": "execute_result"
    }
   ],
   "source": [
    "futureT = 64\n",
    "epsilon = 1e-6\n",
    "\n",
    "X_mean = all_df.drop(['Page'], axis = 1).values[:, :-futureT].mean(axis = 1)\n",
    "Y_mean = all_df.drop(['Page'], axis = 1).values[:, -futureT:].mean(axis = 1)\n",
    "\n",
    "name_df = pd.DataFrame(data =  Y_mean / (X_mean + epsilon), columns = ['ratios'])\n",
    "name_df['logratios'] = np.log(name_df.ratios + epsilon)\n",
    "\n",
    "name_df.ratios.hist(bins = np.arange(0, 10, 0.2))\n",
    "plt.show()\n",
    "\n",
    "print(np.sum(name_df.ratios > 4) / len(name_df.ratios))\n",
    "name_df.head()"
   ]
  },
  {
   "cell_type": "code",
   "execution_count": 6,
   "metadata": {},
   "outputs": [
    {
     "data": {
      "text/html": [
       "<div>\n",
       "<table border=\"1\" class=\"dataframe\">\n",
       "  <thead>\n",
       "    <tr style=\"text-align: right;\">\n",
       "      <th></th>\n",
       "      <th>ratios</th>\n",
       "      <th>logratios</th>\n",
       "      <th>name</th>\n",
       "      <th>project</th>\n",
       "      <th>access</th>\n",
       "      <th>agent</th>\n",
       "    </tr>\n",
       "  </thead>\n",
       "  <tbody>\n",
       "    <tr>\n",
       "      <th>0</th>\n",
       "      <td>1.221424</td>\n",
       "      <td>0.200018</td>\n",
       "      <td>2NE1</td>\n",
       "      <td>9</td>\n",
       "      <td>0</td>\n",
       "      <td>3</td>\n",
       "    </tr>\n",
       "    <tr>\n",
       "      <th>1</th>\n",
       "      <td>1.247793</td>\n",
       "      <td>0.221377</td>\n",
       "      <td>2PM</td>\n",
       "      <td>9</td>\n",
       "      <td>0</td>\n",
       "      <td>3</td>\n",
       "    </tr>\n",
       "    <tr>\n",
       "      <th>2</th>\n",
       "      <td>1.492083</td>\n",
       "      <td>0.400174</td>\n",
       "      <td>3C</td>\n",
       "      <td>9</td>\n",
       "      <td>0</td>\n",
       "      <td>3</td>\n",
       "    </tr>\n",
       "    <tr>\n",
       "      <th>3</th>\n",
       "      <td>0.984510</td>\n",
       "      <td>-0.015610</td>\n",
       "      <td>4minute</td>\n",
       "      <td>9</td>\n",
       "      <td>0</td>\n",
       "      <td>3</td>\n",
       "    </tr>\n",
       "    <tr>\n",
       "      <th>4</th>\n",
       "      <td>1.598463</td>\n",
       "      <td>0.469043</td>\n",
       "      <td>52_Hz_I_Love_You</td>\n",
       "      <td>9</td>\n",
       "      <td>0</td>\n",
       "      <td>3</td>\n",
       "    </tr>\n",
       "  </tbody>\n",
       "</table>\n",
       "</div>"
      ],
      "text/plain": [
       "     ratios  logratios              name  project  access  agent\n",
       "0  1.221424   0.200018              2NE1        9       0      3\n",
       "1  1.247793   0.221377               2PM        9       0      3\n",
       "2  1.492083   0.400174                3C        9       0      3\n",
       "3  0.984510  -0.015610           4minute        9       0      3\n",
       "4  1.598463   0.469043  52_Hz_I_Love_You        9       0      3"
      ]
     },
     "execution_count": 6,
     "metadata": {},
     "output_type": "execute_result"
    }
   ],
   "source": [
    "urlRegEx = '[^._]+[.]\\w*wiki\\w*[.][^_]+'\n",
    "\n",
    "# Extract info from page\n",
    "\n",
    "pageInfo = []\n",
    "\n",
    "for pageStr in all_df.Page.values:\n",
    "    midSplit = re.split('[_](' + urlRegEx + ')[_]', pageStr)\n",
    "    thisPageInfo = midSplit[:2]\n",
    "    midSplit = re.split('[_]', midSplit[2])\n",
    "    thisPageInfo.extend(midSplit)\n",
    "    \n",
    "    pageInfo.append(thisPageInfo)\n",
    "    \n",
    "# Do a transpose, now in shape nInfo, nSamples\n",
    "\n",
    "pageInfo = [[pageInfo[j][i] for j in range(len(pageInfo))] for i in range(len(pageInfo[0]))]\n",
    "\n",
    "toInfoIndex = {'name' : 0, 'project' : 1, 'access' : 2, 'agent' : 3}\n",
    "colNames = ['name', 'project', 'access', 'agent']\n",
    "\n",
    "name_df['name'] = pageInfo[0]\n",
    "\n",
    "# Convert info to numerical\n",
    "\n",
    "for i in range(1, 4):\n",
    "    name = colNames[i]\n",
    "    infoCol = np.array(pageInfo[i])\n",
    "    infoCol_vals = np.unique(infoCol)\n",
    "    infoCol_map = dict(zip(infoCol_vals, np.arange(len(infoCol_vals))))\n",
    "    infoCol = [infoCol_map[x] for x in infoCol]\n",
    "    name_df[name] = infoCol\n",
    "    #all_df.insert(i, name, infoCol)\n",
    "\n",
    "name_df.head()"
   ]
  },
  {
   "cell_type": "code",
   "execution_count": 7,
   "metadata": {},
   "outputs": [
    {
     "data": {
      "text/html": [
       "<div>\n",
       "<table border=\"1\" class=\"dataframe\">\n",
       "  <thead>\n",
       "    <tr style=\"text-align: right;\">\n",
       "      <th></th>\n",
       "      <th>ratios</th>\n",
       "      <th>logratios</th>\n",
       "      <th>name</th>\n",
       "      <th>project</th>\n",
       "      <th>access</th>\n",
       "      <th>agent</th>\n",
       "      <th>numWords</th>\n",
       "    </tr>\n",
       "  </thead>\n",
       "  <tbody>\n",
       "    <tr>\n",
       "      <th>0</th>\n",
       "      <td>1.221424</td>\n",
       "      <td>0.200018</td>\n",
       "      <td>2NE1</td>\n",
       "      <td>9</td>\n",
       "      <td>0</td>\n",
       "      <td>3</td>\n",
       "      <td>1</td>\n",
       "    </tr>\n",
       "    <tr>\n",
       "      <th>1</th>\n",
       "      <td>1.247793</td>\n",
       "      <td>0.221377</td>\n",
       "      <td>2PM</td>\n",
       "      <td>9</td>\n",
       "      <td>0</td>\n",
       "      <td>3</td>\n",
       "      <td>1</td>\n",
       "    </tr>\n",
       "    <tr>\n",
       "      <th>2</th>\n",
       "      <td>1.492083</td>\n",
       "      <td>0.400174</td>\n",
       "      <td>3C</td>\n",
       "      <td>9</td>\n",
       "      <td>0</td>\n",
       "      <td>3</td>\n",
       "      <td>1</td>\n",
       "    </tr>\n",
       "    <tr>\n",
       "      <th>3</th>\n",
       "      <td>0.984510</td>\n",
       "      <td>-0.015610</td>\n",
       "      <td>4minute</td>\n",
       "      <td>9</td>\n",
       "      <td>0</td>\n",
       "      <td>3</td>\n",
       "      <td>1</td>\n",
       "    </tr>\n",
       "    <tr>\n",
       "      <th>4</th>\n",
       "      <td>1.598463</td>\n",
       "      <td>0.469043</td>\n",
       "      <td>52_Hz_I_Love_You</td>\n",
       "      <td>9</td>\n",
       "      <td>0</td>\n",
       "      <td>3</td>\n",
       "      <td>5</td>\n",
       "    </tr>\n",
       "  </tbody>\n",
       "</table>\n",
       "</div>"
      ],
      "text/plain": [
       "     ratios  logratios              name  project  access  agent  numWords\n",
       "0  1.221424   0.200018              2NE1        9       0      3         1\n",
       "1  1.247793   0.221377               2PM        9       0      3         1\n",
       "2  1.492083   0.400174                3C        9       0      3         1\n",
       "3  0.984510  -0.015610           4minute        9       0      3         1\n",
       "4  1.598463   0.469043  52_Hz_I_Love_You        9       0      3         5"
      ]
     },
     "execution_count": 7,
     "metadata": {},
     "output_type": "execute_result"
    }
   ],
   "source": [
    "numWords = []\n",
    "\n",
    "for name in name_df['name']:\n",
    "    num = len(re.split(r'_', name))\n",
    "    numWords.append(num)\n",
    "        \n",
    "numWords = np.array(numWords)\n",
    "\n",
    "name_df['numWords'] = numWords\n",
    "\n",
    "name_df.head()"
   ]
  },
  {
   "cell_type": "code",
   "execution_count": 8,
   "metadata": {},
   "outputs": [
    {
     "data": {
      "image/png": "[encoded data removed]",
      "text/plain": [
       "<matplotlib.figure.Figure at 0x23accda13c8>"
      ]
     },
     "metadata": {},
     "output_type": "display_data"
    },
    {
     "data": {
      "image/png": "[encoded data removed]",
      "text/plain": [
       "<matplotlib.figure.Figure at 0x23accdc8898>"
      ]
     },
     "metadata": {},
     "output_type": "display_data"
    },
    {
     "data": {
      "image/png": "[encoded data removed]",
      "text/plain": [
       "<matplotlib.figure.Figure at 0x23accdf4da0>"
      ]
     },
     "metadata": {},
     "output_type": "display_data"
    },
    {
     "data": {
      "image/png": "[encoded data removed]",
      "text/plain": [
       "<matplotlib.figure.Figure at 0x23a9d8c9b70>"
      ]
     },
     "metadata": {},
     "output_type": "display_data"
    }
   ],
   "source": [
    "name_df['numWords'].hist(bins = np.arange(8))\n",
    "plt.show()\n",
    "\n",
    "name_df['numWords2'] = name_df['numWords']\n",
    "\n",
    "name_df.loc[name_df['numWords'] > 3, 'numWords2'] = 3\n",
    "name_df['numWords2'].hist(bins = np.arange(8))\n",
    "plt.show()\n",
    "\n",
    "name_df['ratios'].hist(by = name_df['numWords2'], bins = np.arange(0, 5, 0.2))\n",
    "plt.show()\n",
    "\n",
    "name_df.loc[name_df.numWords2 < 3, 'numWords2'] = 1\n",
    "name_df.loc[name_df.numWords2 > 2, 'numWords2'] = 2\n",
    "\n",
    "name_df['ratios'].hist(by = name_df['numWords2'], bins = np.arange(0, 5, 0.2))\n",
    "plt.show()"
   ]
  },
  {
   "cell_type": "code",
   "execution_count": 9,
   "metadata": {},
   "outputs": [
    {
     "data": {
      "text/html": [
       "<div>\n",
       "<table border=\"1\" class=\"dataframe\">\n",
       "  <thead>\n",
       "    <tr style=\"text-align: right;\">\n",
       "      <th></th>\n",
       "      <th>ratios</th>\n",
       "      <th>logratios</th>\n",
       "      <th>name</th>\n",
       "      <th>project</th>\n",
       "      <th>access</th>\n",
       "      <th>agent</th>\n",
       "      <th>numWords</th>\n",
       "      <th>numWords2</th>\n",
       "      <th>numNums</th>\n",
       "    </tr>\n",
       "  </thead>\n",
       "  <tbody>\n",
       "    <tr>\n",
       "      <th>0</th>\n",
       "      <td>1.221424</td>\n",
       "      <td>0.200018</td>\n",
       "      <td>2NE1</td>\n",
       "      <td>9</td>\n",
       "      <td>0</td>\n",
       "      <td>3</td>\n",
       "      <td>1</td>\n",
       "      <td>1</td>\n",
       "      <td>1</td>\n",
       "    </tr>\n",
       "    <tr>\n",
       "      <th>1</th>\n",
       "      <td>1.247793</td>\n",
       "      <td>0.221377</td>\n",
       "      <td>2PM</td>\n",
       "      <td>9</td>\n",
       "      <td>0</td>\n",
       "      <td>3</td>\n",
       "      <td>1</td>\n",
       "      <td>1</td>\n",
       "      <td>1</td>\n",
       "    </tr>\n",
       "    <tr>\n",
       "      <th>2</th>\n",
       "      <td>1.492083</td>\n",
       "      <td>0.400174</td>\n",
       "      <td>3C</td>\n",
       "      <td>9</td>\n",
       "      <td>0</td>\n",
       "      <td>3</td>\n",
       "      <td>1</td>\n",
       "      <td>1</td>\n",
       "      <td>1</td>\n",
       "    </tr>\n",
       "    <tr>\n",
       "      <th>3</th>\n",
       "      <td>0.984510</td>\n",
       "      <td>-0.015610</td>\n",
       "      <td>4minute</td>\n",
       "      <td>9</td>\n",
       "      <td>0</td>\n",
       "      <td>3</td>\n",
       "      <td>1</td>\n",
       "      <td>1</td>\n",
       "      <td>1</td>\n",
       "    </tr>\n",
       "    <tr>\n",
       "      <th>4</th>\n",
       "      <td>1.598463</td>\n",
       "      <td>0.469043</td>\n",
       "      <td>52_Hz_I_Love_You</td>\n",
       "      <td>9</td>\n",
       "      <td>0</td>\n",
       "      <td>3</td>\n",
       "      <td>5</td>\n",
       "      <td>2</td>\n",
       "      <td>5</td>\n",
       "    </tr>\n",
       "  </tbody>\n",
       "</table>\n",
       "</div>"
      ],
      "text/plain": [
       "     ratios  logratios              name  project  access  agent  numWords  \\\n",
       "0  1.221424   0.200018              2NE1        9       0      3         1   \n",
       "1  1.247793   0.221377               2PM        9       0      3         1   \n",
       "2  1.492083   0.400174                3C        9       0      3         1   \n",
       "3  0.984510  -0.015610           4minute        9       0      3         1   \n",
       "4  1.598463   0.469043  52_Hz_I_Love_You        9       0      3         5   \n",
       "\n",
       "   numWords2  numNums  \n",
       "0          1        1  \n",
       "1          1        1  \n",
       "2          1        1  \n",
       "3          1        1  \n",
       "4          2        5  "
      ]
     },
     "execution_count": 9,
     "metadata": {},
     "output_type": "execute_result"
    }
   ],
   "source": [
    "numNums = []\n",
    "for name in name_df['name']:\n",
    "    num = len(re.split(r'\\d', name))\n",
    "    numNums.append(num)\n",
    "        \n",
    "numNums = np.array(numNums)\n",
    "\n",
    "name_df['numNums'] = numWords\n",
    "\n",
    "name_df.head()"
   ]
  },
  {
   "cell_type": "code",
   "execution_count": 10,
   "metadata": {},
   "outputs": [
    {
     "data": {
      "image/png": "[encoded data removed]",
      "text/plain": [
       "<matplotlib.figure.Figure at 0x23a9d96db70>"
      ]
     },
     "metadata": {},
     "output_type": "display_data"
    },
    {
     "data": {
      "image/png": "[encoded data removed]",
      "text/plain": [
       "<matplotlib.figure.Figure at 0x23a9d99b4a8>"
      ]
     },
     "metadata": {},
     "output_type": "display_data"
    },
    {
     "name": "stdout",
     "output_type": "stream",
     "text": [
      "numNums2\n",
      "1    0.981949\n",
      "2    1.029613\n",
      "3    0.997098\n",
      "Name: ratios, dtype: float64\n"
     ]
    },
    {
     "data": {
      "text/html": [
       "<div>\n",
       "<table border=\"1\" class=\"dataframe\">\n",
       "  <thead>\n",
       "    <tr style=\"text-align: right;\">\n",
       "      <th></th>\n",
       "      <th>ratios</th>\n",
       "      <th>logratios</th>\n",
       "      <th>name</th>\n",
       "      <th>project</th>\n",
       "      <th>access</th>\n",
       "      <th>agent</th>\n",
       "      <th>numWords</th>\n",
       "      <th>numWords2</th>\n",
       "      <th>numNums</th>\n",
       "      <th>numNums2</th>\n",
       "    </tr>\n",
       "  </thead>\n",
       "  <tbody>\n",
       "    <tr>\n",
       "      <th>0</th>\n",
       "      <td>1.221424</td>\n",
       "      <td>0.200018</td>\n",
       "      <td>2NE1</td>\n",
       "      <td>9</td>\n",
       "      <td>0</td>\n",
       "      <td>3</td>\n",
       "      <td>1</td>\n",
       "      <td>1</td>\n",
       "      <td>1</td>\n",
       "      <td>1</td>\n",
       "    </tr>\n",
       "    <tr>\n",
       "      <th>1</th>\n",
       "      <td>1.247793</td>\n",
       "      <td>0.221377</td>\n",
       "      <td>2PM</td>\n",
       "      <td>9</td>\n",
       "      <td>0</td>\n",
       "      <td>3</td>\n",
       "      <td>1</td>\n",
       "      <td>1</td>\n",
       "      <td>1</td>\n",
       "      <td>1</td>\n",
       "    </tr>\n",
       "    <tr>\n",
       "      <th>2</th>\n",
       "      <td>1.492083</td>\n",
       "      <td>0.400174</td>\n",
       "      <td>3C</td>\n",
       "      <td>9</td>\n",
       "      <td>0</td>\n",
       "      <td>3</td>\n",
       "      <td>1</td>\n",
       "      <td>1</td>\n",
       "      <td>1</td>\n",
       "      <td>1</td>\n",
       "    </tr>\n",
       "    <tr>\n",
       "      <th>3</th>\n",
       "      <td>0.984510</td>\n",
       "      <td>-0.015610</td>\n",
       "      <td>4minute</td>\n",
       "      <td>9</td>\n",
       "      <td>0</td>\n",
       "      <td>3</td>\n",
       "      <td>1</td>\n",
       "      <td>1</td>\n",
       "      <td>1</td>\n",
       "      <td>1</td>\n",
       "    </tr>\n",
       "    <tr>\n",
       "      <th>4</th>\n",
       "      <td>1.598463</td>\n",
       "      <td>0.469043</td>\n",
       "      <td>52_Hz_I_Love_You</td>\n",
       "      <td>9</td>\n",
       "      <td>0</td>\n",
       "      <td>3</td>\n",
       "      <td>5</td>\n",
       "      <td>2</td>\n",
       "      <td>5</td>\n",
       "      <td>3</td>\n",
       "    </tr>\n",
       "  </tbody>\n",
       "</table>\n",
       "</div>"
      ],
      "text/plain": [
       "     ratios  logratios              name  project  access  agent  numWords  \\\n",
       "0  1.221424   0.200018              2NE1        9       0      3         1   \n",
       "1  1.247793   0.221377               2PM        9       0      3         1   \n",
       "2  1.492083   0.400174                3C        9       0      3         1   \n",
       "3  0.984510  -0.015610           4minute        9       0      3         1   \n",
       "4  1.598463   0.469043  52_Hz_I_Love_You        9       0      3         5   \n",
       "\n",
       "   numWords2  numNums  numNums2  \n",
       "0          1        1         1  \n",
       "1          1        1         1  \n",
       "2          1        1         1  \n",
       "3          1        1         1  \n",
       "4          2        5         3  "
      ]
     },
     "execution_count": 10,
     "metadata": {},
     "output_type": "execute_result"
    }
   ],
   "source": [
    "name_df.numNums.hist(bins = np.arange(6))\n",
    "plt.show()\n",
    "name_df['numNums2'] = name_df.numNums\n",
    "\n",
    "name_df.loc[name_df.numNums2 > 3, 'numNums2'] = 3\n",
    "name_df['ratios'].hist(by = name_df.numNums2, bins = np.arange(0, 5, 0.2))\n",
    "plt.show()\n",
    "\n",
    "print(name_df[name_df.ratios < 5].groupby('numNums2').mean().ratios)\n",
    "\n",
    "name_df.head()"
   ]
  },
  {
   "cell_type": "code",
   "execution_count": 11,
   "metadata": {},
   "outputs": [
    {
     "data": {
      "text/html": [
       "<div>\n",
       "<table border=\"1\" class=\"dataframe\">\n",
       "  <thead>\n",
       "    <tr style=\"text-align: right;\">\n",
       "      <th></th>\n",
       "      <th>ratios</th>\n",
       "      <th>logratios</th>\n",
       "      <th>name</th>\n",
       "      <th>project</th>\n",
       "      <th>access</th>\n",
       "      <th>agent</th>\n",
       "      <th>numWords</th>\n",
       "      <th>numWords2</th>\n",
       "      <th>numNums</th>\n",
       "      <th>numNums2</th>\n",
       "      <th>numSize</th>\n",
       "    </tr>\n",
       "  </thead>\n",
       "  <tbody>\n",
       "    <tr>\n",
       "      <th>0</th>\n",
       "      <td>1.221424</td>\n",
       "      <td>0.200018</td>\n",
       "      <td>2NE1</td>\n",
       "      <td>9</td>\n",
       "      <td>0</td>\n",
       "      <td>3</td>\n",
       "      <td>1</td>\n",
       "      <td>1</td>\n",
       "      <td>1</td>\n",
       "      <td>1</td>\n",
       "      <td>2.0</td>\n",
       "    </tr>\n",
       "    <tr>\n",
       "      <th>1</th>\n",
       "      <td>1.247793</td>\n",
       "      <td>0.221377</td>\n",
       "      <td>2PM</td>\n",
       "      <td>9</td>\n",
       "      <td>0</td>\n",
       "      <td>3</td>\n",
       "      <td>1</td>\n",
       "      <td>1</td>\n",
       "      <td>1</td>\n",
       "      <td>1</td>\n",
       "      <td>2.0</td>\n",
       "    </tr>\n",
       "    <tr>\n",
       "      <th>2</th>\n",
       "      <td>1.492083</td>\n",
       "      <td>0.400174</td>\n",
       "      <td>3C</td>\n",
       "      <td>9</td>\n",
       "      <td>0</td>\n",
       "      <td>3</td>\n",
       "      <td>1</td>\n",
       "      <td>1</td>\n",
       "      <td>1</td>\n",
       "      <td>1</td>\n",
       "      <td>3.0</td>\n",
       "    </tr>\n",
       "    <tr>\n",
       "      <th>3</th>\n",
       "      <td>0.984510</td>\n",
       "      <td>-0.015610</td>\n",
       "      <td>4minute</td>\n",
       "      <td>9</td>\n",
       "      <td>0</td>\n",
       "      <td>3</td>\n",
       "      <td>1</td>\n",
       "      <td>1</td>\n",
       "      <td>1</td>\n",
       "      <td>1</td>\n",
       "      <td>4.0</td>\n",
       "    </tr>\n",
       "    <tr>\n",
       "      <th>4</th>\n",
       "      <td>1.598463</td>\n",
       "      <td>0.469043</td>\n",
       "      <td>52_Hz_I_Love_You</td>\n",
       "      <td>9</td>\n",
       "      <td>0</td>\n",
       "      <td>3</td>\n",
       "      <td>5</td>\n",
       "      <td>2</td>\n",
       "      <td>5</td>\n",
       "      <td>3</td>\n",
       "      <td>52.0</td>\n",
       "    </tr>\n",
       "  </tbody>\n",
       "</table>\n",
       "</div>"
      ],
      "text/plain": [
       "     ratios  logratios              name  project  access  agent  numWords  \\\n",
       "0  1.221424   0.200018              2NE1        9       0      3         1   \n",
       "1  1.247793   0.221377               2PM        9       0      3         1   \n",
       "2  1.492083   0.400174                3C        9       0      3         1   \n",
       "3  0.984510  -0.015610           4minute        9       0      3         1   \n",
       "4  1.598463   0.469043  52_Hz_I_Love_You        9       0      3         5   \n",
       "\n",
       "   numWords2  numNums  numNums2  numSize  \n",
       "0          1        1         1      2.0  \n",
       "1          1        1         1      2.0  \n",
       "2          1        1         1      3.0  \n",
       "3          1        1         1      4.0  \n",
       "4          2        5         3     52.0  "
      ]
     },
     "execution_count": 11,
     "metadata": {},
     "output_type": "execute_result"
    }
   ],
   "source": [
    "# Let's look at statistics of numbers inside names.\n",
    "\n",
    "numSize = []\n",
    "matches = []\n",
    "for name in name_df['name']:\n",
    "    match = re.search(r'\\d+', name)\n",
    "    matches.append(match)\n",
    "    if match != None:\n",
    "        num = float(match.group())\n",
    "    else:\n",
    "        num = 0\n",
    "    numSize.append(num)\n",
    "\n",
    "name_df['numSize'] = numSize\n",
    "\n",
    "name_df.head()"
   ]
  },
  {
   "cell_type": "code",
   "execution_count": 12,
   "metadata": {},
   "outputs": [
    {
     "data": {
      "image/png": "[encoded data removed]",
      "text/plain": [
       "<matplotlib.figure.Figure at 0x23acd188eb8>"
      ]
     },
     "metadata": {},
     "output_type": "display_data"
    },
    {
     "name": "stdout",
     "output_type": "stream",
     "text": [
      "numSize2\n",
      "0.0    1.017790\n",
      "1.0    0.895310\n",
      "2.0    0.840484\n",
      "Name: ratios, dtype: float64\n"
     ]
    },
    {
     "data": {
      "image/png": "[encoded data removed]",
      "text/plain": [
       "<matplotlib.figure.Figure at 0x23ace58f2b0>"
      ]
     },
     "metadata": {},
     "output_type": "display_data"
    },
    {
     "data": {
      "image/png": "[encoded data removed]",
      "text/plain": [
       "<matplotlib.figure.Figure at 0x23a9d95ce48>"
      ]
     },
     "metadata": {},
     "output_type": "display_data"
    },
    {
     "data": {
      "text/plain": [
       "0.10168685329822215"
      ]
     },
     "execution_count": 12,
     "metadata": {},
     "output_type": "execute_result"
    }
   ],
   "source": [
    "name_df.numSize.hist(bins = np.arange(1, 2.5e3, 2.5e3 / 20))\n",
    "plt.show()\n",
    "name_df['numSize2'] = name_df['numSize']\n",
    "\n",
    "mask = name_df.numSize2 > 0\n",
    "name_df.loc[mask & (name_df.numSize2 < 1250), 'numSize2'] = 1\n",
    "name_df.loc[mask & (name_df.numSize2 > 1), 'numSize2'] = 2\n",
    "\n",
    "print(name_df[name_df.ratios < 5].groupby('numSize2').mean().ratios)\n",
    "\n",
    "name_df.ratios.hist(by = name_df['numSize2'], bins = np.arange(0, 5, 0.2))\n",
    "plt.show()\n",
    "\n",
    "name_df.loc[mask & name_df.numSize2 > 0, 'numSize2'] = 1\n",
    "name_df.ratios.hist(by = name_df['numSize2'], bins = np.arange(0, 5, 0.2))\n",
    "plt.show()\n",
    "\n",
    "np.sum(name_df.numSize > 0) / len(name_df.numSize)"
   ]
  },
  {
   "cell_type": "code",
   "execution_count": 13,
   "metadata": {},
   "outputs": [
    {
     "name": "stdout",
     "output_type": "stream",
     "text": [
      "i =  0 \t ['NE'] 2\n",
      "i =  4 \t [] 0\n",
      "i =  6 \t [] 0\n",
      "i =  8 \t ['AKB'] 3\n"
     ]
    },
    {
     "data": {
      "text/html": [
       "<div>\n",
       "<table border=\"1\" class=\"dataframe\">\n",
       "  <thead>\n",
       "    <tr style=\"text-align: right;\">\n",
       "      <th></th>\n",
       "      <th>ratios</th>\n",
       "      <th>logratios</th>\n",
       "      <th>name</th>\n",
       "      <th>project</th>\n",
       "      <th>access</th>\n",
       "      <th>agent</th>\n",
       "      <th>numWords</th>\n",
       "      <th>numWords2</th>\n",
       "      <th>numNums</th>\n",
       "      <th>numNums2</th>\n",
       "      <th>numSize</th>\n",
       "      <th>numSize2</th>\n",
       "      <th>capNums</th>\n",
       "    </tr>\n",
       "  </thead>\n",
       "  <tbody>\n",
       "    <tr>\n",
       "      <th>0</th>\n",
       "      <td>1.221424</td>\n",
       "      <td>0.200018</td>\n",
       "      <td>2NE1</td>\n",
       "      <td>9</td>\n",
       "      <td>0</td>\n",
       "      <td>3</td>\n",
       "      <td>1</td>\n",
       "      <td>1</td>\n",
       "      <td>1</td>\n",
       "      <td>1</td>\n",
       "      <td>2.0</td>\n",
       "      <td>1.0</td>\n",
       "      <td>2</td>\n",
       "    </tr>\n",
       "    <tr>\n",
       "      <th>1</th>\n",
       "      <td>1.247793</td>\n",
       "      <td>0.221377</td>\n",
       "      <td>2PM</td>\n",
       "      <td>9</td>\n",
       "      <td>0</td>\n",
       "      <td>3</td>\n",
       "      <td>1</td>\n",
       "      <td>1</td>\n",
       "      <td>1</td>\n",
       "      <td>1</td>\n",
       "      <td>2.0</td>\n",
       "      <td>1.0</td>\n",
       "      <td>2</td>\n",
       "    </tr>\n",
       "    <tr>\n",
       "      <th>2</th>\n",
       "      <td>1.492083</td>\n",
       "      <td>0.400174</td>\n",
       "      <td>3C</td>\n",
       "      <td>9</td>\n",
       "      <td>0</td>\n",
       "      <td>3</td>\n",
       "      <td>1</td>\n",
       "      <td>1</td>\n",
       "      <td>1</td>\n",
       "      <td>1</td>\n",
       "      <td>3.0</td>\n",
       "      <td>1.0</td>\n",
       "      <td>0</td>\n",
       "    </tr>\n",
       "    <tr>\n",
       "      <th>3</th>\n",
       "      <td>0.984510</td>\n",
       "      <td>-0.015610</td>\n",
       "      <td>4minute</td>\n",
       "      <td>9</td>\n",
       "      <td>0</td>\n",
       "      <td>3</td>\n",
       "      <td>1</td>\n",
       "      <td>1</td>\n",
       "      <td>1</td>\n",
       "      <td>1</td>\n",
       "      <td>4.0</td>\n",
       "      <td>1.0</td>\n",
       "      <td>0</td>\n",
       "    </tr>\n",
       "    <tr>\n",
       "      <th>4</th>\n",
       "      <td>1.598463</td>\n",
       "      <td>0.469043</td>\n",
       "      <td>52_Hz_I_Love_You</td>\n",
       "      <td>9</td>\n",
       "      <td>0</td>\n",
       "      <td>3</td>\n",
       "      <td>5</td>\n",
       "      <td>2</td>\n",
       "      <td>5</td>\n",
       "      <td>3</td>\n",
       "      <td>52.0</td>\n",
       "      <td>1.0</td>\n",
       "      <td>0</td>\n",
       "    </tr>\n",
       "  </tbody>\n",
       "</table>\n",
       "</div>"
      ],
      "text/plain": [
       "     ratios  logratios              name  project  access  agent  numWords  \\\n",
       "0  1.221424   0.200018              2NE1        9       0      3         1   \n",
       "1  1.247793   0.221377               2PM        9       0      3         1   \n",
       "2  1.492083   0.400174                3C        9       0      3         1   \n",
       "3  0.984510  -0.015610           4minute        9       0      3         1   \n",
       "4  1.598463   0.469043  52_Hz_I_Love_You        9       0      3         5   \n",
       "\n",
       "   numWords2  numNums  numNums2  numSize  numSize2  capNums  \n",
       "0          1        1         1      2.0       1.0        2  \n",
       "1          1        1         1      2.0       1.0        2  \n",
       "2          1        1         1      3.0       1.0        0  \n",
       "3          1        1         1      4.0       1.0        0  \n",
       "4          2        5         3     52.0       1.0        0  "
      ]
     },
     "execution_count": 13,
     "metadata": {},
     "output_type": "execute_result"
    }
   ],
   "source": [
    "# Let's look at number of capital letters - number of words.\n",
    "\n",
    "capNums = []\n",
    "matches = []\n",
    "for name in name_df['name']:\n",
    "    match = re.findall(r'[A-Z][A-Z]+', name)\n",
    "    matches.append(match)\n",
    "    num = 0\n",
    "    for s in match:\n",
    "        num += len(s)\n",
    "    capNums.append(num)\n",
    "\n",
    "for i in [0, 4, 6, 8]:\n",
    "    print('i = ', i, '\\t', matches[i], capNums[i])\n",
    "    \n",
    "name_df['capNums'] = capNums\n",
    "\n",
    "name_df.head()"
   ]
  },
  {
   "cell_type": "code",
   "execution_count": 14,
   "metadata": {},
   "outputs": [
    {
     "data": {
      "image/png": "[encoded data removed]",
      "text/plain": [
       "<matplotlib.figure.Figure at 0x23acca82b70>"
      ]
     },
     "metadata": {},
     "output_type": "display_data"
    },
    {
     "data": {
      "image/png": "[encoded data removed]",
      "text/plain": [
       "<matplotlib.figure.Figure at 0x23acd1886a0>"
      ]
     },
     "metadata": {},
     "output_type": "display_data"
    },
    {
     "data": {
      "text/plain": [
       "capNums2\n",
       "0    1.003532\n",
       "2    1.041988\n",
       "3    0.956508\n",
       "Name: ratios, dtype: float64"
      ]
     },
     "execution_count": 14,
     "metadata": {},
     "output_type": "execute_result"
    }
   ],
   "source": [
    "name_df.capNums.hist(bins = np.arange(1, 20))\n",
    "plt.show()\n",
    "\n",
    "name_df['capNums2'] = name_df.capNums\n",
    "name_df.loc[name_df.capNums2 > 3, 'capNums2'] = 3\n",
    "\n",
    "name_df.ratios.hist(by = name_df.capNums2, bins = np.arange(0, 5.0, 0.2))\n",
    "plt.show()\n",
    "\n",
    "name_df[name_df.ratios < 5].groupby('capNums2').mean().ratios"
   ]
  },
  {
   "cell_type": "code",
   "execution_count": 15,
   "metadata": {},
   "outputs": [
    {
     "name": "stdout",
     "output_type": "stream",
     "text": [
      "i =  0 \t 2\n",
      "i =  4 \t 4\n",
      "i =  6 \t 4\n",
      "i =  8 \t 3\n"
     ]
    },
    {
     "data": {
      "text/html": [
       "<div>\n",
       "<table border=\"1\" class=\"dataframe\">\n",
       "  <thead>\n",
       "    <tr style=\"text-align: right;\">\n",
       "      <th></th>\n",
       "      <th>ratios</th>\n",
       "      <th>logratios</th>\n",
       "      <th>name</th>\n",
       "      <th>project</th>\n",
       "      <th>access</th>\n",
       "      <th>agent</th>\n",
       "      <th>numWords</th>\n",
       "      <th>numWords2</th>\n",
       "      <th>numNums</th>\n",
       "      <th>numNums2</th>\n",
       "      <th>numSize</th>\n",
       "      <th>numSize2</th>\n",
       "      <th>capNums</th>\n",
       "      <th>capNums2</th>\n",
       "      <th>wordLength</th>\n",
       "    </tr>\n",
       "  </thead>\n",
       "  <tbody>\n",
       "    <tr>\n",
       "      <th>0</th>\n",
       "      <td>1.221424</td>\n",
       "      <td>0.200018</td>\n",
       "      <td>2NE1</td>\n",
       "      <td>9</td>\n",
       "      <td>0</td>\n",
       "      <td>3</td>\n",
       "      <td>1</td>\n",
       "      <td>1</td>\n",
       "      <td>1</td>\n",
       "      <td>1</td>\n",
       "      <td>2.0</td>\n",
       "      <td>1.0</td>\n",
       "      <td>2</td>\n",
       "      <td>2</td>\n",
       "      <td>2</td>\n",
       "    </tr>\n",
       "    <tr>\n",
       "      <th>1</th>\n",
       "      <td>1.247793</td>\n",
       "      <td>0.221377</td>\n",
       "      <td>2PM</td>\n",
       "      <td>9</td>\n",
       "      <td>0</td>\n",
       "      <td>3</td>\n",
       "      <td>1</td>\n",
       "      <td>1</td>\n",
       "      <td>1</td>\n",
       "      <td>1</td>\n",
       "      <td>2.0</td>\n",
       "      <td>1.0</td>\n",
       "      <td>2</td>\n",
       "      <td>2</td>\n",
       "      <td>2</td>\n",
       "    </tr>\n",
       "    <tr>\n",
       "      <th>2</th>\n",
       "      <td>1.492083</td>\n",
       "      <td>0.400174</td>\n",
       "      <td>3C</td>\n",
       "      <td>9</td>\n",
       "      <td>0</td>\n",
       "      <td>3</td>\n",
       "      <td>1</td>\n",
       "      <td>1</td>\n",
       "      <td>1</td>\n",
       "      <td>1</td>\n",
       "      <td>3.0</td>\n",
       "      <td>1.0</td>\n",
       "      <td>0</td>\n",
       "      <td>0</td>\n",
       "      <td>1</td>\n",
       "    </tr>\n",
       "    <tr>\n",
       "      <th>3</th>\n",
       "      <td>0.984510</td>\n",
       "      <td>-0.015610</td>\n",
       "      <td>4minute</td>\n",
       "      <td>9</td>\n",
       "      <td>0</td>\n",
       "      <td>3</td>\n",
       "      <td>1</td>\n",
       "      <td>1</td>\n",
       "      <td>1</td>\n",
       "      <td>1</td>\n",
       "      <td>4.0</td>\n",
       "      <td>1.0</td>\n",
       "      <td>0</td>\n",
       "      <td>0</td>\n",
       "      <td>6</td>\n",
       "    </tr>\n",
       "    <tr>\n",
       "      <th>4</th>\n",
       "      <td>1.598463</td>\n",
       "      <td>0.469043</td>\n",
       "      <td>52_Hz_I_Love_You</td>\n",
       "      <td>9</td>\n",
       "      <td>0</td>\n",
       "      <td>3</td>\n",
       "      <td>5</td>\n",
       "      <td>2</td>\n",
       "      <td>5</td>\n",
       "      <td>3</td>\n",
       "      <td>52.0</td>\n",
       "      <td>1.0</td>\n",
       "      <td>0</td>\n",
       "      <td>0</td>\n",
       "      <td>4</td>\n",
       "    </tr>\n",
       "  </tbody>\n",
       "</table>\n",
       "</div>"
      ],
      "text/plain": [
       "     ratios  logratios              name  project  access  agent  numWords  \\\n",
       "0  1.221424   0.200018              2NE1        9       0      3         1   \n",
       "1  1.247793   0.221377               2PM        9       0      3         1   \n",
       "2  1.492083   0.400174                3C        9       0      3         1   \n",
       "3  0.984510  -0.015610           4minute        9       0      3         1   \n",
       "4  1.598463   0.469043  52_Hz_I_Love_You        9       0      3         5   \n",
       "\n",
       "   numWords2  numNums  numNums2  numSize  numSize2  capNums  capNums2  \\\n",
       "0          1        1         1      2.0       1.0        2         2   \n",
       "1          1        1         1      2.0       1.0        2         2   \n",
       "2          1        1         1      3.0       1.0        0         0   \n",
       "3          1        1         1      4.0       1.0        0         0   \n",
       "4          2        5         3     52.0       1.0        0         0   \n",
       "\n",
       "   wordLength  \n",
       "0           2  \n",
       "1           2  \n",
       "2           1  \n",
       "3           6  \n",
       "4           4  "
      ]
     },
     "execution_count": 15,
     "metadata": {},
     "output_type": "execute_result"
    }
   ],
   "source": [
    "# Let's look at largest word length\n",
    "\n",
    "wordLengths = []\n",
    "for name in name_df['name']:\n",
    "    words = re.split(r'_|\\d', name)\n",
    "    matches.append(match)\n",
    "    if words:\n",
    "        lengths = np.array([len(x) for x in words])\n",
    "        wordLengths.append(np.amax(lengths))\n",
    "    else:\n",
    "        wordLengths.append(0)\n",
    "\n",
    "for i in [0, 4, 6, 8]:\n",
    "    print('i = ', i, '\\t', wordLengths[i])\n",
    "    \n",
    "# put into data frame\n",
    "\n",
    "name_df['wordLength'] = wordLengths\n",
    "name_df.head()"
   ]
  },
  {
   "cell_type": "code",
   "execution_count": 16,
   "metadata": {},
   "outputs": [
    {
     "data": {
      "image/png": "[encoded data removed]",
      "text/plain": [
       "<matplotlib.figure.Figure at 0x23acd0fccf8>"
      ]
     },
     "metadata": {},
     "output_type": "display_data"
    },
    {
     "data": {
      "image/png": "[encoded data removed]",
      "text/plain": [
       "<matplotlib.figure.Figure at 0x23acd079ef0>"
      ]
     },
     "metadata": {},
     "output_type": "display_data"
    },
    {
     "data": {
      "image/png": "[encoded data removed]",
      "text/plain": [
       "<matplotlib.figure.Figure at 0x23a9d04cfd0>"
      ]
     },
     "metadata": {},
     "output_type": "display_data"
    },
    {
     "data": {
      "image/png": "[encoded data removed]",
      "text/plain": [
       "<matplotlib.figure.Figure at 0x23a9d95ddd8>"
      ]
     },
     "metadata": {},
     "output_type": "display_data"
    }
   ],
   "source": [
    "name_df.wordLength.hist(bins = np.arange(30))\n",
    "plt.show()\n",
    "\n",
    "name_df['wordLength2'] = name_df.wordLength\n",
    "name_df.loc[name_df.wordLength2 > 18, 'wordLength2'] = 18\n",
    "name_df.loc[name_df.wordLength2 < 2, 'wordLength2'] = 2\n",
    "\n",
    "name_df.wordLength2.hist(bins = np.arange(20))\n",
    "plt.show()\n",
    "means = name_df[name_df.ratios < 5].groupby('wordLength2').mean().ratios\n",
    "stds = name_df[name_df.ratios < 5].groupby('wordLength2').std().ratios\n",
    "plt.plot(means)\n",
    "plt.show()\n",
    "plt.plot(stds)\n",
    "plt.show()"
   ]
  },
  {
   "cell_type": "code",
   "execution_count": 17,
   "metadata": {},
   "outputs": [
    {
     "name": "stdout",
     "output_type": "stream",
     "text": [
      "wordLength2\n",
      "(0, 2]      1.350227\n",
      "(2, 4]      1.277793\n",
      "(4, 6]      1.314933\n",
      "(6, 8]      1.240595\n",
      "(8, 10]     1.298465\n",
      "(10, 12]    1.251270\n",
      "(12, 14]    1.243437\n",
      "Name: ratios, dtype: float64\n"
     ]
    },
    {
     "data": {
      "image/png": "[encoded data removed]",
      "text/plain": [
       "<matplotlib.figure.Figure at 0x23a9d994588>"
      ]
     },
     "metadata": {},
     "output_type": "display_data"
    }
   ],
   "source": [
    "means = name_df[name_df.ratios < 20].groupby(pd.cut(name_df[name_df.ratios < 20].wordLength2, bins = np.arange(0,15,2))).mean().ratios\n",
    "print(means)\n",
    "plt.plot(means.values)\n",
    "plt.show()"
   ]
  },
  {
   "cell_type": "code",
   "execution_count": 18,
   "metadata": {},
   "outputs": [
    {
     "data": {
      "text/html": [
       "<div>\n",
       "<table border=\"1\" class=\"dataframe\">\n",
       "  <thead>\n",
       "    <tr style=\"text-align: right;\">\n",
       "      <th></th>\n",
       "      <th>ratios</th>\n",
       "      <th>logratios</th>\n",
       "      <th>name</th>\n",
       "      <th>project</th>\n",
       "      <th>access</th>\n",
       "      <th>agent</th>\n",
       "      <th>numWords</th>\n",
       "      <th>numWords2</th>\n",
       "      <th>numNums</th>\n",
       "      <th>numNums2</th>\n",
       "      <th>numSize</th>\n",
       "      <th>numSize2</th>\n",
       "      <th>capNums</th>\n",
       "      <th>capNums2</th>\n",
       "      <th>wordLength</th>\n",
       "      <th>wordLength2</th>\n",
       "    </tr>\n",
       "  </thead>\n",
       "  <tbody>\n",
       "    <tr>\n",
       "      <th>0</th>\n",
       "      <td>1.221424</td>\n",
       "      <td>0.200018</td>\n",
       "      <td>2NE1</td>\n",
       "      <td>9</td>\n",
       "      <td>0</td>\n",
       "      <td>3</td>\n",
       "      <td>1</td>\n",
       "      <td>1</td>\n",
       "      <td>1</td>\n",
       "      <td>1</td>\n",
       "      <td>2.0</td>\n",
       "      <td>1.0</td>\n",
       "      <td>2</td>\n",
       "      <td>2</td>\n",
       "      <td>2</td>\n",
       "      <td>2</td>\n",
       "    </tr>\n",
       "    <tr>\n",
       "      <th>1</th>\n",
       "      <td>1.247793</td>\n",
       "      <td>0.221377</td>\n",
       "      <td>2PM</td>\n",
       "      <td>9</td>\n",
       "      <td>0</td>\n",
       "      <td>3</td>\n",
       "      <td>1</td>\n",
       "      <td>1</td>\n",
       "      <td>1</td>\n",
       "      <td>1</td>\n",
       "      <td>2.0</td>\n",
       "      <td>1.0</td>\n",
       "      <td>2</td>\n",
       "      <td>2</td>\n",
       "      <td>2</td>\n",
       "      <td>2</td>\n",
       "    </tr>\n",
       "    <tr>\n",
       "      <th>2</th>\n",
       "      <td>1.492083</td>\n",
       "      <td>0.400174</td>\n",
       "      <td>3C</td>\n",
       "      <td>9</td>\n",
       "      <td>0</td>\n",
       "      <td>3</td>\n",
       "      <td>1</td>\n",
       "      <td>1</td>\n",
       "      <td>1</td>\n",
       "      <td>1</td>\n",
       "      <td>3.0</td>\n",
       "      <td>1.0</td>\n",
       "      <td>0</td>\n",
       "      <td>0</td>\n",
       "      <td>1</td>\n",
       "      <td>2</td>\n",
       "    </tr>\n",
       "    <tr>\n",
       "      <th>3</th>\n",
       "      <td>0.984510</td>\n",
       "      <td>-0.015610</td>\n",
       "      <td>4minute</td>\n",
       "      <td>9</td>\n",
       "      <td>0</td>\n",
       "      <td>3</td>\n",
       "      <td>1</td>\n",
       "      <td>1</td>\n",
       "      <td>1</td>\n",
       "      <td>1</td>\n",
       "      <td>4.0</td>\n",
       "      <td>1.0</td>\n",
       "      <td>0</td>\n",
       "      <td>0</td>\n",
       "      <td>6</td>\n",
       "      <td>6</td>\n",
       "    </tr>\n",
       "    <tr>\n",
       "      <th>4</th>\n",
       "      <td>1.598463</td>\n",
       "      <td>0.469043</td>\n",
       "      <td>52_Hz_I_Love_You</td>\n",
       "      <td>9</td>\n",
       "      <td>0</td>\n",
       "      <td>3</td>\n",
       "      <td>5</td>\n",
       "      <td>2</td>\n",
       "      <td>5</td>\n",
       "      <td>3</td>\n",
       "      <td>52.0</td>\n",
       "      <td>1.0</td>\n",
       "      <td>0</td>\n",
       "      <td>0</td>\n",
       "      <td>4</td>\n",
       "      <td>4</td>\n",
       "    </tr>\n",
       "  </tbody>\n",
       "</table>\n",
       "</div>"
      ],
      "text/plain": [
       "     ratios  logratios              name  project  access  agent  numWords  \\\n",
       "0  1.221424   0.200018              2NE1        9       0      3         1   \n",
       "1  1.247793   0.221377               2PM        9       0      3         1   \n",
       "2  1.492083   0.400174                3C        9       0      3         1   \n",
       "3  0.984510  -0.015610           4minute        9       0      3         1   \n",
       "4  1.598463   0.469043  52_Hz_I_Love_You        9       0      3         5   \n",
       "\n",
       "   numWords2  numNums  numNums2  numSize  numSize2  capNums  capNums2  \\\n",
       "0          1        1         1      2.0       1.0        2         2   \n",
       "1          1        1         1      2.0       1.0        2         2   \n",
       "2          1        1         1      3.0       1.0        0         0   \n",
       "3          1        1         1      4.0       1.0        0         0   \n",
       "4          2        5         3     52.0       1.0        0         0   \n",
       "\n",
       "   wordLength  wordLength2  \n",
       "0           2            2  \n",
       "1           2            2  \n",
       "2           1            2  \n",
       "3           6            6  \n",
       "4           4            4  "
      ]
     },
     "execution_count": 18,
     "metadata": {},
     "output_type": "execute_result"
    }
   ],
   "source": [
    "name_df.head()"
   ]
  },
  {
   "cell_type": "code",
   "execution_count": 19,
   "metadata": {
    "collapsed": true
   },
   "outputs": [],
   "source": [
    "feature_cols = ['project', 'access', 'agent', 'numWords2', 'numNums2', 'numSize2', 'capNums2', 'wordLength2']\n",
    "nameFeatures = name_df[feature_cols].values\n",
    "\n",
    "timeSeries = all_df.drop(['Page'], axis = 1).values"
   ]
  },
  {
   "cell_type": "code",
   "execution_count": 20,
   "metadata": {},
   "outputs": [
    {
     "data": {
      "image/png": "[encoded data removed]",
      "text/plain": [
       "<matplotlib.figure.Figure at 0x23a9d8d0e80>"
      ]
     },
     "metadata": {},
     "output_type": "display_data"
    },
    {
     "data": {
      "image/png": "[encoded data removed]",
      "text/plain": [
       "<matplotlib.figure.Figure at 0x23acdf674a8>"
      ]
     },
     "metadata": {},
     "output_type": "display_data"
    }
   ],
   "source": [
    "name_df.groupby(feature_cols).mean().ratios.hist(bins = np.arange(0, 10, .2))\n",
    "plt.show()\n",
    "\n",
    "name_df.groupby(feature_cols).std().ratios.hist(bins = np.arange(0, 10, .2))\n",
    "plt.show()"
   ]
  },
  {
   "cell_type": "code",
   "execution_count": 21,
   "metadata": {},
   "outputs": [
    {
     "data": {
      "image/png": "[encoded data removed]",
      "text/plain": [
       "<matplotlib.figure.Figure at 0x23a9d407198>"
      ]
     },
     "metadata": {},
     "output_type": "display_data"
    }
   ],
   "source": [
    "group_cols = ['numWords2', 'numNums2', 'numSize2', 'capNums2']\n",
    "name_df[name_df.ratios < 5].groupby(group_cols).mean().ratios\n",
    "name_df[name_df.ratios < 5].groupby(group_cols).mean().ratios.hist()\n",
    "plt.show()"
   ]
  },
  {
   "cell_type": "code",
   "execution_count": 22,
   "metadata": {
    "collapsed": true
   },
   "outputs": [],
   "source": [
    "futureT = 64\n",
    "nSamples, nName = nameFeatures.shape\n",
    "\n",
    "X_all = timeSeries[:, :-futureT]\n",
    "X_all = np.hstack((nameFeatures, X_all))\n",
    "Y_all = timeSeries[:, -futureT:]"
   ]
  },
  {
   "cell_type": "code",
   "execution_count": 23,
   "metadata": {},
   "outputs": [
    {
     "name": "stdout",
     "output_type": "stream",
     "text": [
      "X_train.shape =  (65118, 494) \tX_valid.shape =  (32074, 494) \tX_test.shape =  (47871, 494)\n",
      "Y_train.shape =  (65118, 64) \tY_valid.shape =  (32074, 64) \tY_test.shape =  (47871, 64)\n"
     ]
    }
   ],
   "source": [
    "X_trainvalid, X_test, Y_trainvalid, Y_test = train_test_split(X_all, Y_all, test_size = 0.33, random_state = 32)\n",
    "X_train, X_valid, Y_train, Y_valid = train_test_split(X_trainvalid, Y_trainvalid, test_size = 0.33, random_state = 35)\n",
    "\n",
    "print('X_train.shape = ', X_train.shape, '\\tX_valid.shape = ', X_valid.shape, '\\tX_test.shape = ', X_test.shape)\n",
    "print('Y_train.shape = ', Y_train.shape, '\\tY_valid.shape = ', Y_valid.shape, '\\tY_test.shape = ', Y_test.shape)"
   ]
  },
  {
   "cell_type": "code",
   "execution_count": 24,
   "metadata": {
    "collapsed": true
   },
   "outputs": [],
   "source": [
    "def smape(Y_predict, Y_test):\n",
    "    result = np.linalg.norm(Y_predict - Y_test, axis = 1)\n",
    "    result = np.abs(result)\n",
    "    denom = np.linalg.norm(Y_predict, axis = 1)\n",
    "    denom += np.linalg.norm(Y_test, axis = 1)\n",
    "    result /= denom\n",
    "    result *= 100 * 2\n",
    "    result = np.mean(result)\n",
    "    return result\n",
    "\n",
    "def smape_scorer(estimator, X, Y):\n",
    "    Ypredict = estimator.predict(X)\n",
    "    result = smape(Y, Ypredict)\n",
    "    return -result\n",
    "\n",
    "def features(X, nName):\n",
    "    means = X[:, nName:].mean(axis = 1, keepdims = True)\n",
    "    result = np.hstack((X[:, :nName], means))\n",
    "    return result"
   ]
  },
  {
   "cell_type": "code",
   "execution_count": 25,
   "metadata": {},
   "outputs": [
    {
     "name": "stdout",
     "output_type": "stream",
     "text": [
      "Smape =  102.219705428\n"
     ]
    }
   ],
   "source": [
    "# Simple benchmark (do not use name features)\n",
    "\n",
    "model = Pipeline([ ('features', FunctionTransformer(features, kw_args = {'nName' : nName})),\n",
    "                   ('drop_name_features', FunctionTransformer(lambda X : X[:, nName:])),\n",
    "                   ('tree', DecisionTreeRegressor(max_depth = 10)) ])\n",
    "model.fit(X_trainvalid, Y_trainvalid)\n",
    "Y_predict = model.predict(X_test)\n",
    "print('Smape = ', smape(1e-6 + Y_predict, Y_test))"
   ]
  },
  {
   "cell_type": "code",
   "execution_count": 26,
   "metadata": {},
   "outputs": [
    {
     "name": "stdout",
     "output_type": "stream",
     "text": [
      "Smape =  93.0507814809\n"
     ]
    }
   ],
   "source": [
    "# Now include name features.\n",
    "\n",
    "model = Pipeline([ ('features', FunctionTransformer(features, kw_args = {'nName' : nName})),\n",
    "                   ('tree', DecisionTreeRegressor(max_depth = 20)) ])\n",
    "model.fit(X_train, Y_train)\n",
    "Y_predict = model.predict(X_valid)\n",
    "print('Smape = ', smape(1e-6 + Y_predict, Y_valid))"
   ]
  },
  {
   "cell_type": "code",
   "execution_count": 27,
   "metadata": {},
   "outputs": [
    {
     "name": "stdout",
     "output_type": "stream",
     "text": [
      "depth =  1 smape =  138.596323566\n",
      "depth =  4 smape =  120.680870254\n",
      "depth =  7 smape =  101.932814118\n",
      "depth =  10 smape =  97.9478122368\n",
      "depth =  13 smape =  93.4020222159\n",
      "depth =  16 smape =  91.8461474131\n",
      "depth =  19 smape =  91.991091893\n",
      "depth =  22 smape =  94.8673992569\n",
      "depth =  25 smape =  98.5612273577\n",
      "depth =  28 smape =  102.197810992\n"
     ]
    },
    {
     "data": {
      "image/png": "[encoded data removed]",
      "text/plain": [
       "<matplotlib.figure.Figure at 0x23acca165f8>"
      ]
     },
     "metadata": {},
     "output_type": "display_data"
    }
   ],
   "source": [
    "# Do a depth search.\n",
    "\n",
    "model = Pipeline([ ('features', FunctionTransformer(features, kw_args = {'nName' : nName})),\n",
    "                   ('tree', DecisionTreeRegressor()) ])\n",
    "\n",
    "epsilon = 1e-6\n",
    "depth_search = np.arange(1, 30, 3)\n",
    "smapes = []\n",
    "for depth in depth_search:\n",
    "    model.set_params(tree__max_depth = depth)\n",
    "    model.fit(X_train, Y_train)\n",
    "    Y_predict = model.predict(X_valid)\n",
    "    newsmape = smape(1e-6 + Y_predict, Y_valid)\n",
    "    smapes.append(newsmape)\n",
    "    print('depth = ', depth, 'smape = ', newsmape)\n",
    "    \n",
    "plt.plot(depth_search, smapes)\n",
    "plt.show()"
   ]
  },
  {
   "cell_type": "code",
   "execution_count": 28,
   "metadata": {},
   "outputs": [
    {
     "name": "stdout",
     "output_type": "stream",
     "text": [
      "0.959320003686\n",
      "depth =  1 smape =  136.872034924\n",
      "depth =  4 smape =  129.855508632\n",
      "depth =  7 smape =  96.1440363614\n",
      "depth =  10 smape =  84.7122761681\n",
      "depth =  13 smape =  83.8195011531\n",
      "depth =  16 smape =  85.1721923148\n",
      "depth =  19 smape =  88.2899507769\n",
      "depth =  22 smape =  92.7122334612\n",
      "depth =  25 smape =  97.3928945541\n",
      "depth =  28 smape =  101.78132067\n"
     ]
    },
    {
     "data": {
      "image/png": "[encoded data removed]",
      "text/plain": [
       "<matplotlib.figure.Figure at 0x23a9d48c048>"
      ]
     },
     "metadata": {},
     "output_type": "display_data"
    }
   ],
   "source": [
    "# Now try only training on those points with reasonable ratio of means.\n",
    "\n",
    "cutoff = 5\n",
    "Y_mean = Y_train.mean(axis = 1)\n",
    "X_mean = X_train.mean(axis = 1)\n",
    "\n",
    "ratios = Y_mean / (epsilon + X_mean)\n",
    "print(np.sum(ratios < cutoff) / len(ratios))\n",
    "X_train2 = X_train[ratios < cutoff]\n",
    "Y_train2 = Y_train[ratios < cutoff]\n",
    "\n",
    "depth_search = np.arange(1, 30, 3)\n",
    "smapes = []\n",
    "for depth in depth_search:\n",
    "    model.set_params(tree__max_depth = depth)\n",
    "    model.fit(X_train2, Y_train2)\n",
    "    Y_predict = model.predict(X_valid)\n",
    "    newsmape = smape(1e-6 + Y_predict, Y_valid)\n",
    "    smapes.append(newsmape)\n",
    "    print('depth = ', depth, 'smape = ', newsmape)\n",
    "    \n",
    "plt.plot(depth_search, smapes)\n",
    "plt.show()"
   ]
  },
  {
   "cell_type": "code",
   "execution_count": 72,
   "metadata": {},
   "outputs": [
    {
     "name": "stdout",
     "output_type": "stream",
     "text": [
      "p =  0.5 squares =  0.0945573813044 0.0111305573935   p =  0.55 squares =  0.0825541903724 0.00952761672124   p =  0.6 squares =  0.0727616405542 0.00825161654238   p =  0.65 squares =  0.0646723164555 0.00721788280869   p =  0.7 squares =  0.0579002597014 0.00636850063721   p =  0.75 squares =  0.0521418820001 0.00566297751208   p =  0.8 squares =  0.0472242956774 0.00506933514034   p =  0.85 squares =  0.0430062353485 0.004564212925   p =  0.9 squares =  0.0393305498992 0.0041319532532   p =  0.95 squares =  0.0361144754063 0.00375878362971   p =  1.0 squares =  0.0332735948973 0.0034347493939   p =  1.05 squares =  0.0307628046676 0.00315106147208   p =  1.1 squares =  0.0285258639778 0.00290151442804   p =  1.15 squares =  0.0265447325504 0.00267997989147   p =  1.2 squares =  0.0247624784688 0.00248316126165   p =  1.25 squares =  0.023156268008 0.00230737170703   p =  1.3 squares =  0.0216925791224 0.00215012990257   p =  1.35 squares =  0.0203717627062 0.00200825278716   p =  1.4 squares =  0.0191676650142 0.00188010461484   p =  1.45 squares =  0.0180744424576 0.00176366971059   p =  1.5 squares =  0.017065131605 0.001658080436   p =  1.55 squares =  0.0161475122247 0.00156141366399   p =  1.6 squares =  0.0152978913381 0.00147317783507   p =  1.65 squares =  0.0145164801009 0.00139216253389   p =  1.7 squares =  0.0137924204575 0.00131773685024   p =  1.75 squares =  0.0131229319111 0.0012491011043   p =  1.8 squares =  0.0124999171929 0.00118576866426   p =  1.85 squares =  0.011922295262 0.00112708920421   p =  1.9 squares =  0.0113814285494 0.00107277504111   p =  1.95 squares =  0.0108776797842 0.00102227743014   "
     ]
    },
    {
     "data": {
      "image/png": "[encoded data removed]",
      "text/plain": [
       "<matplotlib.figure.Figure at 0x23a9d6f33c8>"
      ]
     },
     "metadata": {},
     "output_type": "display_data"
    }
   ],
   "source": [
    "# Now let's combine with a z transform. First get a look at effects of z transform on average square difference above mean\n",
    "# vs below mean.\n",
    "\n",
    "param_search = np.arange(0.5, 2, 0.05)\n",
    "\n",
    "def ztransform(Y, param):\n",
    "    return np.log(param + Y)\n",
    "\n",
    "def inverseZ(Z, param):\n",
    "    return -param + np.exp(Z)\n",
    "\n",
    "X_mean = X_train.mean(axis = 1) + epsilon\n",
    "\n",
    "above = []\n",
    "below = []\n",
    "\n",
    "for param in param_search:\n",
    "    Y_mean = Y_train.mean(axis = 1)\n",
    "    ratios = np.maximum(Z_mean / X_mean, epsilon)\n",
    "    ratios = ztransform(ratios, param)\n",
    "    mean_ratio = ratios.mean()\n",
    "    squares = (ratios - mean_ratio)**2\n",
    "    squareAbove = squares[ratios > mean_ratio].mean()\n",
    "    squareBelow = squares[ratios < mean_ratio].mean()\n",
    "    above.append(squareAbove)\n",
    "    below.append(squareBelow)\n",
    "    print('p = ', param, 'squares = ', squareAbove, squareBelow, '  ', end = '')\n",
    "    \n",
    "plt.plot(param_search, above)\n",
    "plt.plot(param_search, below, color = 'red')\n",
    "plt.show()\n",
    "    \n",
    "    "
   ]
  },
  {
   "cell_type": "code",
   "execution_count": 73,
   "metadata": {},
   "outputs": [
    {
     "data": {
      "image/png": "[encoded data removed]",
      "text/plain": [
       "<matplotlib.figure.Figure at 0x23acd156358>"
      ]
     },
     "metadata": {},
     "output_type": "display_data"
    }
   ],
   "source": [
    "param = 2\n",
    "Z_train = ztransform(Y_train, param)\n",
    "Z_mean = Z_train.mean(axis = 1)\n",
    "X_mean = ztransform(X_train, param).mean(axis = 1) + epsilon\n",
    "ratios = Z_mean / X_mean\n",
    "pd.Series(ratios).hist(bins = np.arange(0, 2, 0.1))\n",
    "plt.show()"
   ]
  },
  {
   "cell_type": "code",
   "execution_count": 79,
   "metadata": {},
   "outputs": [
    {
     "name": "stdout",
     "output_type": "stream",
     "text": [
      "depth =  1 smape =  108.090309682\n",
      "depth =  4 smape =  81.3817968723\n",
      "depth =  7 smape =  79.7213417014\n",
      "depth =  10 smape =  80.1160462565\n",
      "depth =  13 smape =  82.457126876\n",
      "depth =  16 smape =  87.3174663885\n",
      "depth =  19 smape =  93.3986870884\n",
      "depth =  22 smape =  98.6398209712\n",
      "depth =  25 smape =  102.41541217\n",
      "depth =  28 smape =  104.401763404\n"
     ]
    },
    {
     "data": {
      "image/png": "[encoded data removed]",
      "text/plain": [
       "<matplotlib.figure.Figure at 0x23acd567550>"
      ]
     },
     "metadata": {},
     "output_type": "display_data"
    }
   ],
   "source": [
    "# Now let's do a depth search combined with z transform.\n",
    "\n",
    "param = 2\n",
    "nameFeaturesTransform = Pipeline([ ('drop', FunctionTransformer(lambda X : X[:, :nName])) ])\n",
    "timesTransform = Pipeline([ ('drop', FunctionTransformer(lambda X : X[:, nName:])),\n",
    "                            ('ztransform', FunctionTransformer(ztransform, kw_args = {'param' : param})),\n",
    "                            ('mean', FunctionTransformer(lambda X : X.mean(axis = 1, keepdims = True))) ])\n",
    "preTransform = FeatureUnion([ ('names', nameFeaturesTransform),\n",
    "                              ('times', timesTransform) ])\n",
    "model = Pipeline([ ('pre', preTransform),\n",
    "                   ('tree', DecisionTreeRegressor()) ])\n",
    "\n",
    "epsilon = 1e-6\n",
    "depth_search = np.arange(1, 30, 3)\n",
    "smapes = []\n",
    "for depth in depth_search:\n",
    "    model.set_params(tree__max_depth = depth)\n",
    "    Z_train = ztransform(Y_train, param)\n",
    "    model.fit(X_train, Z_train)\n",
    "    Z_predict = model.predict(X_valid)\n",
    "    Y_predict = inverseZ(Z_predict, param)\n",
    "    newsmape = smape(1e-6 + Y_predict, Y_valid)\n",
    "    smapes.append(newsmape)\n",
    "    print('depth = ', depth, 'smape = ', newsmape)\n",
    "    \n",
    "plt.plot(depth_search, smapes)\n",
    "plt.show()"
   ]
  },
  {
   "cell_type": "code",
   "execution_count": 81,
   "metadata": {},
   "outputs": [
    {
     "name": "stdout",
     "output_type": "stream",
     "text": [
      "depth =  1 smape =  108.326708272\n",
      "depth =  4 smape =  82.3433201002\n",
      "depth =  7 smape =  80.3014012374\n",
      "depth =  10 smape =  80.3589078954\n",
      "depth =  13 smape =  82.2986645833\n",
      "depth =  16 smape =  86.8265173212\n",
      "depth =  19 smape =  92.7426255991\n",
      "depth =  22 smape =  98.0627445335\n",
      "depth =  25 smape =  101.221504927\n",
      "depth =  28 smape =  102.460739542\n"
     ]
    },
    {
     "data": {
      "image/png": "[encoded data removed]",
      "text/plain": [
       "<matplotlib.figure.Figure at 0x23a9d2a6da0>"
      ]
     },
     "metadata": {},
     "output_type": "display_data"
    }
   ],
   "source": [
    "# Now let's combine all.\n",
    "\n",
    "param = 2\n",
    "cutoff = 5\n",
    "nameFeaturesTransform = Pipeline([ ('drop', FunctionTransformer(lambda X : X[:, :nName])) ])\n",
    "timesTransform = Pipeline([ ('drop', FunctionTransformer(lambda X : X[:, nName:])),\n",
    "                            ('ztransform', FunctionTransformer(ztransform, kw_args = {'param' : param})),\n",
    "                            ('mean', FunctionTransformer(lambda X : X.mean(axis = 1, keepdims = True))) ])\n",
    "preTransform = FeatureUnion([ ('names', nameFeaturesTransform),\n",
    "                              ('times', timesTransform) ])\n",
    "model = Pipeline([ ('pre', preTransform),\n",
    "                   ('tree', DecisionTreeRegressor()) ])\n",
    "\n",
    "epsilon = 1e-6\n",
    "depth_search = np.arange(1, 30, 3)\n",
    "smapes = []\n",
    "X_mean = X_train.mean(axis = 1) + epsilon\n",
    "Y_mean = Y_train.mean(axis = 1)\n",
    "ratios = Y_mean / X_mean\n",
    "X_train2 = X_train[ratios < cutoff]\n",
    "Y_train2 = Y_train[ratios < cutoff]\n",
    "\n",
    "for depth in depth_search:\n",
    "    model.set_params(tree__max_depth = depth)\n",
    "    \n",
    "    Z_train = ztransform(Y_train2, param)\n",
    "    model.fit(X_train2, Z_train)\n",
    "    Z_predict = model.predict(X_valid)\n",
    "    Y_predict = inverseZ(Z_predict, param)\n",
    "    newsmape = smape(1e-6 + Y_predict, Y_valid)\n",
    "    smapes.append(newsmape)\n",
    "    print('depth = ', depth, 'smape = ', newsmape)\n",
    "    \n",
    "plt.plot(depth_search, smapes)\n",
    "plt.show()"
   ]
  },
  {
   "cell_type": "code",
   "execution_count": null,
   "metadata": {
    "collapsed": true
   },
   "outputs": [],
   "source": []
  }
 ],
 "metadata": {
  "kernelspec": {
   "display_name": "Python 3",
   "language": "python",
   "name": "python3"
  },
  "language_info": {
   "codemirror_mode": {
    "name": "ipython",
    "version": 3
   },
   "file_extension": ".py",
   "mimetype": "text/x-python",
   "name": "python",
   "nbconvert_exporter": "python",
   "pygments_lexer": "ipython3",
   "version": "3.5.2"
  }
 },
 "nbformat": 4,
 "nbformat_minor": 2
}
