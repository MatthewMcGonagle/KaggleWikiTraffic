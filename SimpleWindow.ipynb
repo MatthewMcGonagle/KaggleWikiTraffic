{
 "cells": [
  {
   "cell_type": "code",
   "execution_count": 1,
   "metadata": {
    "collapsed": true
   },
   "outputs": [],
   "source": [
    "# Note that key_1.csv shows that we are supposed to predict about 2 months worth of future data based on data\n",
    "# lasting from 2015-07-01 to 2016-12-31."
   ]
  },
  {
   "cell_type": "code",
   "execution_count": 2,
   "metadata": {
    "collapsed": true
   },
   "outputs": [],
   "source": [
    "import pandas as pd\n",
    "import numpy as np\n",
    "import re\n",
    "from matplotlib import pyplot as plt\n",
    "from sklearn.model_selection import (train_test_split, cross_val_score)\n",
    "from sklearn.preprocessing import (PolynomialFeatures, FunctionTransformer)\n",
    "from sklearn.pipeline import (make_pipeline, make_union)\n",
    "from sklearn.linear_model import LinearRegression"
   ]
  },
  {
   "cell_type": "code",
   "execution_count": 3,
   "metadata": {},
   "outputs": [
    {
     "data": {
      "image/png": "[encoded data removed]",
      "text/plain": [
       "<matplotlib.figure.Figure at 0x1d6cc89a278>"
      ]
     },
     "metadata": {},
     "output_type": "display_data"
    }
   ],
   "source": [
    "# Reference for performace measured by reference function. For a term |y_test - y_predict| / (|y_test| + |y_predict|) * 2 * 100,\n",
    "# we look at when y_predict = alpha * y_test. Look at term as a function of alpha.\n",
    "\n",
    "alpha = np.arange(0.0, 6.0, 0.1)\n",
    "num = np.abs(1 - alpha)\n",
    "denom = 1 + np.abs(alpha)\n",
    "smapeVals = num / denom * 2 * 100\n",
    "\n",
    "plt.plot(alpha, smapeVals)\n",
    "plt.show()"
   ]
  },
  {
   "cell_type": "code",
   "execution_count": 4,
   "metadata": {},
   "outputs": [
    {
     "data": {
      "text/plain": [
       "(145063, 551)"
      ]
     },
     "execution_count": 4,
     "metadata": {},
     "output_type": "execute_result"
    }
   ],
   "source": [
    "all_df = pd.read_csv('train_1.csv')\n",
    "all_df.shape"
   ]
  },
  {
   "cell_type": "code",
   "execution_count": 5,
   "metadata": {
    "collapsed": true
   },
   "outputs": [],
   "source": [
    "# For now, just set all NaN to 0.\n",
    "\n",
    "all_df.fillna(0, inplace = True)"
   ]
  },
  {
   "cell_type": "code",
   "execution_count": 30,
   "metadata": {},
   "outputs": [],
   "source": [
    "futureT = 64\n",
    "\n",
    "X_all = all_df.drop('Page', axis = 1).values[:, :-futureT]\n",
    "Y_all = all_df.drop('Page', axis = 1).values[:, -futureT:]"
   ]
  },
  {
   "cell_type": "code",
   "execution_count": 7,
   "metadata": {
    "collapsed": true
   },
   "outputs": [],
   "source": [
    "X_train, X_test, Y_train, Y_test = train_test_split(X_all, Y_all, test_size = 0.33, random_state = 32)"
   ]
  },
  {
   "cell_type": "code",
   "execution_count": 92,
   "metadata": {
    "collapsed": true
   },
   "outputs": [],
   "source": [
    "def windowsAvgs(X, windowT = 100):\n",
    "    Xheight, Xwidth = X.shape\n",
    "    windows = np.mean(X[:, -windowT:], axis = 1).reshape(-1,1)\n",
    "    for start in range(2*windowT, Xwidth, windowT):\n",
    "        newcol = np.mean(X[:, -start: -start + windowT], axis = 1).reshape(-1,1)\n",
    "        np.hstack((windows, newcol))\n",
    "    return windows\n",
    "\n",
    "def windowsLinear(X, windowT = 100):\n",
    "    Xheight, Xwidth = X.shape\n",
    "    linearPart = np.arange(windowT)\n",
    "    windows = np.dot(X[:,-windowT:], linearPart).reshape(-1,1)\n",
    "    for start in range(2 * windowT, Xwidth, windowT):\n",
    "        newcol = np.dot(X[:, -start: -start + windowT], linearPart).reshape(-1,1)\n",
    "        np.hstack((windows, newcol))\n",
    "    return windows\n",
    "\n",
    "def windowsPower(X, power = 2, windowT = 100):\n",
    "    Xheight, Xwidth = X.shape\n",
    "    powerVals = np.arange(windowT)**power\n",
    "    windows = np.dot(X[:,-windowT:], powerVals).reshape(-1,1)\n",
    "    for start in range(2 * windowT, Xwidth, windowT):\n",
    "        newcol = np.dot(X[:, -start: -start + windowT], powerVals).reshape(-1,1)\n",
    "        np.hstack((windows, newcol))\n",
    "    return windows\n",
    "\n",
    "def windowsMultiPower(X, power = 2, windowT = 100):\n",
    "    Xheight, Xwidth = X.shape\n",
    "    result = np.empty((Xheight, 0))\n",
    "    for curPower in range(power + 1):\n",
    "        newArray = windowsPower(X, curPower, windowT)\n",
    "        result = np.hstack((result, newArray))\n",
    "    return result\n",
    "\n",
    "def smape(Y_predict, Y_test):\n",
    "    result = np.linalg.norm(Y_predict - Y_test, axis = 1)\n",
    "    result = np.abs(result)\n",
    "    denom = np.linalg.norm(Y_predict, axis = 1)\n",
    "    denom += np.linalg.norm(Y_test, axis = 1)\n",
    "    result /= denom\n",
    "    result *= 100 * 2\n",
    "    result = np.mean(result)\n",
    "    return result\n",
    "\n",
    "def smape_scorer(estimator, X, Y):\n",
    "    Ypredict = estimator.predict(X)\n",
    "    result = smape(Y, Ypredict)\n",
    "    return -result"
   ]
  },
  {
   "cell_type": "code",
   "execution_count": 9,
   "metadata": {},
   "outputs": [],
   "source": [
    "preTransform = make_union( FunctionTransformer(windowsAvgs),\n",
    "                           FunctionTransformer(windowsLinear),\n",
    "                           FunctionTransformer(windowsPower, kw_args = {'power':2}) )\n",
    "                           \n",
    "model = make_pipeline(preTransform,\n",
    "                      PolynomialFeatures(2),\n",
    "                      LinearRegression())\n",
    "model.fit(X_train, Y_train)\n",
    "Y_predict = model.predict(X_test)"
   ]
  },
  {
   "cell_type": "code",
   "execution_count": 10,
   "metadata": {},
   "outputs": [
    {
     "data": {
      "text/plain": [
       "116.42685184798619"
      ]
     },
     "execution_count": 10,
     "metadata": {},
     "output_type": "execute_result"
    }
   ],
   "source": [
    "smape(Y_predict, Y_test)"
   ]
  },
  {
   "cell_type": "code",
   "execution_count": 11,
   "metadata": {},
   "outputs": [
    {
     "data": {
      "text/plain": [
       "118.04818082187064"
      ]
     },
     "execution_count": 11,
     "metadata": {},
     "output_type": "execute_result"
    }
   ],
   "source": [
    "scores = -cross_val_score(model, X_all, Y_all, scoring = smape_scorer)\n",
    "np.mean(scores)"
   ]
  },
  {
   "cell_type": "code",
   "execution_count": 46,
   "metadata": {},
   "outputs": [
    {
     "name": "stdout",
     "output_type": "stream",
     "text": [
      "Power  0  has score =  114.169344403\n",
      "Power  1  has score =  112.255266653\n",
      "Power  2  has score =  112.733945394\n",
      "Power  3  has score =  112.698832722\n",
      "Power  4  has score =  112.559663202\n"
     ]
    }
   ],
   "source": [
    "# Let's try linear features after the preTransform\n",
    "\n",
    "preTransformers = []\n",
    "scores = []\n",
    "\n",
    "for power in range(5):\n",
    "    newtransform = FunctionTransformer(windowsPower, kw_args = {'power' : power, 'windowT' : 64})\n",
    "    preTransformers.append(newtransform)\n",
    "    preTransform = make_union(*preTransformers)\n",
    "    model = make_pipeline(preTransform,\n",
    "                         PolynomialFeatures(1),\n",
    "                         LinearRegression())\n",
    "    score = -cross_val_score(model, X_all, Y_all, scoring = smape_scorer)\n",
    "    score = np.mean(score)\n",
    "    scores.append(score)\n",
    "    print('Power ', power, ' has score = ', score)"
   ]
  },
  {
   "cell_type": "code",
   "execution_count": 47,
   "metadata": {},
   "outputs": [
    {
     "data": {
      "image/png": "[encoded data removed]",
      "text/plain": [
       "<matplotlib.figure.Figure at 0x1d6cdd23e80>"
      ]
     },
     "metadata": {},
     "output_type": "display_data"
    }
   ],
   "source": [
    "plt.plot(scores)\n",
    "plt.show()"
   ]
  },
  {
   "cell_type": "code",
   "execution_count": 48,
   "metadata": {},
   "outputs": [
    {
     "name": "stdout",
     "output_type": "stream",
     "text": [
      "Power  0  has score =  117.063629044\n",
      "Power  1  has score =  115.387604568\n",
      "Power  2  has score =  115.055048775\n",
      "Power  3  has score =  112.814602291\n",
      "Power  4  has score =  129.273170834\n"
     ]
    }
   ],
   "source": [
    "# Now, let's try quadratic features after the preTransform\n",
    "\n",
    "preTransformers = []\n",
    "scores = []\n",
    "\n",
    "for power in range(5):\n",
    "    newtransform = FunctionTransformer(windowsPower, kw_args = {'power' : power, 'windowT' : 64})\n",
    "    preTransformers.append(newtransform)\n",
    "    preTransform = make_union(*preTransformers)\n",
    "    model = make_pipeline(preTransform,\n",
    "                         PolynomialFeatures(2),\n",
    "                         LinearRegression())\n",
    "    score = -cross_val_score(model, X_all, Y_all, scoring = smape_scorer)\n",
    "    score = np.mean(score)\n",
    "    scores.append(score)\n",
    "    print('Power ', power, ' has score = ', score)"
   ]
  },
  {
   "cell_type": "code",
   "execution_count": 49,
   "metadata": {},
   "outputs": [
    {
     "data": {
      "image/png": "[encoded data removed]",
      "text/plain": [
       "<matplotlib.figure.Figure at 0x1d6f166a780>"
      ]
     },
     "metadata": {},
     "output_type": "display_data"
    }
   ],
   "source": [
    "plt.plot(scores)\n",
    "plt.show()"
   ]
  },
  {
   "cell_type": "code",
   "execution_count": 42,
   "metadata": {},
   "outputs": [
    {
     "name": "stdout",
     "output_type": "stream",
     "text": [
      "Number of Pages containing four digit numbers =  1154.0\n"
     ]
    },
    {
     "data": {
      "text/plain": [
       "[['2NE1_zh.wikipedia.org_all-access_spider', array([ 0.])],\n",
       " ['2PM_zh.wikipedia.org_all-access_spider', array([ 0.])],\n",
       " ['3C_zh.wikipedia.org_all-access_spider', array([ 0.])],\n",
       " ['4minute_zh.wikipedia.org_all-access_spider', array([ 0.])],\n",
       " ['52_Hz_I_Love_You_zh.wikipedia.org_all-access_spider', array([ 0.])],\n",
       " ['5566_zh.wikipedia.org_all-access_spider', array([ 1.])],\n",
       " ['91Days_zh.wikipedia.org_all-access_spider', array([ 0.])],\n",
       " [\"A'N'D_zh.wikipedia.org_all-access_spider\", array([ 0.])],\n",
       " ['AKB48_zh.wikipedia.org_all-access_spider', array([ 0.])],\n",
       " ['ASCII_zh.wikipedia.org_all-access_spider', array([ 0.])],\n",
       " ['ASTRO_zh.wikipedia.org_all-access_spider', array([ 0.])],\n",
       " ['Ahq_e-Sports_Club_zh.wikipedia.org_all-access_spider', array([ 0.])],\n",
       " ['All_your_base_are_belong_to_us_zh.wikipedia.org_all-access_spider',\n",
       "  array([ 0.])],\n",
       " ['AlphaGo_zh.wikipedia.org_all-access_spider', array([ 0.])],\n",
       " ['Android_zh.wikipedia.org_all-access_spider', array([ 0.])],\n",
       " ['Angelababy_zh.wikipedia.org_all-access_spider', array([ 0.])],\n",
       " ['Apink_zh.wikipedia.org_all-access_spider', array([ 0.])],\n",
       " ['Apple_II_zh.wikipedia.org_all-access_spider', array([ 0.])],\n",
       " ['As_One_zh.wikipedia.org_all-access_spider', array([ 0.])],\n",
       " ['B-PROJECT_zh.wikipedia.org_all-access_spider', array([ 0.])]]"
      ]
     },
     "execution_count": 42,
     "metadata": {},
     "output_type": "execute_result"
    }
   ],
   "source": [
    "# Let's try adding in whether Page contains a four digit number (most likely a year date)\n",
    "\n",
    "hasFourDigit = []\n",
    "for pageStr in all_df['Page']:\n",
    "    thisHave = re.match(r'(\\b|\\D)\\d\\d\\d\\d(\\b|\\D)', pageStr)\n",
    "    if thisHave == None:\n",
    "        hasFourDigit.append(0.0)\n",
    "    else:\n",
    "        hasFourDigit.append(1.0)\n",
    "        \n",
    "all_df['nameHasYear'] = hasFourDigit\n",
    "hasFourDigit = np.array(hasFourDigit).reshape(-1,1)\n",
    "print('Number of Pages containing four digit numbers = ', np.sum(hasFourDigit))\n",
    "\n",
    "[ [x, y] for (x,y) in zip(all_df['Page'].values, hasFourDigit)][:20]"
   ]
  },
  {
   "cell_type": "code",
   "execution_count": 66,
   "metadata": {},
   "outputs": [
    {
     "data": {
      "image/png": "[encoded data removed]",
      "text/plain": [
       "<matplotlib.figure.Figure at 0x1d6d9b87208>"
      ]
     },
     "metadata": {},
     "output_type": "display_data"
    }
   ],
   "source": [
    "# Let's count the number of occurrences of '_'.\n",
    "\n",
    "numWords = []\n",
    "for pageStr in all_df['Page']:\n",
    "    words = re.split(r'_', pageStr)\n",
    "    numWords.append(len(words))\n",
    "    \n",
    "numWords = np.array(numWords).reshape(-1,1)\n",
    "\n",
    "vals, counts = np.unique(numWords, return_counts = True)\n",
    "plt.plot(vals, counts)\n",
    "plt.show()\n",
    "\n",
    "all_df['numWords'] = numWords"
   ]
  },
  {
   "cell_type": "code",
   "execution_count": 103,
   "metadata": {},
   "outputs": [
    {
     "name": "stdout",
     "output_type": "stream",
     "text": [
      "For tPower of  0  score =  113.884718361\n",
      "For tPower of  1  score =  112.038312406\n",
      "For tPower of  2  score =  112.576491376\n",
      "For tPower of  3  score =  112.484267314\n",
      "For tPower of  4  score =  112.460867832\n",
      "For tPower of  5  score =  112.957995356\n"
     ]
    },
    {
     "data": {
      "text/plain": [
       "112.95799535615713"
      ]
     },
     "execution_count": 103,
     "metadata": {},
     "output_type": "execute_result"
    }
   ],
   "source": [
    "# Let's put the number of occurrences of '_' in Page into linear regression\n",
    "\n",
    "X_all2 = np.hstack((X_all, numWords))\n",
    "all_scores = []\n",
    "\n",
    "for tPower in range(6):\n",
    "    preTransformer = FunctionTransformer(windowsMultiPower, kw_args = {'power' : tPower, 'windowT' : 64})\n",
    "    preTransformer = make_pipeline(FunctionTransformer(lambda X : X[:,:-1]),\n",
    "                                   preTransformer)\n",
    "\n",
    "    preTransformer = make_union(FunctionTransformer(lambda X : X[:, -1:].reshape(-1,1)),\n",
    "                                preTransformer)\n",
    "\n",
    "    model = make_pipeline(preTransformer,\n",
    "                          PolynomialFeatures(1),\n",
    "                          LinearRegression())\n",
    "    scores = -cross_val_score(model, X_all2, Y_all, scoring = smape_scorer)\n",
    "    scores = np.mean(scores)\n",
    "    print('For tPower of ', tPower, ' score = ', scores)\n",
    "    all_scores.append(scores)\n",
    "\n",
    "scores"
   ]
  },
  {
   "cell_type": "code",
   "execution_count": 107,
   "metadata": {},
   "outputs": [
    {
     "name": "stdout",
     "output_type": "stream",
     "text": [
      "For tPower of  0  score =  113.77533185\n",
      "For tPower of  1  score =  111.536882747\n",
      "For tPower of  2  score =  111.789980367\n",
      "For tPower of  3  score =  111.710147404\n"
     ]
    },
    {
     "data": {
      "text/plain": [
       "111.71014740431609"
      ]
     },
     "execution_count": 107,
     "metadata": {},
     "output_type": "execute_result"
    }
   ],
   "source": [
    "# Now try making sure predictions are non-negative\n",
    "\n",
    "X_all2 = np.hstack((X_all, numWords))\n",
    "all_scores = []\n",
    "\n",
    "def smape_scorer2(estimator, X, Y):\n",
    "    Ypredict = estimator.predict(X)\n",
    "    Ypredict = np.abs(Ypredict)\n",
    "    result = smape(Y, Ypredict)\n",
    "    return -result\n",
    "\n",
    "for tPower in range(4):\n",
    "    preTransformer = FunctionTransformer(windowsMultiPower, kw_args = {'power' : tPower, 'windowT' : 64})\n",
    "    preTransformer = make_pipeline(FunctionTransformer(lambda X : X[:,:-1]),\n",
    "                                   preTransformer)\n",
    "\n",
    "    preTransformer = make_union(FunctionTransformer(lambda X : X[:, -1:].reshape(-1,1)),\n",
    "                                preTransformer)\n",
    "\n",
    "    model = make_pipeline(preTransformer,\n",
    "                          PolynomialFeatures(1),\n",
    "                          LinearRegression())\n",
    "    scores = -cross_val_score(model, X_all2, Y_all, scoring = smape_scorer2)\n",
    "    scores = np.mean(scores)\n",
    "    print('For tPower of ', tPower, ' score = ', scores)\n",
    "    all_scores.append(scores)\n",
    "\n",
    "scores"
   ]
  },
  {
   "cell_type": "code",
   "execution_count": null,
   "metadata": {
    "collapsed": true
   },
   "outputs": [],
   "source": []
  }
 ],
 "metadata": {
  "kernelspec": {
   "display_name": "Python 3",
   "language": "python",
   "name": "python3"
  },
  "language_info": {
   "codemirror_mode": {
    "name": "ipython",
    "version": 3
   },
   "file_extension": ".py",
   "mimetype": "text/x-python",
   "name": "python",
   "nbconvert_exporter": "python",
   "pygments_lexer": "ipython3",
   "version": "3.5.2"
  }
 },
 "nbformat": 4,
 "nbformat_minor": 2
}
