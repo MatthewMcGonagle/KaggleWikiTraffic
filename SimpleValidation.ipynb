{
 "cells": [
  {
   "cell_type": "code",
   "execution_count": 1,
   "metadata": {
    "collapsed": true
   },
   "outputs": [],
   "source": [
    "# Explore some simple models using a simple train, validation, and test split. \n",
    "# Note that key_1.csv shows that we are supposed to predict about 2 months worth of future data based on data\n",
    "# lasting from 2015-07-01 to 2016-12-31."
   ]
  },
  {
   "cell_type": "code",
   "execution_count": 45,
   "metadata": {
    "collapsed": true
   },
   "outputs": [],
   "source": [
    "import pandas as pd\n",
    "import numpy as np\n",
    "import re\n",
    "from matplotlib import pyplot as plt\n",
    "from sklearn.model_selection import (train_test_split, cross_val_score)\n",
    "from sklearn.preprocessing import (PolynomialFeatures, FunctionTransformer)\n",
    "from sklearn.pipeline import (make_pipeline, make_union, Pipeline)\n",
    "from sklearn.linear_model import LinearRegression"
   ]
  },
  {
   "cell_type": "code",
   "execution_count": 3,
   "metadata": {},
   "outputs": [
    {
     "data": {
      "image/png": "[encoded data removed]",
      "text/plain": [
       "<matplotlib.figure.Figure at 0x2182030b3c8>"
      ]
     },
     "metadata": {},
     "output_type": "display_data"
    }
   ],
   "source": [
    "# Reference for performace measured by reference function. For a term |y_test - y_predict| / (|y_test| + |y_predict|) * 2 * 100,\n",
    "# we look at when y_predict = alpha * y_test. Look at term as a function of alpha.\n",
    "\n",
    "alpha = np.arange(0.0, 6.0, 0.1)\n",
    "num = np.abs(1 - alpha)\n",
    "denom = 1 + np.abs(alpha)\n",
    "smapeVals = num / denom * 2 * 100\n",
    "\n",
    "plt.plot(alpha, smapeVals)\n",
    "plt.show()"
   ]
  },
  {
   "cell_type": "code",
   "execution_count": 4,
   "metadata": {},
   "outputs": [
    {
     "data": {
      "text/plain": [
       "(145063, 551)"
      ]
     },
     "execution_count": 4,
     "metadata": {},
     "output_type": "execute_result"
    }
   ],
   "source": [
    "all_df = pd.read_csv('train_1.csv')\n",
    "all_df.shape"
   ]
  },
  {
   "cell_type": "code",
   "execution_count": 5,
   "metadata": {
    "collapsed": true
   },
   "outputs": [],
   "source": [
    "# For now, just set all NaN to 0.\n",
    "\n",
    "all_df.fillna(0, inplace = True)"
   ]
  },
  {
   "cell_type": "code",
   "execution_count": 6,
   "metadata": {
    "collapsed": true
   },
   "outputs": [],
   "source": [
    "futureT = 64\n",
    "\n",
    "X_all = all_df.drop('Page', axis = 1).values[:, :-futureT]\n",
    "Y_all = all_df.drop('Page', axis = 1).values[:, -futureT:]"
   ]
  },
  {
   "cell_type": "code",
   "execution_count": 10,
   "metadata": {},
   "outputs": [
    {
     "name": "stdout",
     "output_type": "stream",
     "text": [
      "X_train.shape =  (65118, 486) \tX_valid.shape =  (32074, 486) \tX_test.shape =  (47871, 486)\n",
      "Y_train.shape =  (65118, 64) \tY_valid.shape =  (32074, 64) \tY_test.shape =  (47871, 64)\n"
     ]
    }
   ],
   "source": [
    "X_trainvalid, X_test, Y_trainvalid, Y_test = train_test_split(X_all, Y_all, test_size = 0.33, random_state = 32)\n",
    "X_train, X_valid, Y_train, Y_valid = train_test_split(X_trainvalid, Y_trainvalid, test_size = 0.33, random_state = 35)\n",
    "\n",
    "print('X_train.shape = ', X_train.shape, '\\tX_valid.shape = ', X_valid.shape, '\\tX_test.shape = ', X_test.shape)\n",
    "print('Y_train.shape = ', Y_train.shape, '\\tY_valid.shape = ', Y_valid.shape, '\\tY_test.shape = ', Y_test.shape)"
   ]
  },
  {
   "cell_type": "code",
   "execution_count": 11,
   "metadata": {
    "collapsed": true
   },
   "outputs": [],
   "source": [
    "def windowsAvgs(X, windowT = 100):\n",
    "    Xheight, Xwidth = X.shape\n",
    "    windows = np.mean(X[:, -windowT:], axis = 1).reshape(-1,1)\n",
    "    for start in range(2*windowT, Xwidth, windowT):\n",
    "        newcol = np.mean(X[:, -start: -start + windowT], axis = 1).reshape(-1,1)\n",
    "        np.hstack((windows, newcol))\n",
    "    return windows\n",
    "\n",
    "def windowsLinear(X, windowT = 100):\n",
    "    Xheight, Xwidth = X.shape\n",
    "    linearPart = np.arange(windowT)\n",
    "    windows = np.dot(X[:,-windowT:], linearPart).reshape(-1,1)\n",
    "    for start in range(2 * windowT, Xwidth, windowT):\n",
    "        newcol = np.dot(X[:, -start: -start + windowT], linearPart).reshape(-1,1)\n",
    "        np.hstack((windows, newcol))\n",
    "    return windows\n",
    "\n",
    "def windowsPower(X, power = 2, windowT = 100):\n",
    "    Xheight, Xwidth = X.shape\n",
    "    powerVals = np.arange(windowT)**power\n",
    "    windows = np.dot(X[:,-windowT:], powerVals).reshape(-1,1)\n",
    "    for start in range(2 * windowT, Xwidth, windowT):\n",
    "        newcol = np.dot(X[:, -start: -start + windowT], powerVals).reshape(-1,1)\n",
    "        np.hstack((windows, newcol))\n",
    "    return windows\n",
    "\n",
    "def windowsMultiPower(X, power = 2, windowT = 100):\n",
    "    Xheight, Xwidth = X.shape\n",
    "    result = np.empty((Xheight, 0))\n",
    "    for curPower in range(power + 1):\n",
    "        newArray = windowsPower(X, curPower, windowT)\n",
    "        result = np.hstack((result, newArray))\n",
    "    return result\n",
    "\n",
    "def smape(Y_predict, Y_test):\n",
    "    result = np.linalg.norm(Y_predict - Y_test, axis = 1)\n",
    "    result = np.abs(result)\n",
    "    denom = np.linalg.norm(Y_predict, axis = 1)\n",
    "    denom += np.linalg.norm(Y_test, axis = 1)\n",
    "    result /= denom\n",
    "    result *= 100 * 2\n",
    "    result = np.mean(result)\n",
    "    return result\n",
    "\n",
    "def smape_scorer(estimator, X, Y):\n",
    "    Ypredict = estimator.predict(X)\n",
    "    result = smape(Y, Ypredict)\n",
    "    return -result"
   ]
  },
  {
   "cell_type": "code",
   "execution_count": 23,
   "metadata": {},
   "outputs": [
    {
     "data": {
      "text/plain": [
       "{'linear': LinearRegression(copy_X=True, fit_intercept=True, n_jobs=1, normalize=False),\n",
       " 'linear__copy_X': True,\n",
       " 'linear__fit_intercept': True,\n",
       " 'linear__n_jobs': 1,\n",
       " 'linear__normalize': False,\n",
       " 'poly': PolynomialFeatures(degree=2, include_bias=True, interaction_only=False),\n",
       " 'poly__degree': 2,\n",
       " 'poly__include_bias': True,\n",
       " 'poly__interaction_only': False,\n",
       " 'pre': FunctionTransformer(accept_sparse=False,\n",
       "           func=<function windowsAvgs at 0x000002184C4DEC80>,\n",
       "           inv_kw_args=None, inverse_func=None, kw_args={'windowT': 64},\n",
       "           pass_y=False, validate=True),\n",
       " 'pre__accept_sparse': False,\n",
       " 'pre__func': <function __main__.windowsAvgs>,\n",
       " 'pre__inv_kw_args': None,\n",
       " 'pre__inverse_func': None,\n",
       " 'pre__kw_args': {'windowT': 64},\n",
       " 'pre__pass_y': False,\n",
       " 'pre__validate': True,\n",
       " 'steps': [('pre', FunctionTransformer(accept_sparse=False,\n",
       "             func=<function windowsAvgs at 0x000002184C4DEC80>,\n",
       "             inv_kw_args=None, inverse_func=None, kw_args={'windowT': 64},\n",
       "             pass_y=False, validate=True)),\n",
       "  ('poly',\n",
       "   PolynomialFeatures(degree=2, include_bias=True, interaction_only=False)),\n",
       "  ('linear',\n",
       "   LinearRegression(copy_X=True, fit_intercept=True, n_jobs=1, normalize=False))]}"
      ]
     },
     "execution_count": 23,
     "metadata": {},
     "output_type": "execute_result"
    }
   ],
   "source": [
    "# Let's look at a simple model based on a linear fit of windows averages. We will look at validating the smape scores\n",
    "# for varying window size.\n",
    "\n",
    "model = Pipeline([('pre', FunctionTransformer(windowsAvgs)),\n",
    "                  ('poly', PolynomialFeatures(2)),\n",
    "                  ('linear', LinearRegression()) ])\n",
    "model.set_params(pre__kw_args = {'windowT' : 64})\n",
    "model.get_params()"
   ]
  },
  {
   "cell_type": "code",
   "execution_count": 27,
   "metadata": {
    "scrolled": true
   },
   "outputs": [
    {
     "data": {
      "image/png": "[encoded data removed]",
      "text/plain": [
       "<matplotlib.figure.Figure at 0x2183bc4d080>"
      ]
     },
     "metadata": {},
     "output_type": "display_data"
    }
   ],
   "source": [
    "# Now do the validations.\n",
    "\n",
    "step = 4\n",
    "nStep = 20\n",
    "windowSizes = range(step, nStep * step, step)\n",
    "scores = []\n",
    "\n",
    "for size in windowSizes:\n",
    "    model.set_params(pre__kw_args = {'windowT' : size})\n",
    "    model.fit(X_train, Y_train)\n",
    "    Y_predict = model.predict(X_valid)\n",
    "    scores.append(smape(Y_valid, Y_predict))\n",
    "    \n",
    "plt.scatter(windowSizes, scores)\n",
    "plt.show()"
   ]
  },
  {
   "cell_type": "code",
   "execution_count": 28,
   "metadata": {},
   "outputs": [
    {
     "data": {
      "image/png": "[encoded data removed]",
      "text/plain": [
       "<matplotlib.figure.Figure at 0x21845160128>"
      ]
     },
     "metadata": {},
     "output_type": "display_data"
    }
   ],
   "source": [
    "# Do a finer search of window size\n",
    "\n",
    "start = 10\n",
    "stop = 21\n",
    "windowSizes = range(start, stop)\n",
    "scores = []\n",
    "\n",
    "for size in windowSizes:\n",
    "    model.set_params(pre__kw_args = {'windowT' : size})\n",
    "    model.fit(X_train, Y_train)\n",
    "    Y_predict = model.predict(X_valid)\n",
    "    scores.append(smape(Y_valid, Y_predict))\n",
    "    \n",
    "plt.scatter(windowSizes, scores)\n",
    "plt.show()"
   ]
  },
  {
   "cell_type": "code",
   "execution_count": 29,
   "metadata": {},
   "outputs": [
    {
     "name": "stdout",
     "output_type": "stream",
     "text": [
      "smape =  111.528317348\n"
     ]
    }
   ],
   "source": [
    "# Let's do a test of optimal validation value.\n",
    "\n",
    "model.set_params(pre__kw_args = {'windowT' : 15})\n",
    "model.fit(X_trainvalid, Y_trainvalid)\n",
    "Y_predict = model.predict(X_test)\n",
    "print('smape = ', smape(Y_test, Y_predict))"
   ]
  },
  {
   "cell_type": "code",
   "execution_count": 36,
   "metadata": {},
   "outputs": [
    {
     "data": {
      "image/png": "[encoded data removed]",
      "text/plain": [
       "<matplotlib.figure.Figure at 0x218482dab38>"
      ]
     },
     "metadata": {},
     "output_type": "display_data"
    }
   ],
   "source": [
    "# Now let's try searching over window size and powers for polynomial features.\n",
    "\n",
    "step = 4\n",
    "nStep = 20\n",
    "maxPower = 5\n",
    "\n",
    "powers = range(maxPower)\n",
    "windowSizes = range(step, nStep * step, step)\n",
    "scores = []\n",
    "\n",
    "hyperparams = [(x, y) for x in powers for y in windowSizes]\n",
    "\n",
    "bestScore = 1000\n",
    "bestparams = None\n",
    "\n",
    "for power, size in hyperparams:\n",
    "    model.set_params(pre__kw_args = {'windowT' : size},\n",
    "                     poly__degree = power)\n",
    "    model.fit(X_test, Y_test)\n",
    "    Y_predict = model.predict(X_valid)\n",
    "    thisScore = smape(Y_valid, Y_predict)\n",
    "    scores.append(thisScore)\n",
    "    if thisScore < bestScore:\n",
    "        bestScore = thisScore\n",
    "        bestparams = (power, size)\n",
    "    \n",
    "plt.plot(scores)\n",
    "plt.show()\n",
    "\n",
    "print('Best score = ', bestScore, '\\tBest Params = ', bestparams)"
   ]
  },
  {
   "cell_type": "code",
   "execution_count": 37,
   "metadata": {},
   "outputs": [
    {
     "name": "stdout",
     "output_type": "stream",
     "text": [
      "Best score =  112.320364161 \tBest Params =  (1, 20)\n"
     ]
    }
   ],
   "source": [
    "print('Best score = ', bestScore, '\\tBest Params = ', bestparams)"
   ]
  },
  {
   "cell_type": "code",
   "execution_count": 40,
   "metadata": {},
   "outputs": [
    {
     "data": {
      "image/png": "[encoded data removed]",
      "text/plain": [
       "<matplotlib.figure.Figure at 0x218450e6668>"
      ]
     },
     "metadata": {},
     "output_type": "display_data"
    },
    {
     "name": "stdout",
     "output_type": "stream",
     "text": [
      "Best Score =  108.519168489 \tBest Params =  (1, 20)\n"
     ]
    }
   ],
   "source": [
    "# Now let's do a finer search on window size for best params.\n",
    "\n",
    "width = 8\n",
    "degree, centerSize = bestparams\n",
    "\n",
    "windowSizes = range(centerSize - width, centerSize + width)\n",
    "\n",
    "scores = []\n",
    "bestScore = 1000\n",
    "bestParams = None\n",
    "\n",
    "for size in windowSizes:\n",
    "    model.set_params(poly__degree = degree,\n",
    "                     pre__kw_args = {'windowT' : size})\n",
    "    model.fit(X_train, Y_train)\n",
    "    Y_predict = model.predict(X_valid)\n",
    "    thisScore = smape(Y_predict, Y_valid)\n",
    "    scores.append(thisScore)\n",
    "    if thisScore < bestScore:\n",
    "        bestScore = thisScore\n",
    "        bestParams = (degree, size)\n",
    "        \n",
    "plt.plot(windowSizes, scores)\n",
    "plt.show()\n",
    "print('Best Score = ', bestScore, '\\tBest Params = ', bestParams)"
   ]
  },
  {
   "cell_type": "code",
   "execution_count": 44,
   "metadata": {},
   "outputs": [
    {
     "name": "stdout",
     "output_type": "stream",
     "text": [
      "smape =  111.838374555\n"
     ]
    }
   ],
   "source": [
    "# Now let's do a test.\n",
    "\n",
    "degree, windowSize = bestParams\n",
    "model.set_params(pre__kw_args = {'windowT' : windowSize},\n",
    "                 poly__degree = degree)\n",
    "model.fit(X_trainvalid, Y_trainvalid)\n",
    "Y_predict = model.predict(X_test)\n",
    "print('smape = ', smape(Y_predict, Y_test))"
   ]
  },
  {
   "cell_type": "code",
   "execution_count": 69,
   "metadata": {},
   "outputs": [
    {
     "data": {
      "image/png": "[encoded data removed]",
      "text/plain": [
       "<matplotlib.figure.Figure at 0x21820c9b4e0>"
      ]
     },
     "metadata": {},
     "output_type": "display_data"
    },
    {
     "name": "stdout",
     "output_type": "stream",
     "text": [
      "Best Score =  111.111938333 \tBest Params =  (2, 20)\n"
     ]
    }
   ],
   "source": [
    "# Now let's try a finer search of cross validation score.\n",
    "\n",
    "# Now let's do a finer search on window size for best params.\n",
    "\n",
    "width = 8\n",
    "degree, centerSize = bestparams\n",
    "\n",
    "windowSizes = np.arange(centerSize - width, centerSize + width, 1)\n",
    "\n",
    "scores = np.empty(0)\n",
    "scores_std = np.empty(0)\n",
    "bestScore = 1000\n",
    "bestParams = None\n",
    "\n",
    "for degree in [1,2]:\n",
    "    for size in windowSizes:\n",
    "        model.set_params(poly__degree = degree,\n",
    "                         pre__kw_args = {'windowT' : size})\n",
    "        thisScore = -cross_val_score(model, X_trainvalid, Y_trainvalid, scoring = smape_scorer)\n",
    "        scores_std = np.append(scores_std, np.std(thisScore))\n",
    "        thisScore = np.mean(thisScore)\n",
    "        scores = np.append(scores, thisScore)\n",
    "        if thisScore < bestScore:\n",
    "            bestScore = thisScore\n",
    "            bestParams = (degree, size)\n",
    "        \n",
    "plt.plot(scores)\n",
    "plt.plot(scores - scores_std, color = 'red')\n",
    "plt.plot(scores + scores_std, color = 'red')\n",
    "plt.show()\n",
    "print('Best Score = ', bestScore, '\\tBest Params = ', bestParams)"
   ]
  },
  {
   "cell_type": "code",
   "execution_count": 70,
   "metadata": {},
   "outputs": [
    {
     "name": "stdout",
     "output_type": "stream",
     "text": [
      "smape =  111.206137698\n"
     ]
    }
   ],
   "source": [
    "# Now let's do a test.\n",
    "\n",
    "degree, windowSize = bestParams\n",
    "model.set_params(pre__kw_args = {'windowT' : windowSize},\n",
    "                 poly__degree = degree)\n",
    "model.fit(X_trainvalid, Y_trainvalid)\n",
    "Y_predict = model.predict(X_test)\n",
    "print('smape = ', smape(Y_predict, Y_test))"
   ]
  },
  {
   "cell_type": "code",
   "execution_count": null,
   "metadata": {
    "collapsed": true
   },
   "outputs": [],
   "source": []
  }
 ],
 "metadata": {
  "kernelspec": {
   "display_name": "Python 3",
   "language": "python",
   "name": "python3"
  },
  "language_info": {
   "codemirror_mode": {
    "name": "ipython",
    "version": 3
   },
   "file_extension": ".py",
   "mimetype": "text/x-python",
   "name": "python",
   "nbconvert_exporter": "python",
   "pygments_lexer": "ipython3",
   "version": "3.5.2"
  }
 },
 "nbformat": 4,
 "nbformat_minor": 2
}
