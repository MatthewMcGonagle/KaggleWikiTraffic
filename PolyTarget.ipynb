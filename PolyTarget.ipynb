{
 "cells": [
  {
   "cell_type": "code",
   "execution_count": 1,
   "metadata": {
    "collapsed": true
   },
   "outputs": [],
   "source": [
    "# Let's try modeling the target as lower dimensional polynomial space.\n",
    "\n",
    "# Note that key_1.csv shows that we are supposed to predict about 2 months worth of future data based on data\n",
    "# lasting from 2015-07-01 to 2016-12-31."
   ]
  },
  {
   "cell_type": "code",
   "execution_count": 2,
   "metadata": {
    "collapsed": true
   },
   "outputs": [],
   "source": [
    "import pandas as pd\n",
    "import numpy as np\n",
    "import re\n",
    "import seaborn as sns\n",
    "from matplotlib import pyplot as plt\n",
    "from sklearn.model_selection import (train_test_split, cross_val_score)\n",
    "from sklearn.preprocessing import (PolynomialFeatures, FunctionTransformer, StandardScaler)\n",
    "from sklearn.pipeline import (make_pipeline, make_union, Pipeline, FeatureUnion)\n",
    "from sklearn.linear_model import LinearRegression\n",
    "from sklearn.metrics import mean_squared_error\n",
    "from sklearn.neural_network import MLPRegressor\n",
    "from sklearn.tree import DecisionTreeRegressor"
   ]
  },
  {
   "cell_type": "code",
   "execution_count": 3,
   "metadata": {},
   "outputs": [
    {
     "data": {
      "image/png": "[encoded data removed]",
      "text/plain": [
       "<matplotlib.figure.Figure at 0x19c15742be0>"
      ]
     },
     "metadata": {},
     "output_type": "display_data"
    }
   ],
   "source": [
    "# Reference for performace measured by reference function. For a term |y_test - y_predict| / (|y_test| + |y_predict|) * 2 * 100,\n",
    "# we look at when y_predict = alpha * y_test. Look at term as a function of alpha.\n",
    "\n",
    "alpha = np.arange(0.0, 6.0, 0.1)\n",
    "num = np.abs(1 - alpha)\n",
    "denom = 1 + np.abs(alpha)\n",
    "smapeVals = num / denom * 2 * 100\n",
    "\n",
    "plt.plot(alpha, smapeVals)\n",
    "plt.show()"
   ]
  },
  {
   "cell_type": "code",
   "execution_count": 4,
   "metadata": {},
   "outputs": [
    {
     "data": {
      "text/plain": [
       "(145063, 551)"
      ]
     },
     "execution_count": 4,
     "metadata": {},
     "output_type": "execute_result"
    }
   ],
   "source": [
    "all_df = pd.read_csv('train_1.csv')\n",
    "all_df.shape"
   ]
  },
  {
   "cell_type": "code",
   "execution_count": 5,
   "metadata": {
    "collapsed": true
   },
   "outputs": [],
   "source": [
    "# For now, just set all NaN to 0.\n",
    "\n",
    "all_df.fillna(0, inplace = True)"
   ]
  },
  {
   "cell_type": "code",
   "execution_count": 6,
   "metadata": {},
   "outputs": [
    {
     "data": {
      "text/html": [
       "<div>\n",
       "<table border=\"1\" class=\"dataframe\">\n",
       "  <thead>\n",
       "    <tr style=\"text-align: right;\">\n",
       "      <th></th>\n",
       "      <th>Page</th>\n",
       "      <th>name</th>\n",
       "      <th>project</th>\n",
       "      <th>access</th>\n",
       "      <th>agent</th>\n",
       "      <th>2015-07-01</th>\n",
       "      <th>2015-07-02</th>\n",
       "      <th>2015-07-03</th>\n",
       "      <th>2015-07-04</th>\n",
       "      <th>2015-07-05</th>\n",
       "      <th>...</th>\n",
       "      <th>2016-12-22</th>\n",
       "      <th>2016-12-23</th>\n",
       "      <th>2016-12-24</th>\n",
       "      <th>2016-12-25</th>\n",
       "      <th>2016-12-26</th>\n",
       "      <th>2016-12-27</th>\n",
       "      <th>2016-12-28</th>\n",
       "      <th>2016-12-29</th>\n",
       "      <th>2016-12-30</th>\n",
       "      <th>2016-12-31</th>\n",
       "    </tr>\n",
       "  </thead>\n",
       "  <tbody>\n",
       "    <tr>\n",
       "      <th>0</th>\n",
       "      <td>2NE1_zh.wikipedia.org_all-access_spider</td>\n",
       "      <td>2NE1</td>\n",
       "      <td>9</td>\n",
       "      <td>0</td>\n",
       "      <td>3</td>\n",
       "      <td>18.0</td>\n",
       "      <td>11.0</td>\n",
       "      <td>5.0</td>\n",
       "      <td>13.0</td>\n",
       "      <td>14.0</td>\n",
       "      <td>...</td>\n",
       "      <td>32.0</td>\n",
       "      <td>63.0</td>\n",
       "      <td>15.0</td>\n",
       "      <td>26.0</td>\n",
       "      <td>14.0</td>\n",
       "      <td>20.0</td>\n",
       "      <td>22.0</td>\n",
       "      <td>19.0</td>\n",
       "      <td>18.0</td>\n",
       "      <td>20.0</td>\n",
       "    </tr>\n",
       "    <tr>\n",
       "      <th>1</th>\n",
       "      <td>2PM_zh.wikipedia.org_all-access_spider</td>\n",
       "      <td>2PM</td>\n",
       "      <td>9</td>\n",
       "      <td>0</td>\n",
       "      <td>3</td>\n",
       "      <td>11.0</td>\n",
       "      <td>14.0</td>\n",
       "      <td>15.0</td>\n",
       "      <td>18.0</td>\n",
       "      <td>11.0</td>\n",
       "      <td>...</td>\n",
       "      <td>17.0</td>\n",
       "      <td>42.0</td>\n",
       "      <td>28.0</td>\n",
       "      <td>15.0</td>\n",
       "      <td>9.0</td>\n",
       "      <td>30.0</td>\n",
       "      <td>52.0</td>\n",
       "      <td>45.0</td>\n",
       "      <td>26.0</td>\n",
       "      <td>20.0</td>\n",
       "    </tr>\n",
       "    <tr>\n",
       "      <th>2</th>\n",
       "      <td>3C_zh.wikipedia.org_all-access_spider</td>\n",
       "      <td>3C</td>\n",
       "      <td>9</td>\n",
       "      <td>0</td>\n",
       "      <td>3</td>\n",
       "      <td>1.0</td>\n",
       "      <td>0.0</td>\n",
       "      <td>1.0</td>\n",
       "      <td>1.0</td>\n",
       "      <td>0.0</td>\n",
       "      <td>...</td>\n",
       "      <td>3.0</td>\n",
       "      <td>1.0</td>\n",
       "      <td>1.0</td>\n",
       "      <td>7.0</td>\n",
       "      <td>4.0</td>\n",
       "      <td>4.0</td>\n",
       "      <td>6.0</td>\n",
       "      <td>3.0</td>\n",
       "      <td>4.0</td>\n",
       "      <td>17.0</td>\n",
       "    </tr>\n",
       "  </tbody>\n",
       "</table>\n",
       "<p>3 rows × 555 columns</p>\n",
       "</div>"
      ],
      "text/plain": [
       "                                      Page  name  project  access  agent  \\\n",
       "0  2NE1_zh.wikipedia.org_all-access_spider  2NE1        9       0      3   \n",
       "1   2PM_zh.wikipedia.org_all-access_spider   2PM        9       0      3   \n",
       "2    3C_zh.wikipedia.org_all-access_spider    3C        9       0      3   \n",
       "\n",
       "   2015-07-01  2015-07-02  2015-07-03  2015-07-04  2015-07-05     ...      \\\n",
       "0        18.0        11.0         5.0        13.0        14.0     ...       \n",
       "1        11.0        14.0        15.0        18.0        11.0     ...       \n",
       "2         1.0         0.0         1.0         1.0         0.0     ...       \n",
       "\n",
       "   2016-12-22  2016-12-23  2016-12-24  2016-12-25  2016-12-26  2016-12-27  \\\n",
       "0        32.0        63.0        15.0        26.0        14.0        20.0   \n",
       "1        17.0        42.0        28.0        15.0         9.0        30.0   \n",
       "2         3.0         1.0         1.0         7.0         4.0         4.0   \n",
       "\n",
       "   2016-12-28  2016-12-29  2016-12-30  2016-12-31  \n",
       "0        22.0        19.0        18.0        20.0  \n",
       "1        52.0        45.0        26.0        20.0  \n",
       "2         6.0         3.0         4.0        17.0  \n",
       "\n",
       "[3 rows x 555 columns]"
      ]
     },
     "execution_count": 6,
     "metadata": {},
     "output_type": "execute_result"
    }
   ],
   "source": [
    "urlRegEx = '[^._]+[.]\\w*wiki\\w*[.][^_]+'\n",
    "\n",
    "# Extract info from page\n",
    "\n",
    "pageInfo = []\n",
    "\n",
    "for pageStr in all_df.Page.values:\n",
    "    midSplit = re.split('[_](' + urlRegEx + ')[_]', pageStr)\n",
    "    thisPageInfo = midSplit[:2]\n",
    "    midSplit = re.split('[_]', midSplit[2])\n",
    "    thisPageInfo.extend(midSplit)\n",
    "    \n",
    "    pageInfo.append(thisPageInfo)\n",
    "    \n",
    "# Do a transpose, now in shape nInfo, nSamples\n",
    "\n",
    "pageInfo = [[pageInfo[j][i] for j in range(len(pageInfo))] for i in range(len(pageInfo[0]))]\n",
    "\n",
    "toInfoIndex = {'name' : 0, 'project' : 1, 'access' : 2, 'agent' : 3}\n",
    "colNames = ['name', 'project', 'access', 'agent']\n",
    "\n",
    "# Convert info to numerical\n",
    "\n",
    "for i in range(1, 4):\n",
    "    name = colNames[i]\n",
    "    infoCol = np.array(pageInfo[i])\n",
    "    infoCol_vals = np.unique(infoCol)\n",
    "    infoCol_map = dict(zip(infoCol_vals, np.arange(len(infoCol_vals))))\n",
    "    infoCol = [infoCol_map[x] for x in infoCol]\n",
    "    all_df.insert(i, name, infoCol)\n",
    "\n",
    "all_df.insert(1, 'name', pageInfo[0])\n",
    "all_df[:3]"
   ]
  },
  {
   "cell_type": "code",
   "execution_count": 7,
   "metadata": {},
   "outputs": [
    {
     "data": {
      "image/png": "[encoded data removed]",
      "text/plain": [
       "<matplotlib.figure.Figure at 0x19c15812710>"
      ]
     },
     "metadata": {},
     "output_type": "display_data"
    },
    {
     "data": {
      "text/html": [
       "<div>\n",
       "<table border=\"1\" class=\"dataframe\">\n",
       "  <thead>\n",
       "    <tr style=\"text-align: right;\">\n",
       "      <th></th>\n",
       "      <th>Page</th>\n",
       "      <th>name</th>\n",
       "      <th>project</th>\n",
       "      <th>access</th>\n",
       "      <th>agent</th>\n",
       "      <th>numWords</th>\n",
       "      <th>2015-07-01</th>\n",
       "      <th>2015-07-02</th>\n",
       "      <th>2015-07-03</th>\n",
       "      <th>2015-07-04</th>\n",
       "      <th>...</th>\n",
       "      <th>2016-12-22</th>\n",
       "      <th>2016-12-23</th>\n",
       "      <th>2016-12-24</th>\n",
       "      <th>2016-12-25</th>\n",
       "      <th>2016-12-26</th>\n",
       "      <th>2016-12-27</th>\n",
       "      <th>2016-12-28</th>\n",
       "      <th>2016-12-29</th>\n",
       "      <th>2016-12-30</th>\n",
       "      <th>2016-12-31</th>\n",
       "    </tr>\n",
       "  </thead>\n",
       "  <tbody>\n",
       "    <tr>\n",
       "      <th>0</th>\n",
       "      <td>2NE1_zh.wikipedia.org_all-access_spider</td>\n",
       "      <td>2NE1</td>\n",
       "      <td>9</td>\n",
       "      <td>0</td>\n",
       "      <td>3</td>\n",
       "      <td>1</td>\n",
       "      <td>18.0</td>\n",
       "      <td>11.0</td>\n",
       "      <td>5.0</td>\n",
       "      <td>13.0</td>\n",
       "      <td>...</td>\n",
       "      <td>32.0</td>\n",
       "      <td>63.0</td>\n",
       "      <td>15.0</td>\n",
       "      <td>26.0</td>\n",
       "      <td>14.0</td>\n",
       "      <td>20.0</td>\n",
       "      <td>22.0</td>\n",
       "      <td>19.0</td>\n",
       "      <td>18.0</td>\n",
       "      <td>20.0</td>\n",
       "    </tr>\n",
       "    <tr>\n",
       "      <th>1</th>\n",
       "      <td>2PM_zh.wikipedia.org_all-access_spider</td>\n",
       "      <td>2PM</td>\n",
       "      <td>9</td>\n",
       "      <td>0</td>\n",
       "      <td>3</td>\n",
       "      <td>1</td>\n",
       "      <td>11.0</td>\n",
       "      <td>14.0</td>\n",
       "      <td>15.0</td>\n",
       "      <td>18.0</td>\n",
       "      <td>...</td>\n",
       "      <td>17.0</td>\n",
       "      <td>42.0</td>\n",
       "      <td>28.0</td>\n",
       "      <td>15.0</td>\n",
       "      <td>9.0</td>\n",
       "      <td>30.0</td>\n",
       "      <td>52.0</td>\n",
       "      <td>45.0</td>\n",
       "      <td>26.0</td>\n",
       "      <td>20.0</td>\n",
       "    </tr>\n",
       "    <tr>\n",
       "      <th>2</th>\n",
       "      <td>3C_zh.wikipedia.org_all-access_spider</td>\n",
       "      <td>3C</td>\n",
       "      <td>9</td>\n",
       "      <td>0</td>\n",
       "      <td>3</td>\n",
       "      <td>1</td>\n",
       "      <td>1.0</td>\n",
       "      <td>0.0</td>\n",
       "      <td>1.0</td>\n",
       "      <td>1.0</td>\n",
       "      <td>...</td>\n",
       "      <td>3.0</td>\n",
       "      <td>1.0</td>\n",
       "      <td>1.0</td>\n",
       "      <td>7.0</td>\n",
       "      <td>4.0</td>\n",
       "      <td>4.0</td>\n",
       "      <td>6.0</td>\n",
       "      <td>3.0</td>\n",
       "      <td>4.0</td>\n",
       "      <td>17.0</td>\n",
       "    </tr>\n",
       "  </tbody>\n",
       "</table>\n",
       "<p>3 rows × 556 columns</p>\n",
       "</div>"
      ],
      "text/plain": [
       "                                      Page  name  project  access  agent  \\\n",
       "0  2NE1_zh.wikipedia.org_all-access_spider  2NE1        9       0      3   \n",
       "1   2PM_zh.wikipedia.org_all-access_spider   2PM        9       0      3   \n",
       "2    3C_zh.wikipedia.org_all-access_spider    3C        9       0      3   \n",
       "\n",
       "   numWords  2015-07-01  2015-07-02  2015-07-03  2015-07-04     ...      \\\n",
       "0         1        18.0        11.0         5.0        13.0     ...       \n",
       "1         1        11.0        14.0        15.0        18.0     ...       \n",
       "2         1         1.0         0.0         1.0         1.0     ...       \n",
       "\n",
       "   2016-12-22  2016-12-23  2016-12-24  2016-12-25  2016-12-26  2016-12-27  \\\n",
       "0        32.0        63.0        15.0        26.0        14.0        20.0   \n",
       "1        17.0        42.0        28.0        15.0         9.0        30.0   \n",
       "2         3.0         1.0         1.0         7.0         4.0         4.0   \n",
       "\n",
       "   2016-12-28  2016-12-29  2016-12-30  2016-12-31  \n",
       "0        22.0        19.0        18.0        20.0  \n",
       "1        52.0        45.0        26.0        20.0  \n",
       "2         6.0         3.0         4.0        17.0  \n",
       "\n",
       "[3 rows x 556 columns]"
      ]
     },
     "execution_count": 7,
     "metadata": {},
     "output_type": "execute_result"
    }
   ],
   "source": [
    "numWords = []\n",
    "\n",
    "for name in all_df['name']:\n",
    "    num = len(re.split(r'_', name))\n",
    "    numWords.append(num)\n",
    "        \n",
    "numWords = np.array(numWords)\n",
    "vals, counts = np.unique(numWords, return_counts = True)\n",
    "plt.plot(vals, counts)\n",
    "plt.show()\n",
    "numWords[numWords > 6] = 6\n",
    "\n",
    "all_df.insert(5, 'numWords', numWords)\n",
    "\n",
    "all_df[:3]"
   ]
  },
  {
   "cell_type": "code",
   "execution_count": 8,
   "metadata": {},
   "outputs": [
    {
     "name": "stdout",
     "output_type": "stream",
     "text": [
      "[[     1 130268]\n",
      " [     2  14795]]\n",
      "14795\n"
     ]
    },
    {
     "data": {
      "text/html": [
       "<div>\n",
       "<table border=\"1\" class=\"dataframe\">\n",
       "  <thead>\n",
       "    <tr style=\"text-align: right;\">\n",
       "      <th></th>\n",
       "      <th>Page</th>\n",
       "      <th>name</th>\n",
       "      <th>project</th>\n",
       "      <th>access</th>\n",
       "      <th>agent</th>\n",
       "      <th>numWords</th>\n",
       "      <th>numNums</th>\n",
       "      <th>2015-07-01</th>\n",
       "      <th>2015-07-02</th>\n",
       "      <th>2015-07-03</th>\n",
       "      <th>...</th>\n",
       "      <th>2016-12-22</th>\n",
       "      <th>2016-12-23</th>\n",
       "      <th>2016-12-24</th>\n",
       "      <th>2016-12-25</th>\n",
       "      <th>2016-12-26</th>\n",
       "      <th>2016-12-27</th>\n",
       "      <th>2016-12-28</th>\n",
       "      <th>2016-12-29</th>\n",
       "      <th>2016-12-30</th>\n",
       "      <th>2016-12-31</th>\n",
       "    </tr>\n",
       "  </thead>\n",
       "  <tbody>\n",
       "    <tr>\n",
       "      <th>0</th>\n",
       "      <td>2NE1_zh.wikipedia.org_all-access_spider</td>\n",
       "      <td>2NE1</td>\n",
       "      <td>9</td>\n",
       "      <td>0</td>\n",
       "      <td>3</td>\n",
       "      <td>1</td>\n",
       "      <td>1</td>\n",
       "      <td>18.0</td>\n",
       "      <td>11.0</td>\n",
       "      <td>5.0</td>\n",
       "      <td>...</td>\n",
       "      <td>32.0</td>\n",
       "      <td>63.0</td>\n",
       "      <td>15.0</td>\n",
       "      <td>26.0</td>\n",
       "      <td>14.0</td>\n",
       "      <td>20.0</td>\n",
       "      <td>22.0</td>\n",
       "      <td>19.0</td>\n",
       "      <td>18.0</td>\n",
       "      <td>20.0</td>\n",
       "    </tr>\n",
       "    <tr>\n",
       "      <th>1</th>\n",
       "      <td>2PM_zh.wikipedia.org_all-access_spider</td>\n",
       "      <td>2PM</td>\n",
       "      <td>9</td>\n",
       "      <td>0</td>\n",
       "      <td>3</td>\n",
       "      <td>1</td>\n",
       "      <td>1</td>\n",
       "      <td>11.0</td>\n",
       "      <td>14.0</td>\n",
       "      <td>15.0</td>\n",
       "      <td>...</td>\n",
       "      <td>17.0</td>\n",
       "      <td>42.0</td>\n",
       "      <td>28.0</td>\n",
       "      <td>15.0</td>\n",
       "      <td>9.0</td>\n",
       "      <td>30.0</td>\n",
       "      <td>52.0</td>\n",
       "      <td>45.0</td>\n",
       "      <td>26.0</td>\n",
       "      <td>20.0</td>\n",
       "    </tr>\n",
       "    <tr>\n",
       "      <th>2</th>\n",
       "      <td>3C_zh.wikipedia.org_all-access_spider</td>\n",
       "      <td>3C</td>\n",
       "      <td>9</td>\n",
       "      <td>0</td>\n",
       "      <td>3</td>\n",
       "      <td>1</td>\n",
       "      <td>1</td>\n",
       "      <td>1.0</td>\n",
       "      <td>0.0</td>\n",
       "      <td>1.0</td>\n",
       "      <td>...</td>\n",
       "      <td>3.0</td>\n",
       "      <td>1.0</td>\n",
       "      <td>1.0</td>\n",
       "      <td>7.0</td>\n",
       "      <td>4.0</td>\n",
       "      <td>4.0</td>\n",
       "      <td>6.0</td>\n",
       "      <td>3.0</td>\n",
       "      <td>4.0</td>\n",
       "      <td>17.0</td>\n",
       "    </tr>\n",
       "  </tbody>\n",
       "</table>\n",
       "<p>3 rows × 557 columns</p>\n",
       "</div>"
      ],
      "text/plain": [
       "                                      Page  name  project  access  agent  \\\n",
       "0  2NE1_zh.wikipedia.org_all-access_spider  2NE1        9       0      3   \n",
       "1   2PM_zh.wikipedia.org_all-access_spider   2PM        9       0      3   \n",
       "2    3C_zh.wikipedia.org_all-access_spider    3C        9       0      3   \n",
       "\n",
       "   numWords  numNums  2015-07-01  2015-07-02  2015-07-03     ...      \\\n",
       "0         1        1        18.0        11.0         5.0     ...       \n",
       "1         1        1        11.0        14.0        15.0     ...       \n",
       "2         1        1         1.0         0.0         1.0     ...       \n",
       "\n",
       "   2016-12-22  2016-12-23  2016-12-24  2016-12-25  2016-12-26  2016-12-27  \\\n",
       "0        32.0        63.0        15.0        26.0        14.0        20.0   \n",
       "1        17.0        42.0        28.0        15.0         9.0        30.0   \n",
       "2         3.0         1.0         1.0         7.0         4.0         4.0   \n",
       "\n",
       "   2016-12-28  2016-12-29  2016-12-30  2016-12-31  \n",
       "0        22.0        19.0        18.0        20.0  \n",
       "1        52.0        45.0        26.0        20.0  \n",
       "2         6.0         3.0         4.0        17.0  \n",
       "\n",
       "[3 rows x 557 columns]"
      ]
     },
     "execution_count": 8,
     "metadata": {},
     "output_type": "execute_result"
    }
   ],
   "source": [
    "numNums = []\n",
    "\n",
    "for name in all_df['name']:\n",
    "    num = len(re.split(r'\\d', name))\n",
    "    numNums.append(num)\n",
    "        \n",
    "numNums = np.array(numNums)\n",
    "numNums[numNums > 1] = 2\n",
    "vals, counts = np.unique(numNums, return_counts = True)\n",
    "print(np.vstack((vals,counts)).T)\n",
    "print(counts[1:].sum())\n",
    "\n",
    "all_df.insert(6, 'numNums', numWords)\n",
    "\n",
    "all_df[:3]"
   ]
  },
  {
   "cell_type": "code",
   "execution_count": 17,
   "metadata": {
    "collapsed": true
   },
   "outputs": [],
   "source": [
    "futureT = 64\n",
    "\n",
    "X_all = all_df.drop(['Page', 'name'], axis = 1).values[:, :-futureT]\n",
    "Y_all = all_df.drop(['Page', 'name'], axis = 1).values[:, -futureT:]"
   ]
  },
  {
   "cell_type": "code",
   "execution_count": 18,
   "metadata": {},
   "outputs": [
    {
     "name": "stdout",
     "output_type": "stream",
     "text": [
      "X_train.shape =  (65118, 491) \tX_valid.shape =  (32074, 491) \tX_test.shape =  (47871, 491)\n",
      "Y_train.shape =  (65118, 64) \tY_valid.shape =  (32074, 64) \tY_test.shape =  (47871, 64)\n"
     ]
    }
   ],
   "source": [
    "X_trainvalid, X_test, Y_trainvalid, Y_test = train_test_split(X_all, Y_all, test_size = 0.33, random_state = 32)\n",
    "X_train, X_valid, Y_train, Y_valid = train_test_split(X_trainvalid, Y_trainvalid, test_size = 0.33, random_state = 35)\n",
    "\n",
    "print('X_train.shape = ', X_train.shape, '\\tX_valid.shape = ', X_valid.shape, '\\tX_test.shape = ', X_test.shape)\n",
    "print('Y_train.shape = ', Y_train.shape, '\\tY_valid.shape = ', Y_valid.shape, '\\tY_test.shape = ', Y_test.shape)"
   ]
  },
  {
   "cell_type": "code",
   "execution_count": 19,
   "metadata": {
    "collapsed": true
   },
   "outputs": [],
   "source": [
    "def smape(Y_predict, Y_test):\n",
    "    result = np.linalg.norm(Y_predict - Y_test, axis = 1)\n",
    "    result = np.abs(result)\n",
    "    denom = np.linalg.norm(Y_predict, axis = 1)\n",
    "    denom += np.linalg.norm(Y_test, axis = 1)\n",
    "    result /= denom\n",
    "    result *= 100 * 2\n",
    "    result = np.mean(result)\n",
    "    return result\n",
    "\n",
    "def smape_scorer(estimator, X, Y):\n",
    "    Ypredict = estimator.predict(X)\n",
    "    result = smape(Y, Ypredict)\n",
    "    return -result\n",
    "\n",
    "\n",
    "def smape_scorer(estimator, X, Y):\n",
    "    Ypredict = estimator.predict(X)\n",
    "    result = smape(Y, Ypredict)\n",
    "    return -result\n",
    "\n",
    "def window_means(X, nWindows, windowSize):\n",
    "    nSamples, nTimes = X.shape\n",
    "    means = np.empty((nSamples, 0))\n",
    "    for i in range(nWindows):\n",
    "        newCol = X[:, nTimes - 1 - (i+1) * windowSize : nTimes - 1 - i * windowSize].mean(axis = 1, keepdims = True)\n",
    "        means = np.hstack((means, newCol))\n",
    "    return means\n",
    "\n",
    "def all_window_features(X, nWindows, windowSize):\n",
    "    nSamples, nTimes = X.shape\n",
    "    features = window_means(X, nWindows, windowSize)\n",
    "    linear = np.empty((nSamples, 0))\n",
    "    \n",
    "    # Make linear and quadratic arrays orthogonal to each other.\n",
    "    const = np.full(windowSize, 1 / np.sqrt(windowSize))\n",
    "    lin = np.arange(windowSize) - (windowSize - 1) / 2\n",
    "    \n",
    "    for i in range(nWindows):\n",
    "        X_window = X[:, nTimes - 1 - (i + 1)*windowSize : nTimes - 1 - i * windowSize]\n",
    "        newCol = np.dot(X_window, lin).reshape(-1,1)\n",
    "        features = np.hstack((features, newCol))\n",
    "        newCol = np.dot(X_window, lin**2).reshape(-1,1)\n",
    "        features = np.hstack((features, newCol))\n",
    "        \n",
    "    return features\n",
    "\n",
    "def all_features(X, nWindows, windowSize):\n",
    "    features = X[:, 0:5]\n",
    "    window_feat = all_window_features(X[:, 5:], nWindows, windowSize)\n",
    "    features = np.hstack((features, window_feat))\n",
    "    return features\n",
    "    "
   ]
  },
  {
   "cell_type": "code",
   "execution_count": 20,
   "metadata": {},
   "outputs": [
    {
     "name": "stdout",
     "output_type": "stream",
     "text": [
      "Smape =  110.009820191\n"
     ]
    }
   ],
   "source": [
    "# Simple tree fit of mean of original data.\n",
    "\n",
    "model = Pipeline([ ('mean', FunctionTransformer(lambda X : X.mean(axis = 1, keepdims = True))),\n",
    "                   ('tree', DecisionTreeRegressor(max_depth = 10)) ])\n",
    "model.fit(X_trainvalid, Y_trainvalid)\n",
    "Y_predict = model.predict(X_test)\n",
    "print('Smape = ', smape(1e-6 + Y_predict, Y_test))"
   ]
  },
  {
   "cell_type": "code",
   "execution_count": 22,
   "metadata": {},
   "outputs": [
    {
     "data": {
      "image/png": "[encoded data removed]",
      "text/plain": [
       "<matplotlib.figure.Figure at 0x19d44947198>"
      ]
     },
     "metadata": {},
     "output_type": "display_data"
    },
    {
     "name": "stdout",
     "output_type": "stream",
     "text": [
      "(6, 64)\n"
     ]
    },
    {
     "data": {
      "image/png": "[encoded data removed]",
      "text/plain": [
       "<matplotlib.figure.Figure at 0x19c44c5e908>"
      ]
     },
     "metadata": {},
     "output_type": "display_data"
    }
   ],
   "source": [
    "# Let's get an orthonormal basis of polynomials for target values.\n",
    "\n",
    "nSamples, nYTimes = Y_train.shape\n",
    "nDegree = 5\n",
    "\n",
    "polys = np.full((1, nYTimes), 1.0)\n",
    "for degree in range(1, nDegree + 1, 1):\n",
    "    newPoly = (np.arange(nYTimes)**degree) . reshape(1,-1)\n",
    "    polys = np.vstack((polys, newPoly))\n",
    "    plt.plot(polys[degree,:])\n",
    "plt.show()\n",
    "\n",
    "print(polys.shape)\n",
    "for i in range(nDegree + 1):\n",
    "    for j in range(i):\n",
    "        scale = np.dot(polys[i,:], polys[j,:])\n",
    "        polys[i,:] -= scale * polys[j,:]\n",
    "    polys[i, :] /= np.linalg.norm(polys[i,:])\n",
    "    plt.plot(polys[i,:])\n",
    "plt.show()"
   ]
  },
  {
   "cell_type": "code",
   "execution_count": 25,
   "metadata": {},
   "outputs": [
    {
     "name": "stdout",
     "output_type": "stream",
     "text": [
      "(65118, 6)\n",
      "smape =  97.9410598242\n"
     ]
    }
   ],
   "source": [
    "Y_train_polys = np.dot(Y_train, polys.T)\n",
    "print(Y_train_polys.shape)\n",
    "\n",
    "model.fit(X_train, Y_train_polys)\n",
    "Y_predict_polys = model.predict(X_valid)\n",
    "Y_predict = np.dot(Y_predict_polys, polys)\n",
    "newsmape = smape(Y_predict, Y_valid)\n",
    "print('smape = ', newsmape)"
   ]
  },
  {
   "cell_type": "code",
   "execution_count": 26,
   "metadata": {},
   "outputs": [
    {
     "name": "stdout",
     "output_type": "stream",
     "text": [
      "smape =  97.9436939435\n"
     ]
    }
   ],
   "source": [
    "model = Pipeline([ ('features', FunctionTransformer(all_features, kw_args = {'nWindows' : 3, 'windowSize' : 41})),\n",
    "                   ('linear', DecisionTreeRegressor(max_depth = 10)) ])\n",
    "Y_train_polys = np.dot(Y_train, polys.T)\n",
    "model.fit(X_train, Y_train_polys)\n",
    "Y_predict_polys = model.predict(X_valid)\n",
    "Y_predict = np.dot(Y_predict_polys, polys)\n",
    "newsmape = smape(Y_predict, Y_valid)\n",
    "print('smape = ', newsmape)"
   ]
  },
  {
   "cell_type": "code",
   "execution_count": null,
   "metadata": {
    "collapsed": true
   },
   "outputs": [],
   "source": [
    "model.set_params(tree__max_depth = 70)\n",
    "Y_train_polys = np.dot(Y_train, polys.T)\n",
    "print(Y_train_polys.shape)\n",
    "\n",
    "model.fit(X_train, Y_train_polys)\n",
    "Y_predict_polys = model.predict(X_valid)\n",
    "Y_predict = np.dot(Y_predict_polys, polys)\n",
    "newsmape = smape(1e-6 + Y_predict, Y_valid)\n",
    "print('smape = ', newsmape)"
   ]
  },
  {
   "cell_type": "code",
   "execution_count": null,
   "metadata": {
    "collapsed": true
   },
   "outputs": [],
   "source": [
    "# Now, let's try cutting out bad ratio of Y_mean to X_mean.\n",
    "\n",
    "model.set_params(tree__max_depth = 10)\n",
    "Y_mean = Y_train.mean(axis = 1)\n",
    "X_mean = X_train.mean(axis = 1)\n",
    "\n",
    "cutoff_search = np.arange(1, 10, 0.5)\n",
    "smapes = []\n",
    "\n",
    "for cutoff in cutoff_search:\n",
    "    mask = Y_mean < X_mean * cutoff\n",
    "    X_train2 = X_train[mask]\n",
    "    Y_train2 = Y_train[mask]\n",
    "\n",
    "    Y_train_polys2 = np.dot(Y_train2, polys.T)\n",
    "    model.fit(X_train2, Y_train_polys2)\n",
    "    Y_predict_polys = model.predict(X_valid)\n",
    "    Y_predict = np.dot(Y_predict_polys, polys)\n",
    "    newsmape = smape(1e-6 + Y_predict, Y_valid)\n",
    "    print('cutoff = ', cutoff, 'smape = ', newsmape)\n",
    "    smapes.append(newsmape)\n",
    "    \n",
    "plt.plot(cutoff_search, smapes)\n",
    "plt.show()\n"
   ]
  },
  {
   "cell_type": "code",
   "execution_count": null,
   "metadata": {
    "collapsed": true
   },
   "outputs": [],
   "source": [
    "# Let's do a z transform.\n",
    "model = Pipeline([ ('mean', FunctionTransformer(lambda X : X.mean(axis = 1, keepdims = True))),\n",
    "                   ('linear', DecisionTreeRegressor(max_depth = 10)) ])\n",
    "\n",
    "# definition of ztransformation.\n",
    "\n",
    "def ztransform1(Y, param):\n",
    "    return 1 / (param + Y)\n",
    "\n",
    "# inverse transformation, Y = inverseZ(Z)\n",
    "\n",
    "def inverseZ1(Z, param):\n",
    "    return -param + 1 / Z\n",
    "\n",
    "epsilon = 1e-6\n",
    "param_search = np.arange(1, 1000, 100)\n",
    "\n",
    "smapes = []\n",
    "for param in param_search:\n",
    "    Z_train = ztransform1(Y_train, param)\n",
    "    Z_train_polys = np.dot(Z_train, polys.T)\n",
    "\n",
    "    model.fit(X_train, Z_train_polys)\n",
    "    Z_predict_polys = model.predict(X_valid)\n",
    "    Z_predict = np.dot(Z_predict_polys, polys)\n",
    "    Y_predict = inverseZ1(Z_predict, param)\n",
    "    newsmape = smape(1e-6 + Y_predict, Y_valid)\n",
    "    print('param = ', param, 'smape = ', '%.2f' % newsmape)\n",
    "    smapes.append(newsmape)\n",
    "    \n",
    "plt.plot(param_search, smapes)\n",
    "plt.show()"
   ]
  },
  {
   "cell_type": "code",
   "execution_count": null,
   "metadata": {
    "collapsed": true
   },
   "outputs": [],
   "source": [
    "# Let's do a z transform.\n",
    "model = Pipeline([ ('mean', FunctionTransformer(lambda X : X.mean(axis = 1, keepdims = True))),\n",
    "                   ('linear', DecisionTreeRegressor(max_depth = 10)) ])\n",
    "\n",
    "# definition of ztransformation.\n",
    "\n",
    "def ztransform2(Y, param):\n",
    "    return np.log(param + Y)\n",
    "\n",
    "# inverse transformation, Y = inverseZ(Z)\n",
    "\n",
    "def inverseZ2(Z, param):\n",
    "    return -param + np.exp(Z)\n",
    "\n",
    "epsilon = 1e-6\n",
    "param_search = np.arange(1, 200, 10)\n",
    "\n",
    "smapes = []\n",
    "for param in param_search:\n",
    "    Z_train = ztransform2(Y_train, param)\n",
    "    Z_train_polys = np.dot(Z_train, polys.T)\n",
    "\n",
    "    model.fit(X_train, Z_train_polys)\n",
    "    Z_predict_polys = model.predict(X_valid)\n",
    "    Z_predict = np.dot(Z_predict_polys, polys)\n",
    "    Y_predict = inverseZ2(Z_predict, param)\n",
    "    newsmape = smape(1e-6 + Y_predict, Y_valid)\n",
    "    print('param = ', param, 'smape = ', '%.2f' % newsmape)\n",
    "    smapes.append(newsmape)\n",
    "    \n",
    "plt.plot(param_search, smapes)\n",
    "plt.show()"
   ]
  },
  {
   "cell_type": "code",
   "execution_count": 24,
   "metadata": {},
   "outputs": [
    {
     "name": "stdout",
     "output_type": "stream",
     "text": [
      "param =  1 smape =  78.03\n",
      "param =  11 smape =  77.04\n",
      "param =  21 smape =  76.87\n",
      "param =  31 smape =  76.87\n",
      "param =  41 smape =  77.12\n",
      "param =  51 smape =  77.03\n",
      "param =  61 smape =  76.96\n",
      "param =  71 smape =  77.13\n",
      "param =  81 smape =  77.21\n",
      "param =  91 smape =  77.30\n",
      "param =  101 smape =  77.46\n",
      "param =  111 smape =  77.49\n",
      "param =  121 smape =  77.44\n",
      "param =  131 smape =  77.44\n",
      "param =  141 smape =  77.49\n",
      "param =  151 smape =  77.54\n",
      "param =  161 smape =  77.58\n",
      "param =  171 smape =  77.57\n",
      "param =  181 smape =  77.70\n",
      "param =  191 smape =  77.71\n"
     ]
    },
    {
     "data": {
      "image/png": "[encoded data removed]",
      "text/plain": [
       "<matplotlib.figure.Figure at 0x19c44cce4e0>"
      ]
     },
     "metadata": {},
     "output_type": "display_data"
    }
   ],
   "source": [
    "# Let's do a z transform.\n",
    "model = Pipeline([ ('features', FunctionTransformer(all_features, kw_args = {'nWindows' : 3, 'windowSize' : 41})),\n",
    "                   ('linear', DecisionTreeRegressor(max_depth = 10)) ])\n",
    "\n",
    "# definition of ztransformation.\n",
    "\n",
    "def ztransform2(Y, param):\n",
    "    return np.log(param + Y)\n",
    "\n",
    "# inverse transformation, Y = inverseZ(Z)\n",
    "\n",
    "def inverseZ2(Z, param):\n",
    "    return -param + np.exp(Z)\n",
    "\n",
    "epsilon = 1e-6\n",
    "param_search = np.arange(1, 200, 10)\n",
    "\n",
    "smapes = []\n",
    "for param in param_search:\n",
    "    Z_train = ztransform2(Y_train, param)\n",
    "    Z_train_polys = np.dot(Z_train, polys.T)\n",
    "\n",
    "    model.fit(X_train, Z_train_polys)\n",
    "    Z_predict_polys = model.predict(X_valid)\n",
    "    Z_predict = np.dot(Z_predict_polys, polys)\n",
    "    Y_predict = inverseZ2(Z_predict, param)\n",
    "    newsmape = smape(1e-6 + Y_predict, Y_valid)\n",
    "    print('param = ', param, 'smape = ', '%.2f' % newsmape)\n",
    "    smapes.append(newsmape)\n",
    "    \n",
    "plt.plot(param_search, smapes)\n",
    "plt.show()"
   ]
  },
  {
   "cell_type": "code",
   "execution_count": null,
   "metadata": {
    "collapsed": true
   },
   "outputs": [],
   "source": [
    "# Let's do a z transform.\n",
    "model = Pipeline([ ('mean', FunctionTransformer(lambda X : X.mean(axis = 1, keepdims = True))),\n",
    "                   ('linear', DecisionTreeRegressor(max_depth = 10)) ])\n",
    "\n",
    "# definition of ztransformation.\n",
    "\n",
    "def ztransform3(Y, param):\n",
    "    return (np.sqrt(Y) - np.sqrt(param)) / np.sqrt(Y + param)\n",
    "\n",
    "def inverseZ3(Z, param):\n",
    "    Z2 = np.minimum(Z, 1 - epsilon)\n",
    "    Z2 = np.maximum(Z2, -1 + epsilon)\n",
    "    result = -1 - Z2 * np.sqrt(2 - Z2**2)\n",
    "    result = result / (Z2**2 - 1)\n",
    "    result = param * result**2\n",
    "    return result\n",
    "epsilon = 1e-6\n",
    "param_search = np.arange(200, 2600, 200)\n",
    "\n",
    "smapes = []\n",
    "for param in param_search:\n",
    "    Z_train = ztransform3(Y_train, param)\n",
    "    Z_train_polys = np.dot(Z_train, polys.T)\n",
    "\n",
    "    model.fit(X_train, Z_train_polys)\n",
    "    Z_predict_polys = model.predict(X_valid)\n",
    "    Z_predict = np.dot(Z_predict_polys, polys)\n",
    "    Y_predict = inverseZ3(Z_predict, param)\n",
    "    newsmape = smape(1e-6 + Y_predict, Y_valid)\n",
    "    print('param = ', param, 'smape = ', '%.2f' % newsmape)\n",
    "    smapes.append(newsmape)\n",
    "    \n",
    "plt.plot(param_search, smapes)\n",
    "plt.show()"
   ]
  },
  {
   "cell_type": "code",
   "execution_count": null,
   "metadata": {
    "collapsed": true
   },
   "outputs": [],
   "source": []
  },
  {
   "cell_type": "code",
   "execution_count": null,
   "metadata": {
    "collapsed": true
   },
   "outputs": [],
   "source": [
    "# Let's do a z transform.\n",
    "model = Pipeline([ ('mean', FunctionTransformer(lambda X : X.mean(axis = 1, keepdims = True))),\n",
    "                   ('linear', DecisionTreeRegressor(max_depth = 10)) ])\n",
    "\n",
    "# definition of ztransformation.\n",
    "\n",
    "def ztransform4(Y, param):\n",
    "    return np.log(1e-6 + Y) - np.log(param + Y)\n",
    "\n",
    "# inverse transformation, Y = inverseZ(Z)\n",
    "\n",
    "def inverseZ4(Z, param):\n",
    "    return param * np.exp(Z) / (1 - np.exp(Z))\n",
    "\n",
    "epsilon = 1e-6\n",
    "param_search = np.arange(1, 600, 50)\n",
    "cutoff = 7\n",
    "\n",
    "smapes = []\n",
    "for param in param_search:\n",
    "    Z_train = ztransform4(Y_train, param)\n",
    "    Z_train_polys = np.dot(Z_train, polys.T)\n",
    "\n",
    "    model.fit(X_train, Z_train_polys)\n",
    "    Z_predict_polys = model.predict(X_valid)\n",
    "    Z_predict = np.dot(Z_predict_polys, polys)\n",
    "    Y_predict = inverseZ4(Z_predict, param)\n",
    "    newsmape = smape(1e-6 + Y_predict, Y_valid)\n",
    "    print('param = ', param, 'smape = ', '%.2f' % newsmape)\n",
    "    smapes.append(newsmape)\n",
    "    \n",
    "plt.plot(param_search, smapes)\n",
    "plt.show()"
   ]
  },
  {
   "cell_type": "code",
   "execution_count": null,
   "metadata": {
    "collapsed": true
   },
   "outputs": [],
   "source": []
  },
  {
   "cell_type": "code",
   "execution_count": null,
   "metadata": {
    "collapsed": true
   },
   "outputs": [],
   "source": []
  }
 ],
 "metadata": {
  "kernelspec": {
   "display_name": "Python 3",
   "language": "python",
   "name": "python3"
  },
  "language_info": {
   "codemirror_mode": {
    "name": "ipython",
    "version": 3
   },
   "file_extension": ".py",
   "mimetype": "text/x-python",
   "name": "python",
   "nbconvert_exporter": "python",
   "pygments_lexer": "ipython3",
   "version": "3.5.2"
  }
 },
 "nbformat": 4,
 "nbformat_minor": 2
}
