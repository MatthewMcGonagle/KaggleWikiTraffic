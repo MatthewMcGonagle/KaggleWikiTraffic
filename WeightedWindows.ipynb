{
 "cells": [
  {
   "cell_type": "code",
   "execution_count": 1,
   "metadata": {
    "collapsed": true
   },
   "outputs": [],
   "source": [
    "# The idea is to do a simple linear model of non-linear interactions between basic statistics. We will motivate these\n",
    "# interactions based on some intuitions. For example, (mean / std) should influence the forecasting ability \n",
    "# different statistics, i.e. look at (mean / std) * mean. However, we do this for windows.\n",
    "\n",
    "# A better basis is based on using r_i = (mean_window_i / mean_all) or r_i = (mean_window_i / (epsilon + mean_all)).\n",
    "# Normally, one could estimate using the average of the mean_window_i (or some weighted average). However, when \n",
    "# r_i is large, one wants to replace mean_window_i by mean_all. So we are lead to trying basis functions such as\n",
    "# f_i = exp(-K_i * r_i) * mean_window_i + (1 - exp(-K_i * r_i)) * mean_all, where K_i is a constant parameter that\n",
    "# can be adjusted. First try finding optimal K_i that increase linear correlation between Y_mean and f_i.\n",
    "# Also can try using logit functions of r_i or some other functions that is suggestive of a neural network.\n",
    "\n",
    "# Note that key_1.csv shows that we are supposed to predict about 2 months worth of future data based on data\n",
    "# lasting from 2015-07-01 to 2016-12-31."
   ]
  },
  {
   "cell_type": "code",
   "execution_count": 2,
   "metadata": {
    "collapsed": true
   },
   "outputs": [],
   "source": [
    "import pandas as pd\n",
    "import numpy as np\n",
    "import re\n",
    "import seaborn as sns\n",
    "from matplotlib import pyplot as plt\n",
    "from sklearn.model_selection import (train_test_split, cross_val_score)\n",
    "from sklearn.preprocessing import (PolynomialFeatures, FunctionTransformer, StandardScaler)\n",
    "from sklearn.pipeline import (make_pipeline, make_union, Pipeline, FeatureUnion)\n",
    "from sklearn.linear_model import LinearRegression\n",
    "from sklearn.metrics import mean_squared_error\n",
    "from sklearn.neural_network import MLPRegressor"
   ]
  },
  {
   "cell_type": "code",
   "execution_count": 3,
   "metadata": {},
   "outputs": [
    {
     "data": {
      "image/png": "[encoded data removed]",
      "text/plain": [
       "<matplotlib.figure.Figure at 0x1ce0d5e6fd0>"
      ]
     },
     "metadata": {},
     "output_type": "display_data"
    }
   ],
   "source": [
    "# Reference for performace measured by reference function. For a term |y_test - y_predict| / (|y_test| + |y_predict|) * 2 * 100,\n",
    "# we look at when y_predict = alpha * y_test. Look at term as a function of alpha.\n",
    "\n",
    "alpha = np.arange(0.0, 6.0, 0.1)\n",
    "num = np.abs(1 - alpha)\n",
    "denom = 1 + np.abs(alpha)\n",
    "smapeVals = num / denom * 2 * 100\n",
    "\n",
    "plt.plot(alpha, smapeVals)\n",
    "plt.show()"
   ]
  },
  {
   "cell_type": "code",
   "execution_count": 4,
   "metadata": {},
   "outputs": [
    {
     "data": {
      "text/plain": [
       "(145063, 551)"
      ]
     },
     "execution_count": 4,
     "metadata": {},
     "output_type": "execute_result"
    }
   ],
   "source": [
    "all_df = pd.read_csv('train_1.csv')\n",
    "all_df.shape"
   ]
  },
  {
   "cell_type": "code",
   "execution_count": 5,
   "metadata": {
    "collapsed": true
   },
   "outputs": [],
   "source": [
    "# For now, just set all NaN to 0.\n",
    "\n",
    "all_df.fillna(0, inplace = True)"
   ]
  },
  {
   "cell_type": "code",
   "execution_count": 6,
   "metadata": {
    "collapsed": true
   },
   "outputs": [],
   "source": [
    "futureT = 64\n",
    "\n",
    "X_all = all_df.drop('Page', axis = 1).values[:, :-futureT]\n",
    "Y_all = all_df.drop('Page', axis = 1).values[:, -futureT:]"
   ]
  },
  {
   "cell_type": "code",
   "execution_count": 7,
   "metadata": {},
   "outputs": [
    {
     "name": "stdout",
     "output_type": "stream",
     "text": [
      "X_train.shape =  (65118, 486) \tX_valid.shape =  (32074, 486) \tX_test.shape =  (47871, 486)\n",
      "Y_train.shape =  (65118, 64) \tY_valid.shape =  (32074, 64) \tY_test.shape =  (47871, 64)\n"
     ]
    }
   ],
   "source": [
    "X_trainvalid, X_test, Y_trainvalid, Y_test = train_test_split(X_all, Y_all, test_size = 0.33, random_state = 32)\n",
    "X_train, X_valid, Y_train, Y_valid = train_test_split(X_trainvalid, Y_trainvalid, test_size = 0.33, random_state = 35)\n",
    "\n",
    "print('X_train.shape = ', X_train.shape, '\\tX_valid.shape = ', X_valid.shape, '\\tX_test.shape = ', X_test.shape)\n",
    "print('Y_train.shape = ', Y_train.shape, '\\tY_valid.shape = ', Y_valid.shape, '\\tY_test.shape = ', Y_test.shape)"
   ]
  },
  {
   "cell_type": "code",
   "execution_count": 128,
   "metadata": {},
   "outputs": [],
   "source": [
    "def smape(Y_predict, Y_test):\n",
    "    result = np.linalg.norm(Y_predict - Y_test, axis = 1)\n",
    "    result = np.abs(result)\n",
    "    denom = np.linalg.norm(Y_predict, axis = 1)\n",
    "    denom += np.linalg.norm(Y_test, axis = 1)\n",
    "    result /= denom\n",
    "    result *= 100 * 2\n",
    "    result = np.mean(result)\n",
    "    return result\n",
    "\n",
    "def smape_scorer(estimator, X, Y):\n",
    "    Ypredict = estimator.predict(X)\n",
    "    result = smape(Y, Ypredict)\n",
    "    return -result\n",
    "\n",
    "def window_features(X, nWindows = 2, windowSize = 64):\n",
    "    nSamples, nFeatures = X.shape\n",
    "    # Make a view from X that is a 3d array of size (nSamples, windowSize, nWindows). This gives a view\n",
    "    # of each window in X.\n",
    "    X_window = nFeatures - 1 - np.arange(windowSize)[:, np.newaxis] - windowSize * np.arange(nWindows)\n",
    "    X_window = X[:, X_window]\n",
    "    \n",
    "    # Now extract features for X and for each window.\n",
    "    all_mean = np.mean(X, axis = 1, keepdims = True)\n",
    "    features = all_mean.copy()\n",
    "    newCols = np.mean(X_window, axis = 1) # window means\n",
    "    features = np.hstack((features, newCols))\n",
    "    \n",
    "    return features\n",
    "\n",
    "def window_weights(all_mean, window_means, k = 1, epsilon = 1e-6):\n",
    "    weights = window_means / (epsilon + all_mean)\n",
    "    weights = np.exp(-k * weights)\n",
    "    return weights\n",
    "    \n",
    "def all_features(X, nWindows = 2, windowSize = 64, k = 1, epsilon = 1e-4):\n",
    "    nSamples, nTimes = X.shape\n",
    "    windFeatures = window_features(X, nWindows, windowSize)\n",
    "    weights = window_weights(windFeatures[:,0].reshape(-1,1), windFeatures[:, 1:1+nWindows], k, epsilon)\n",
    "    weightedFeatures = windFeatures[:, :, np.newaxis] * weights[:, np.newaxis, :]\n",
    "    weightedFeatures = weightedFeatures.reshape(nSamples, -1)\n",
    "    windFeatures = np.hstack((windFeatures, weightedFeatures))\n",
    "    return windFeatures"
   ]
  },
  {
   "cell_type": "code",
   "execution_count": 135,
   "metadata": {},
   "outputs": [
    {
     "name": "stdout",
     "output_type": "stream",
     "text": [
      "newFeatures.shape =  (65118, 3) \tweights.shape =  (65118, 2) \tallFeatures.shape =  (65118, 9)\n"
     ]
    }
   ],
   "source": [
    "# Look at feature data.\n",
    "\n",
    "newFeatures = window_features(X_train)\n",
    "weights = window_weights(newFeatures[:, 0].reshape(-1,1), newFeatures[:, 1:3])\n",
    "allFeatures = all_features(X_train)\n",
    "print('newFeatures.shape = ', newFeatures.shape, '\\tweights.shape = ', weights.shape, '\\tallFeatures.shape = ', allFeatures.shape)"
   ]
  },
  {
   "cell_type": "code",
   "execution_count": 130,
   "metadata": {},
   "outputs": [
    {
     "name": "stdout",
     "output_type": "stream",
     "text": [
      "(65118, 6)\n"
     ]
    },
    {
     "data": {
      "image/png": "[encoded data removed]",
      "text/plain": [
       "<matplotlib.figure.Figure at 0x1ce0d7ab780>"
      ]
     },
     "metadata": {},
     "output_type": "display_data"
    }
   ],
   "source": [
    "# Let's look at linear correlations.\n",
    "nSamples, nTimes = X_train.shape\n",
    "Y_mean = Y_train.mean(axis = 1, keepdims = True)\n",
    "weightFeatures = newFeatures[:, :, np.newaxis] * weights[:, np.newaxis, :]\n",
    "weightFeatures = weightFeatures.reshape((nSamples, -1))\n",
    "print(weightFeatures.shape)\n",
    "corr_vars = np.hstack((Y_mean, newFeatures, weightFeatures)).T\n",
    "corr_names = ['Y', 'allM', 'M1', 'M2', 'allMW1', 'M1W1', 'M2W1', 'AllMW2', 'M1W2', 'M2W2']\n",
    "corr_matrix = np.corrcoef(corr_vars)\n",
    "sns.heatmap(corr_matrix, xticklabels = corr_names, yticklabels = corr_names)\n",
    "plt.show()"
   ]
  },
  {
   "cell_type": "code",
   "execution_count": 138,
   "metadata": {},
   "outputs": [
    {
     "name": "stdout",
     "output_type": "stream",
     "text": [
      "Just window features:\n",
      "Cross val score =  124.250165845 +- 4.26721395276\n",
      "Including weighted window features:\n",
      "Cross val score =  130.887036909 +- 2.97528593841\n",
      "Including weighted window features:\n",
      "Cross val score =  127.947999872 +- 3.63557538208\n"
     ]
    }
   ],
   "source": [
    "# Now let's look at a simple linear models.\n",
    "\n",
    "# First just the window features.\n",
    "\n",
    "model = Pipeline([ ('pre', FunctionTransformer(window_features)),\n",
    "                   ('linear', LinearRegression()) ])\n",
    "scores = - cross_val_score(model, X_train, Y_train, scoring = smape_scorer)\n",
    "print('Just window features:\\nCross val score = ', scores.mean(), '+-', scores.std())\n",
    "\n",
    "# Now weighted features.\n",
    "\n",
    "model = Pipeline([ ('pre', FunctionTransformer(all_features)),\n",
    "                   ('linear', LinearRegression()) ])\n",
    "scores = - cross_val_score(model, X_train, Y_train, scoring = smape_scorer)\n",
    "print('Including weighted window features:\\nCross val score = ', scores.mean(), '+-', scores.std())\n",
    "\n",
    "# Now just use high linear correlations.\n",
    "model = Pipeline([ ('pre', FunctionTransformer(all_features)),\n",
    "                   ('highcorr', FunctionTransformer(lambda X: X[:, [0,1,5,8]])),\n",
    "                   ('linear', LinearRegression()) ])\n",
    "scores = - cross_val_score(model, X_train, Y_train, scoring = smape_scorer)\n",
    "print('Including weighted window features:\\nCross val score = ', scores.mean(), '+-', scores.std())"
   ]
  },
  {
   "cell_type": "code",
   "execution_count": null,
   "metadata": {
    "collapsed": true
   },
   "outputs": [],
   "source": []
  }
 ],
 "metadata": {
  "kernelspec": {
   "display_name": "Python 3",
   "language": "python",
   "name": "python3"
  },
  "language_info": {
   "codemirror_mode": {
    "name": "ipython",
    "version": 3
   },
   "file_extension": ".py",
   "mimetype": "text/x-python",
   "name": "python",
   "nbconvert_exporter": "python",
   "pygments_lexer": "ipython3",
   "version": "3.5.2"
  }
 },
 "nbformat": 4,
 "nbformat_minor": 2
}
