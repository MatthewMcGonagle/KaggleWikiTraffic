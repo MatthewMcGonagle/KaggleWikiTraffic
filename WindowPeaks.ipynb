{
 "cells": [
  {
   "cell_type": "code",
   "execution_count": 1,
   "metadata": {
    "collapsed": true
   },
   "outputs": [],
   "source": [
    "# The idea of this notebook is to keep track of averages, etc for some number of past windows (e.g. two past windows). We also\n",
    "# keep track of peak information in EACH window. When there are no peaks in the most recent past window, then it should dominate\n",
    "# the forecasting. When it has peaks, it must share forecasting with earlier windows, and so on.\n",
    "\n",
    "# Note that key_1.csv shows that we are supposed to predict about 2 months worth of future data based on data\n",
    "# lasting from 2015-07-01 to 2016-12-31."
   ]
  },
  {
   "cell_type": "code",
   "execution_count": 2,
   "metadata": {
    "collapsed": true
   },
   "outputs": [],
   "source": [
    "import pandas as pd\n",
    "import numpy as np\n",
    "import re\n",
    "from matplotlib import pyplot as plt\n",
    "from sklearn.model_selection import (train_test_split, cross_val_score)\n",
    "from sklearn.preprocessing import (PolynomialFeatures, FunctionTransformer, StandardScaler)\n",
    "from sklearn.pipeline import (make_pipeline, make_union, Pipeline, FeatureUnion)\n",
    "from sklearn.linear_model import LinearRegression\n",
    "from sklearn.metrics import mean_squared_error\n",
    "from sklearn.neural_network import MLPRegressor\n",
    "from sklearn.decomposition import PCA"
   ]
  },
  {
   "cell_type": "code",
   "execution_count": 3,
   "metadata": {},
   "outputs": [
    {
     "data": {
      "image/png": "[encoded data removed]",
      "text/plain": [
       "<matplotlib.figure.Figure at 0x1f96857f358>"
      ]
     },
     "metadata": {},
     "output_type": "display_data"
    }
   ],
   "source": [
    "# Reference for performace measured by reference function. For a term |y_test - y_predict| / (|y_test| + |y_predict|) * 2 * 100,\n",
    "# we look at when y_predict = alpha * y_test. Look at term as a function of alpha.\n",
    "\n",
    "alpha = np.arange(0.0, 6.0, 0.1)\n",
    "num = np.abs(1 - alpha)\n",
    "denom = 1 + np.abs(alpha)\n",
    "smapeVals = num / denom * 2 * 100\n",
    "\n",
    "plt.plot(alpha, smapeVals)\n",
    "plt.show()"
   ]
  },
  {
   "cell_type": "code",
   "execution_count": 4,
   "metadata": {},
   "outputs": [
    {
     "data": {
      "text/plain": [
       "(145063, 551)"
      ]
     },
     "execution_count": 4,
     "metadata": {},
     "output_type": "execute_result"
    }
   ],
   "source": [
    "all_df = pd.read_csv('train_1.csv')\n",
    "all_df.shape"
   ]
  },
  {
   "cell_type": "code",
   "execution_count": 5,
   "metadata": {
    "collapsed": true
   },
   "outputs": [],
   "source": [
    "# For now, just set all NaN to 0.\n",
    "\n",
    "all_df.fillna(0, inplace = True)"
   ]
  },
  {
   "cell_type": "code",
   "execution_count": 6,
   "metadata": {
    "collapsed": true
   },
   "outputs": [],
   "source": [
    "futureT = 64\n",
    "\n",
    "X_all = all_df.drop('Page', axis = 1).values[:, :-futureT]\n",
    "Y_all = all_df.drop('Page', axis = 1).values[:, -futureT:]"
   ]
  },
  {
   "cell_type": "code",
   "execution_count": 7,
   "metadata": {},
   "outputs": [
    {
     "name": "stdout",
     "output_type": "stream",
     "text": [
      "X_train.shape =  (65118, 486) \tX_valid.shape =  (32074, 486) \tX_test.shape =  (47871, 486)\n",
      "Y_train.shape =  (65118, 64) \tY_valid.shape =  (32074, 64) \tY_test.shape =  (47871, 64)\n"
     ]
    }
   ],
   "source": [
    "X_trainvalid, X_test, Y_trainvalid, Y_test = train_test_split(X_all, Y_all, test_size = 0.33, random_state = 32)\n",
    "X_train, X_valid, Y_train, Y_valid = train_test_split(X_trainvalid, Y_trainvalid, test_size = 0.33, random_state = 35)\n",
    "\n",
    "print('X_train.shape = ', X_train.shape, '\\tX_valid.shape = ', X_valid.shape, '\\tX_test.shape = ', X_test.shape)\n",
    "print('Y_train.shape = ', Y_train.shape, '\\tY_valid.shape = ', Y_valid.shape, '\\tY_test.shape = ', Y_test.shape)"
   ]
  },
  {
   "cell_type": "code",
   "execution_count": 36,
   "metadata": {
    "collapsed": true
   },
   "outputs": [],
   "source": [
    "def smape(Y_predict, Y_test):\n",
    "    result = np.linalg.norm(Y_predict - Y_test, axis = 1)\n",
    "    result = np.abs(result)\n",
    "    denom = np.linalg.norm(Y_predict, axis = 1)\n",
    "    denom += np.linalg.norm(Y_test, axis = 1)\n",
    "    result /= denom\n",
    "    result *= 100 * 2\n",
    "    result = np.mean(result)\n",
    "    return result\n",
    "\n",
    "def smape_scorer(estimator, X, Y):\n",
    "    Ypredict = estimator.predict(X)\n",
    "    result = smape(Y, Ypredict)\n",
    "    return -result\n",
    "\n",
    "# User should make sure windowSize * nWindows + peakShift doesn't exceed size of axis 1 for X (i.e. the width of X).\n",
    "\n",
    "def window_features(X, windowSize = 64, nWindows = 2, peakShift = 30):\n",
    "    Xheight, Xwidth = X.shape\n",
    "    result = np.empty((Xheight,0))\n",
    "    \n",
    "    for i in range(nWindows):\n",
    "        X_window = X[:, -(i+1) * windowSize -1: -i * windowSize - 1]\n",
    "        newFeature = np.mean(X_window, axis = 1, keepdims = True)\n",
    "        result = np.hstack((result, newFeature))\n",
    "        newFeature = np.std(X_window, axis = 1, keepdims = True)\n",
    "        result = np.hstack((result, newFeature))\n",
    "        newFeature = np.dot(X_window, np.arange(windowSize)).reshape(-1,1)\n",
    "        result = np.hstack((result, newFeature))\n",
    "        \n",
    "        peak_window = X_window - X[:, -(i+1) * windowSize - 1 - peakShift : -i * windowSize - 1 - peakShift]\n",
    "        peak_window = np.abs(peak_window)\n",
    "        newFeature = np.mean(peak_window, axis = 1, keepdims = True)\n",
    "        result = np.hstack((result, newFeature))\n",
    "        newFeature = np.mean(peak_window, axis = 1, keepdims = True)\n",
    "        result = np.hstack((result, newFeature))\n",
    "        \n",
    "        peak_window[peak_window > 0] = 1.0\n",
    "        newFeature = np.sum(peak_window, axis = 1, keepdims = True)\n",
    "        result = np.hstack((result, newFeature))\n",
    "        \n",
    "    return result"
   ]
  },
  {
   "cell_type": "code",
   "execution_count": 37,
   "metadata": {},
   "outputs": [
    {
     "name": "stdout",
     "output_type": "stream",
     "text": [
      "X_train.shape =  (65118, 486)\n",
      "windowCols.shape =  (65118, 12)\n"
     ]
    }
   ],
   "source": [
    "# Look at shapes of feature functions.\n",
    "\n",
    "windowCols = window_features(X_train)\n",
    "\n",
    "print('X_train.shape = ', X_train.shape)\n",
    "print('windowCols.shape = ', windowCols.shape)"
   ]
  },
  {
   "cell_type": "code",
   "execution_count": 42,
   "metadata": {},
   "outputs": [
    {
     "name": "stdout",
     "output_type": "stream",
     "text": [
      "Cross validation score =  118.294621415 \tTest Score =  119.858100298\n"
     ]
    }
   ],
   "source": [
    "# Try a simple linear Regression.\n",
    "\n",
    "model = Pipeline([ ('windows', FunctionTransformer(window_features)),\n",
    "                   ('poly', PolynomialFeatures(2)),\n",
    "                   ('linear', LinearRegression()) ])\n",
    "score = -cross_val_score(model, X_trainvalid, Y_trainvalid, scoring = smape_scorer)\n",
    "score = np.mean(score)\n",
    "model.fit(X_trainvalid, Y_trainvalid)\n",
    "Y_predict = model.predict(X_test)\n",
    "test_score = smape(Y_predict, Y_test)\n",
    "print('Cross validation score = ', score, '\\tTest Score = ', test_score)"
   ]
  },
  {
   "cell_type": "code",
   "execution_count": null,
   "metadata": {},
   "outputs": [
    {
     "name": "stderr",
     "output_type": "stream",
     "text": [
      "C:\\Users\\Matthew\\Miniconda3\\lib\\site-packages\\sklearn\\neural_network\\multilayer_perceptron.py:565: UserWarning: Training interrupted by user.\n",
      "  warnings.warn(\"Training interrupted by user.\")\n"
     ]
    }
   ],
   "source": [
    "# Try a neural network.\n",
    "\n",
    "model = Pipeline([ ('windows', FunctionTransformer(window_features)),\n",
    "                   ('poly', PolynomialFeatures(2)),\n",
    "                   ('neural', MLPRegressor(hidden_layer_sizes = (30, 10))) ])\n",
    "\n",
    "score = -cross_val_score(model, X_trainvalid, Y_trainvalid, scoring = smape_scorer)\n",
    "score = np.mean(score)\n",
    "model.fit(X_trainvalid, Y_trainvalid)\n",
    "Y_predict = model.predict(X_test)\n",
    "test_score = smape(Y_predict, Y_test)\n",
    "print('Cross validation score = ', score, '\\tTest Score = ', test_score)"
   ]
  },
  {
   "cell_type": "code",
   "execution_count": null,
   "metadata": {
    "collapsed": true
   },
   "outputs": [],
   "source": []
  }
 ],
 "metadata": {
  "kernelspec": {
   "display_name": "Python 3",
   "language": "python",
   "name": "python3"
  },
  "language_info": {
   "codemirror_mode": {
    "name": "ipython",
    "version": 3
   },
   "file_extension": ".py",
   "mimetype": "text/x-python",
   "name": "python",
   "nbconvert_exporter": "python",
   "pygments_lexer": "ipython3",
   "version": "3.5.2"
  }
 },
 "nbformat": 4,
 "nbformat_minor": 2
}
